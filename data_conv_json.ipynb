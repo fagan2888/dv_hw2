{
  "nbformat": 4,
  "nbformat_minor": 0,
  "metadata": {
    "colab": {
      "name": "data_conv_json.ipynb",
      "version": "0.3.2",
      "provenance": []
    },
    "kernelspec": {
      "name": "python3",
      "display_name": "Python 3"
    }
  },
  "cells": [
    {
      "cell_type": "code",
      "metadata": {
        "id": "lKippSLQmaIx",
        "colab_type": "code",
        "colab": {
          "resources": {
            "http://localhost:8080/nbextensions/google.colab/files.js": {
              "data": "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",
              "ok": true,
              "headers": [
                [
                  "content-type",
                  "application/javascript"
                ]
              ],
              "status": 200,
              "status_text": ""
            }
          },
          "base_uri": "https://localhost:8080/",
          "height": 111
        },
        "outputId": "fa6bed2a-0f8e-4803-9282-1dbeb57f2bdc"
      },
      "source": [
        "from google.colab import files\n",
        "files.upload()"
      ],
      "execution_count": 1,
      "outputs": [
        {
          "output_type": "display_data",
          "data": {
            "text/html": [
              "\n",
              "     <input type=\"file\" id=\"files-c1f24270-504c-4c64-94d8-739fac2f3212\" name=\"files[]\" multiple disabled />\n",
              "     <output id=\"result-c1f24270-504c-4c64-94d8-739fac2f3212\">\n",
              "      Upload widget is only available when the cell has been executed in the\n",
              "      current browser session. Please rerun this cell to enable.\n",
              "      </output>\n",
              "      <script src=\"/nbextensions/google.colab/files.js\"></script> "
            ],
            "text/plain": [
              "<IPython.core.display.HTML object>"
            ]
          },
          "metadata": {
            "tags": []
          }
        },
        {
          "output_type": "stream",
          "text": [
            "Saving b82_stops_locn.csv to b82_stops_locn.csv\n"
          ],
          "name": "stdout"
        },
        {
          "output_type": "execute_result",
          "data": {
            "text/plain": [
              "{'b82_stops_locn.csv': b',stop_id,stop_name,stop_desc,stop_lat,stop_lon,zone_id,stop_url,location_type,parent_station\\n323,300418,CROPSEY AV/BAY 49 ST,,40.586092,-73.987889,,,0,\\n324,300419,CROPSEY AV/BAY 46 ST,,40.588211,-73.989591,,,0,\\n325,300420,CROPSEY AV/BAY 44 ST,,40.58941,-73.990563,,,0,\\n326,300421,CROPSEY AV/26 AV,,40.590742,-73.99164,,,0,\\n327,300422,CROPSEY AV/25 AV,,40.592279,-73.992878,,,0,\\n328,300424,CROPSEY AV/23 AV,,40.59596,-73.99691,,,0,\\n329,300427,BAY PY/BATH AV,,40.598406,-73.997389,,,0,\\n330,300428,BAY PY/BENSON AV,,40.600434,-73.995232,,,0,\\n331,300429,BAY PY/86 ST,,40.602335,-73.993317,,,0,\\n332,300431,BAY PY/80 ST,,40.60552,-73.989941,,,0,\\n333,300432,BAY PY/78 ST,,40.606365999999994,-73.98918499999999,,,0,\\n334,300433,KINGS HY/STILLWELL AV,,40.605901,-73.986599,,,0,\\n335,300434,KINGS HY/W 11 ST,,40.605565999999996,-73.984352,,,0,\\n336,300437,KINGS HY/W 5 ST,,40.604796,-73.977704,,,0,\\n337,300438,KINGS HY/W 3 ST,,40.604593,-73.976322,,,0,\\n338,300440,KINGS HY/MC DONALD AV,,40.604153000000004,-73.972421,,,0,\\n339,300441,KINGS HY/E 3 ST,,40.604424,-73.969576,,,0,\\n340,300442,KINGS HY/OCEAN PY,,40.605439000000004,-73.967361,,,0,\\n341,300443,KINGS HY/E 7 ST,,40.606182000000004,-73.96526800000001,,,0,\\n342,300445,KINGS HY/CONEY ISLAND AV,,40.607467,-73.961376,,,0,\\n343,300446,KINGS HY/E 13 ST,,40.607908,-73.960227,,,0,\\n345,300448,KINGS HY/E 18 ST,,40.610009999999996,-73.95522199999999,,,0,\\n346,300449,KINGS HY/OCEAN AV,,40.61054,-73.95373199999999,,,0,\\n347,300450,KINGS HY/E 22 ST,,40.611336,-73.951181,,,0,\\n348,300451,KINGS HY/BEDFORD AV,,40.612831,-73.949277,,,0,\\n349,300452,KINGS HY/E 27 ST,,40.614047,-73.947586,,,0,\\n350,300454,KINGS HY/NOSTRAND AV,,40.615952,-73.944879,,,0,\\n351,300455,KINGS HY/AV N,,40.617286,-73.943444,,,0,\\n352,300456,KINGS HY/NEW YORK AV,,40.61878,-73.942175,,,0,\\n353,300458,KINGS HY/E 37 ST,,40.621437,-73.939312,,,0,\\n421,300560,FLATLANDS AV/RALPH AV,,40.632435,-73.917964,,,0,\\n422,300563,FLATLANDS AV/E 80 ST,,40.635669,-73.91283299999999,,,0,\\n423,300564,FLATLANDS AV/E 82 ST,,40.636307,-73.911845,,,0,\\n424,300565,FLATLANDS AV/E 84 ST,,40.637481,-73.910039,,,0,\\n425,300566,FLATLANDS AV/E 86 ST,,40.638457,-73.90852,,,0,\\n426,300567,FLATLANDS AV/E 88 ST,,40.6394,-73.907063,,,0,\\n427,300568,FLATLANDS AV/REMSEN AV,,40.640161,-73.906024,,,0,\\n428,300569,FLATLANDS AV/E 92 ST,,40.641223,-73.90424,,,0,\\n429,300570,FLATLANDS AV/E 94 ST,,40.642232,-73.902689,,,0,\\n2170,304052,FLATLANDS AV/E 53 ST,,40.628107,-73.924526,,,0,\\n2171,304053,FLATLANDS AV/E 57 ST,,40.630435,-73.920928,,,0,\\n2172,304071,FLATLANDS AV/ E 103 ST,,40.646732,-73.895698,,,0,\\n2173,304072,FLATLANDS AV/E 105 ST,,40.647692,-73.894212,,,0,\\n2174,304073,FLATLANDS AV/E 108 ST,,40.64875,-73.892574,,,0,\\n2175,304077,PENNSYLVANIA AV/FLATLANDS AV,,40.652279,-73.886147,,,0,\\n2176,304078,PENNSYLVANIA AV/VANDALIA AV,,40.650381,-73.884737,,,0,\\n2882,306382,GLENWOOD RD/E 100 ST,,40.646791,-73.899644,,,0,\\n3094,306949,FLATLANDS AV/ALABAMA AV,,40.651737,-73.888339,,,0,\\n3116,307005,FLATLANDS AV/LOUISIANA AV,,40.650979,-73.890005,,,0,\\n3152,307107,PENNSYLVANIA AV/SEAVIEW AV,,40.64438,-73.878008,,,0,\\n3176,307158,KINGS HY/FLATBUSH AV,,40.622325,-73.936666,,,0,\\n3198,307206,PENNSYLVANIA AV/GENEVA LOOP,,40.646144,-73.88011,,,0,\\n3262,307432,E 96 ST/FLATLANDS AV,,40.643356,-73.901563,,,0,\\n3286,307508,FLATLANDS AV/UTICA AV,,40.625963,-73.927911,,,0,\\n3300,307534,FLATLANDS AV/FLATBUSH AV,,40.621431,-73.935012,,,0,\\n3301,307535,FLATLANDS AV/TROY AV,,40.622865000000004,-73.932785,,,0,\\n3303,307539,PENNSYLVANIA AV/SCHROEDERS AV,,40.647608,-73.881733,,,0,\\n3322,307591,FLATLANDS AV/SCHENECTADY AV,,40.624296,-73.930583,,,0,\\n3386,307742,KINGS HY/EAST 16 ST,,40.609038,-73.957521,,,0,\\n3506,308004,GLENWOOD RD/ROCKAWAY PY,,40.645456,-73.901761,,,0,\\n3511,308017,STILLWELL AV/NEPTUNE AV,,40.579042,-73.98177700000001,,,0,\\n3522,308047,FLATLANDS AV /E 77 ST,,40.633944,-73.915509,,,0,\\n3606,308195,KINGS HY/W 7 ST,,40.605134,-73.980387,,,0,\\n3712,308365,BAY PK/83 ST,,40.603843,-73.991688,,,0,\\n3727,308410,CROPSEY AV/HART PL,,40.58137,-73.98565699999999,,,0,\\n3728,308411,CROPSEY AV/CANAL AV,,40.583358000000004,-73.986269,,,0,\\n3757,308478,STILLWELL TERMINAL/ BUS LOOP,,40.577079,-73.981296,,,0,\\n3792,308595,CROPSEY AV/BAY 31 ST,,40.597032,-73.998301,,,0,\\n4511,801192,CROPSEY AV/BAY 37 ST,,40.593773999999996,-73.994363,,,0,\\n4561,901080,SEAVIEW AV/PENNSYLVANIA AV,,40.642967999999996,-73.87826899999999,,,0,\\n4571,901096,KINGS HY/FRASER SQ,,40.619832,-73.940893,,,0,\\n'}"
            ]
          },
          "metadata": {
            "tags": []
          },
          "execution_count": 1
        }
      ]
    },
    {
      "cell_type": "code",
      "metadata": {
        "id": "e4-tmiZhmdPh",
        "colab_type": "code",
        "colab": {}
      },
      "source": [
        "import pandas as pd"
      ],
      "execution_count": 0,
      "outputs": []
    },
    {
      "cell_type": "code",
      "metadata": {
        "id": "b4Gs-dE5mpQf",
        "colab_type": "code",
        "colab": {}
      },
      "source": [
        "df = pd.read_csv('b82_stops_locn.csv')"
      ],
      "execution_count": 0,
      "outputs": []
    },
    {
      "cell_type": "code",
      "metadata": {
        "id": "XO3Ah8kLmtgH",
        "colab_type": "code",
        "colab": {
          "base_uri": "https://localhost:8080/",
          "height": 204
        },
        "outputId": "45a36eff-59b8-483a-cec4-a3c1a0f44f9b"
      },
      "source": [
        "df.head()"
      ],
      "execution_count": 4,
      "outputs": [
        {
          "output_type": "execute_result",
          "data": {
            "text/html": [
              "<div>\n",
              "<style scoped>\n",
              "    .dataframe tbody tr th:only-of-type {\n",
              "        vertical-align: middle;\n",
              "    }\n",
              "\n",
              "    .dataframe tbody tr th {\n",
              "        vertical-align: top;\n",
              "    }\n",
              "\n",
              "    .dataframe thead th {\n",
              "        text-align: right;\n",
              "    }\n",
              "</style>\n",
              "<table border=\"1\" class=\"dataframe\">\n",
              "  <thead>\n",
              "    <tr style=\"text-align: right;\">\n",
              "      <th></th>\n",
              "      <th>Unnamed: 0</th>\n",
              "      <th>stop_id</th>\n",
              "      <th>stop_name</th>\n",
              "      <th>stop_desc</th>\n",
              "      <th>stop_lat</th>\n",
              "      <th>stop_lon</th>\n",
              "      <th>zone_id</th>\n",
              "      <th>stop_url</th>\n",
              "      <th>location_type</th>\n",
              "      <th>parent_station</th>\n",
              "    </tr>\n",
              "  </thead>\n",
              "  <tbody>\n",
              "    <tr>\n",
              "      <th>0</th>\n",
              "      <td>323</td>\n",
              "      <td>300418</td>\n",
              "      <td>CROPSEY AV/BAY 49 ST</td>\n",
              "      <td>NaN</td>\n",
              "      <td>40.586092</td>\n",
              "      <td>-73.987889</td>\n",
              "      <td>NaN</td>\n",
              "      <td>NaN</td>\n",
              "      <td>0</td>\n",
              "      <td>NaN</td>\n",
              "    </tr>\n",
              "    <tr>\n",
              "      <th>1</th>\n",
              "      <td>324</td>\n",
              "      <td>300419</td>\n",
              "      <td>CROPSEY AV/BAY 46 ST</td>\n",
              "      <td>NaN</td>\n",
              "      <td>40.588211</td>\n",
              "      <td>-73.989591</td>\n",
              "      <td>NaN</td>\n",
              "      <td>NaN</td>\n",
              "      <td>0</td>\n",
              "      <td>NaN</td>\n",
              "    </tr>\n",
              "    <tr>\n",
              "      <th>2</th>\n",
              "      <td>325</td>\n",
              "      <td>300420</td>\n",
              "      <td>CROPSEY AV/BAY 44 ST</td>\n",
              "      <td>NaN</td>\n",
              "      <td>40.589410</td>\n",
              "      <td>-73.990563</td>\n",
              "      <td>NaN</td>\n",
              "      <td>NaN</td>\n",
              "      <td>0</td>\n",
              "      <td>NaN</td>\n",
              "    </tr>\n",
              "    <tr>\n",
              "      <th>3</th>\n",
              "      <td>326</td>\n",
              "      <td>300421</td>\n",
              "      <td>CROPSEY AV/26 AV</td>\n",
              "      <td>NaN</td>\n",
              "      <td>40.590742</td>\n",
              "      <td>-73.991640</td>\n",
              "      <td>NaN</td>\n",
              "      <td>NaN</td>\n",
              "      <td>0</td>\n",
              "      <td>NaN</td>\n",
              "    </tr>\n",
              "    <tr>\n",
              "      <th>4</th>\n",
              "      <td>327</td>\n",
              "      <td>300422</td>\n",
              "      <td>CROPSEY AV/25 AV</td>\n",
              "      <td>NaN</td>\n",
              "      <td>40.592279</td>\n",
              "      <td>-73.992878</td>\n",
              "      <td>NaN</td>\n",
              "      <td>NaN</td>\n",
              "      <td>0</td>\n",
              "      <td>NaN</td>\n",
              "    </tr>\n",
              "  </tbody>\n",
              "</table>\n",
              "</div>"
            ],
            "text/plain": [
              "   Unnamed: 0  stop_id  ... location_type  parent_station\n",
              "0         323   300418  ...             0             NaN\n",
              "1         324   300419  ...             0             NaN\n",
              "2         325   300420  ...             0             NaN\n",
              "3         326   300421  ...             0             NaN\n",
              "4         327   300422  ...             0             NaN\n",
              "\n",
              "[5 rows x 10 columns]"
            ]
          },
          "metadata": {
            "tags": []
          },
          "execution_count": 4
        }
      ]
    },
    {
      "cell_type": "code",
      "metadata": {
        "id": "ktxmZa7SmuRL",
        "colab_type": "code",
        "colab": {
          "base_uri": "https://localhost:8080/",
          "height": 102
        },
        "outputId": "5c83e37a-123a-4821-9faf-822719107b4f"
      },
      "source": [
        "bdf = df[['stop_lat', 'stop_lon','stop_name']]\n",
        "bdf.rename(columns = {'stop_lat' : 'latitude', 'stop_lon' : 'longitude'},inplace=True)"
      ],
      "execution_count": 6,
      "outputs": [
        {
          "output_type": "stream",
          "text": [
            "/usr/local/lib/python3.6/dist-packages/pandas/core/frame.py:4025: SettingWithCopyWarning: \n",
            "A value is trying to be set on a copy of a slice from a DataFrame\n",
            "\n",
            "See the caveats in the documentation: http://pandas.pydata.org/pandas-docs/stable/indexing.html#indexing-view-versus-copy\n",
            "  return super(DataFrame, self).rename(**kwargs)\n"
          ],
          "name": "stderr"
        }
      ]
    },
    {
      "cell_type": "code",
      "metadata": {
        "id": "XYuywB1vm2uK",
        "colab_type": "code",
        "colab": {}
      },
      "source": [
        "bdf.to_csv('bus_82_stop_loc.csv')"
      ],
      "execution_count": 0,
      "outputs": []
    },
    {
      "cell_type": "code",
      "metadata": {
        "id": "ikbOOG2qnJ20",
        "colab_type": "code",
        "colab": {}
      },
      "source": [
        "files.download('bus_82_stop_loc.csv')"
      ],
      "execution_count": 0,
      "outputs": []
    },
    {
      "cell_type": "code",
      "metadata": {
        "id": "BXSsKsaXnM9q",
        "colab_type": "code",
        "colab": {
          "base_uri": "https://localhost:8080/",
          "height": 204
        },
        "outputId": "82e76b0a-c664-4a40-c67f-59ccdd8550fc"
      },
      "source": [
        "bdf.head()"
      ],
      "execution_count": 9,
      "outputs": [
        {
          "output_type": "execute_result",
          "data": {
            "text/html": [
              "<div>\n",
              "<style scoped>\n",
              "    .dataframe tbody tr th:only-of-type {\n",
              "        vertical-align: middle;\n",
              "    }\n",
              "\n",
              "    .dataframe tbody tr th {\n",
              "        vertical-align: top;\n",
              "    }\n",
              "\n",
              "    .dataframe thead th {\n",
              "        text-align: right;\n",
              "    }\n",
              "</style>\n",
              "<table border=\"1\" class=\"dataframe\">\n",
              "  <thead>\n",
              "    <tr style=\"text-align: right;\">\n",
              "      <th></th>\n",
              "      <th>latitude</th>\n",
              "      <th>longitude</th>\n",
              "      <th>stop_name</th>\n",
              "    </tr>\n",
              "  </thead>\n",
              "  <tbody>\n",
              "    <tr>\n",
              "      <th>0</th>\n",
              "      <td>40.586092</td>\n",
              "      <td>-73.987889</td>\n",
              "      <td>CROPSEY AV/BAY 49 ST</td>\n",
              "    </tr>\n",
              "    <tr>\n",
              "      <th>1</th>\n",
              "      <td>40.588211</td>\n",
              "      <td>-73.989591</td>\n",
              "      <td>CROPSEY AV/BAY 46 ST</td>\n",
              "    </tr>\n",
              "    <tr>\n",
              "      <th>2</th>\n",
              "      <td>40.589410</td>\n",
              "      <td>-73.990563</td>\n",
              "      <td>CROPSEY AV/BAY 44 ST</td>\n",
              "    </tr>\n",
              "    <tr>\n",
              "      <th>3</th>\n",
              "      <td>40.590742</td>\n",
              "      <td>-73.991640</td>\n",
              "      <td>CROPSEY AV/26 AV</td>\n",
              "    </tr>\n",
              "    <tr>\n",
              "      <th>4</th>\n",
              "      <td>40.592279</td>\n",
              "      <td>-73.992878</td>\n",
              "      <td>CROPSEY AV/25 AV</td>\n",
              "    </tr>\n",
              "  </tbody>\n",
              "</table>\n",
              "</div>"
            ],
            "text/plain": [
              "    latitude  longitude             stop_name\n",
              "0  40.586092 -73.987889  CROPSEY AV/BAY 49 ST\n",
              "1  40.588211 -73.989591  CROPSEY AV/BAY 46 ST\n",
              "2  40.589410 -73.990563  CROPSEY AV/BAY 44 ST\n",
              "3  40.590742 -73.991640      CROPSEY AV/26 AV\n",
              "4  40.592279 -73.992878      CROPSEY AV/25 AV"
            ]
          },
          "metadata": {
            "tags": []
          },
          "execution_count": 9
        }
      ]
    },
    {
      "cell_type": "code",
      "metadata": {
        "id": "0bZjKnvPxhzg",
        "colab_type": "code",
        "colab": {
          "base_uri": "https://localhost:8080/",
          "height": 119
        },
        "outputId": "cb66d91c-561e-444f-f4fd-3dccd90bb27a"
      },
      "source": [
        "bdf['lonlat'] = bdf[['longitude', 'latitude']].values.tolist()"
      ],
      "execution_count": 15,
      "outputs": [
        {
          "output_type": "stream",
          "text": [
            "/usr/local/lib/python3.6/dist-packages/ipykernel_launcher.py:1: SettingWithCopyWarning: \n",
            "A value is trying to be set on a copy of a slice from a DataFrame.\n",
            "Try using .loc[row_indexer,col_indexer] = value instead\n",
            "\n",
            "See the caveats in the documentation: http://pandas.pydata.org/pandas-docs/stable/indexing.html#indexing-view-versus-copy\n",
            "  \"\"\"Entry point for launching an IPython kernel.\n"
          ],
          "name": "stderr"
        }
      ]
    },
    {
      "cell_type": "code",
      "metadata": {
        "id": "f-0s-h-9x30d",
        "colab_type": "code",
        "colab": {
          "base_uri": "https://localhost:8080/",
          "height": 204
        },
        "outputId": "41d0be11-5af2-48b7-e410-29e15b6b176a"
      },
      "source": [
        "bdf.head()"
      ],
      "execution_count": 41,
      "outputs": [
        {
          "output_type": "execute_result",
          "data": {
            "text/html": [
              "<div>\n",
              "<style scoped>\n",
              "    .dataframe tbody tr th:only-of-type {\n",
              "        vertical-align: middle;\n",
              "    }\n",
              "\n",
              "    .dataframe tbody tr th {\n",
              "        vertical-align: top;\n",
              "    }\n",
              "\n",
              "    .dataframe thead th {\n",
              "        text-align: right;\n",
              "    }\n",
              "</style>\n",
              "<table border=\"1\" class=\"dataframe\">\n",
              "  <thead>\n",
              "    <tr style=\"text-align: right;\">\n",
              "      <th></th>\n",
              "      <th>latitude</th>\n",
              "      <th>longitude</th>\n",
              "      <th>stop_name</th>\n",
              "      <th>lonlat</th>\n",
              "    </tr>\n",
              "  </thead>\n",
              "  <tbody>\n",
              "    <tr>\n",
              "      <th>0</th>\n",
              "      <td>40.586092</td>\n",
              "      <td>-73.987889</td>\n",
              "      <td>CROPSEY AV/BAY 49 ST</td>\n",
              "      <td>[-73.987889, 40.586092]</td>\n",
              "    </tr>\n",
              "    <tr>\n",
              "      <th>1</th>\n",
              "      <td>40.588211</td>\n",
              "      <td>-73.989591</td>\n",
              "      <td>CROPSEY AV/BAY 46 ST</td>\n",
              "      <td>[-73.989591, 40.588211]</td>\n",
              "    </tr>\n",
              "    <tr>\n",
              "      <th>2</th>\n",
              "      <td>40.589410</td>\n",
              "      <td>-73.990563</td>\n",
              "      <td>CROPSEY AV/BAY 44 ST</td>\n",
              "      <td>[-73.990563, 40.58941]</td>\n",
              "    </tr>\n",
              "    <tr>\n",
              "      <th>3</th>\n",
              "      <td>40.590742</td>\n",
              "      <td>-73.991640</td>\n",
              "      <td>CROPSEY AV/26 AV</td>\n",
              "      <td>[-73.99164, 40.590742]</td>\n",
              "    </tr>\n",
              "    <tr>\n",
              "      <th>4</th>\n",
              "      <td>40.592279</td>\n",
              "      <td>-73.992878</td>\n",
              "      <td>CROPSEY AV/25 AV</td>\n",
              "      <td>[-73.992878, 40.592279]</td>\n",
              "    </tr>\n",
              "  </tbody>\n",
              "</table>\n",
              "</div>"
            ],
            "text/plain": [
              "    latitude  longitude             stop_name                   lonlat\n",
              "0  40.586092 -73.987889  CROPSEY AV/BAY 49 ST  [-73.987889, 40.586092]\n",
              "1  40.588211 -73.989591  CROPSEY AV/BAY 46 ST  [-73.989591, 40.588211]\n",
              "2  40.589410 -73.990563  CROPSEY AV/BAY 44 ST   [-73.990563, 40.58941]\n",
              "3  40.590742 -73.991640      CROPSEY AV/26 AV   [-73.99164, 40.590742]\n",
              "4  40.592279 -73.992878      CROPSEY AV/25 AV  [-73.992878, 40.592279]"
            ]
          },
          "metadata": {
            "tags": []
          },
          "execution_count": 41
        }
      ]
    },
    {
      "cell_type": "code",
      "metadata": {
        "id": "8fwjmk-iJFaw",
        "colab_type": "code",
        "colab": {}
      },
      "source": [
        "bdf = bdf.sort_values(by = 'latitude',ascending=False)"
      ],
      "execution_count": 0,
      "outputs": []
    },
    {
      "cell_type": "code",
      "metadata": {
        "id": "908YSNchJQtD",
        "colab_type": "code",
        "colab": {
          "base_uri": "https://localhost:8080/",
          "height": 204
        },
        "outputId": "fcfa2e16-2a00-439c-e4d4-2557a3bc6211"
      },
      "source": [
        "bdf.head()"
      ],
      "execution_count": 53,
      "outputs": [
        {
          "output_type": "execute_result",
          "data": {
            "text/html": [
              "<div>\n",
              "<style scoped>\n",
              "    .dataframe tbody tr th:only-of-type {\n",
              "        vertical-align: middle;\n",
              "    }\n",
              "\n",
              "    .dataframe tbody tr th {\n",
              "        vertical-align: top;\n",
              "    }\n",
              "\n",
              "    .dataframe thead th {\n",
              "        text-align: right;\n",
              "    }\n",
              "</style>\n",
              "<table border=\"1\" class=\"dataframe\">\n",
              "  <thead>\n",
              "    <tr style=\"text-align: right;\">\n",
              "      <th></th>\n",
              "      <th>latitude</th>\n",
              "      <th>longitude</th>\n",
              "      <th>stop_name</th>\n",
              "      <th>lonlat</th>\n",
              "    </tr>\n",
              "  </thead>\n",
              "  <tbody>\n",
              "    <tr>\n",
              "      <th>44</th>\n",
              "      <td>40.652279</td>\n",
              "      <td>-73.886147</td>\n",
              "      <td>PENNSYLVANIA AV/FLATLANDS AV</td>\n",
              "      <td>[-73.886147, 40.652279]</td>\n",
              "    </tr>\n",
              "    <tr>\n",
              "      <th>47</th>\n",
              "      <td>40.651737</td>\n",
              "      <td>-73.888339</td>\n",
              "      <td>FLATLANDS AV/ALABAMA AV</td>\n",
              "      <td>[-73.888339, 40.651737]</td>\n",
              "    </tr>\n",
              "    <tr>\n",
              "      <th>48</th>\n",
              "      <td>40.650979</td>\n",
              "      <td>-73.890005</td>\n",
              "      <td>FLATLANDS AV/LOUISIANA AV</td>\n",
              "      <td>[-73.890005, 40.650979]</td>\n",
              "    </tr>\n",
              "    <tr>\n",
              "      <th>45</th>\n",
              "      <td>40.650381</td>\n",
              "      <td>-73.884737</td>\n",
              "      <td>PENNSYLVANIA AV/VANDALIA AV</td>\n",
              "      <td>[-73.884737, 40.650381]</td>\n",
              "    </tr>\n",
              "    <tr>\n",
              "      <th>43</th>\n",
              "      <td>40.648750</td>\n",
              "      <td>-73.892574</td>\n",
              "      <td>FLATLANDS AV/E 108 ST</td>\n",
              "      <td>[-73.892574, 40.64875]</td>\n",
              "    </tr>\n",
              "  </tbody>\n",
              "</table>\n",
              "</div>"
            ],
            "text/plain": [
              "     latitude  longitude                     stop_name                   lonlat\n",
              "44  40.652279 -73.886147  PENNSYLVANIA AV/FLATLANDS AV  [-73.886147, 40.652279]\n",
              "47  40.651737 -73.888339       FLATLANDS AV/ALABAMA AV  [-73.888339, 40.651737]\n",
              "48  40.650979 -73.890005     FLATLANDS AV/LOUISIANA AV  [-73.890005, 40.650979]\n",
              "45  40.650381 -73.884737   PENNSYLVANIA AV/VANDALIA AV  [-73.884737, 40.650381]\n",
              "43  40.648750 -73.892574         FLATLANDS AV/E 108 ST   [-73.892574, 40.64875]"
            ]
          },
          "metadata": {
            "tags": []
          },
          "execution_count": 53
        }
      ]
    },
    {
      "cell_type": "code",
      "metadata": {
        "id": "bYfMM70iJzPo",
        "colab_type": "code",
        "colab": {}
      },
      "source": [
        "bdf.reset_index(inplace=True)"
      ],
      "execution_count": 0,
      "outputs": []
    },
    {
      "cell_type": "code",
      "metadata": {
        "id": "3FJEga7ux5Qw",
        "colab_type": "code",
        "colab": {}
      },
      "source": [
        "bdf_ll = bdf[['lonlat']]"
      ],
      "execution_count": 0,
      "outputs": []
    },
    {
      "cell_type": "code",
      "metadata": {
        "id": "Rcr-Riy9zN4w",
        "colab_type": "code",
        "colab": {
          "base_uri": "https://localhost:8080/",
          "height": 1000
        },
        "outputId": "d9b6d905-1a86-496f-f6bc-167bbcdf037d"
      },
      "source": [
        "bdf_ll"
      ],
      "execution_count": 50,
      "outputs": [
        {
          "output_type": "execute_result",
          "data": {
            "text/html": [
              "<div>\n",
              "<style scoped>\n",
              "    .dataframe tbody tr th:only-of-type {\n",
              "        vertical-align: middle;\n",
              "    }\n",
              "\n",
              "    .dataframe tbody tr th {\n",
              "        vertical-align: top;\n",
              "    }\n",
              "\n",
              "    .dataframe thead th {\n",
              "        text-align: right;\n",
              "    }\n",
              "</style>\n",
              "<table border=\"1\" class=\"dataframe\">\n",
              "  <thead>\n",
              "    <tr style=\"text-align: right;\">\n",
              "      <th></th>\n",
              "      <th>lonlat</th>\n",
              "    </tr>\n",
              "  </thead>\n",
              "  <tbody>\n",
              "    <tr>\n",
              "      <th>49</th>\n",
              "      <td>[-73.878008, 40.64438]</td>\n",
              "    </tr>\n",
              "    <tr>\n",
              "      <th>69</th>\n",
              "      <td>[-73.87826899999997, 40.642968]</td>\n",
              "    </tr>\n",
              "    <tr>\n",
              "      <th>51</th>\n",
              "      <td>[-73.88011, 40.646144]</td>\n",
              "    </tr>\n",
              "    <tr>\n",
              "      <th>56</th>\n",
              "      <td>[-73.881733, 40.647608]</td>\n",
              "    </tr>\n",
              "    <tr>\n",
              "      <th>45</th>\n",
              "      <td>[-73.884737, 40.650381]</td>\n",
              "    </tr>\n",
              "    <tr>\n",
              "      <th>44</th>\n",
              "      <td>[-73.886147, 40.652279]</td>\n",
              "    </tr>\n",
              "    <tr>\n",
              "      <th>47</th>\n",
              "      <td>[-73.888339, 40.651737]</td>\n",
              "    </tr>\n",
              "    <tr>\n",
              "      <th>48</th>\n",
              "      <td>[-73.890005, 40.650979]</td>\n",
              "    </tr>\n",
              "    <tr>\n",
              "      <th>43</th>\n",
              "      <td>[-73.892574, 40.64875]</td>\n",
              "    </tr>\n",
              "    <tr>\n",
              "      <th>42</th>\n",
              "      <td>[-73.894212, 40.647692]</td>\n",
              "    </tr>\n",
              "    <tr>\n",
              "      <th>41</th>\n",
              "      <td>[-73.895698, 40.646732]</td>\n",
              "    </tr>\n",
              "    <tr>\n",
              "      <th>46</th>\n",
              "      <td>[-73.899644, 40.646791]</td>\n",
              "    </tr>\n",
              "    <tr>\n",
              "      <th>52</th>\n",
              "      <td>[-73.901563, 40.643356]</td>\n",
              "    </tr>\n",
              "    <tr>\n",
              "      <th>59</th>\n",
              "      <td>[-73.901761, 40.645456]</td>\n",
              "    </tr>\n",
              "    <tr>\n",
              "      <th>38</th>\n",
              "      <td>[-73.902689, 40.642232]</td>\n",
              "    </tr>\n",
              "    <tr>\n",
              "      <th>37</th>\n",
              "      <td>[-73.90424, 40.641223]</td>\n",
              "    </tr>\n",
              "    <tr>\n",
              "      <th>36</th>\n",
              "      <td>[-73.906024, 40.640161]</td>\n",
              "    </tr>\n",
              "    <tr>\n",
              "      <th>35</th>\n",
              "      <td>[-73.907063, 40.6394]</td>\n",
              "    </tr>\n",
              "    <tr>\n",
              "      <th>34</th>\n",
              "      <td>[-73.90852, 40.638457]</td>\n",
              "    </tr>\n",
              "    <tr>\n",
              "      <th>33</th>\n",
              "      <td>[-73.910039, 40.637481]</td>\n",
              "    </tr>\n",
              "    <tr>\n",
              "      <th>32</th>\n",
              "      <td>[-73.911845, 40.636307]</td>\n",
              "    </tr>\n",
              "    <tr>\n",
              "      <th>31</th>\n",
              "      <td>[-73.91283299999998, 40.635669]</td>\n",
              "    </tr>\n",
              "    <tr>\n",
              "      <th>61</th>\n",
              "      <td>[-73.915509, 40.633944]</td>\n",
              "    </tr>\n",
              "    <tr>\n",
              "      <th>30</th>\n",
              "      <td>[-73.917964, 40.632435]</td>\n",
              "    </tr>\n",
              "    <tr>\n",
              "      <th>40</th>\n",
              "      <td>[-73.920928, 40.630435]</td>\n",
              "    </tr>\n",
              "    <tr>\n",
              "      <th>39</th>\n",
              "      <td>[-73.924526, 40.628107]</td>\n",
              "    </tr>\n",
              "    <tr>\n",
              "      <th>53</th>\n",
              "      <td>[-73.927911, 40.625963]</td>\n",
              "    </tr>\n",
              "    <tr>\n",
              "      <th>57</th>\n",
              "      <td>[-73.930583, 40.624296]</td>\n",
              "    </tr>\n",
              "    <tr>\n",
              "      <th>55</th>\n",
              "      <td>[-73.932785, 40.622865]</td>\n",
              "    </tr>\n",
              "    <tr>\n",
              "      <th>54</th>\n",
              "      <td>[-73.935012, 40.621431]</td>\n",
              "    </tr>\n",
              "    <tr>\n",
              "      <th>...</th>\n",
              "      <td>...</td>\n",
              "    </tr>\n",
              "    <tr>\n",
              "      <th>58</th>\n",
              "      <td>[-73.957521, 40.609038]</td>\n",
              "    </tr>\n",
              "    <tr>\n",
              "      <th>20</th>\n",
              "      <td>[-73.960227, 40.607908]</td>\n",
              "    </tr>\n",
              "    <tr>\n",
              "      <th>19</th>\n",
              "      <td>[-73.961376, 40.607467]</td>\n",
              "    </tr>\n",
              "    <tr>\n",
              "      <th>18</th>\n",
              "      <td>[-73.96526800000002, 40.606182]</td>\n",
              "    </tr>\n",
              "    <tr>\n",
              "      <th>17</th>\n",
              "      <td>[-73.967361, 40.605439]</td>\n",
              "    </tr>\n",
              "    <tr>\n",
              "      <th>16</th>\n",
              "      <td>[-73.969576, 40.604424]</td>\n",
              "    </tr>\n",
              "    <tr>\n",
              "      <th>15</th>\n",
              "      <td>[-73.972421, 40.604153]</td>\n",
              "    </tr>\n",
              "    <tr>\n",
              "      <th>14</th>\n",
              "      <td>[-73.976322, 40.604593]</td>\n",
              "    </tr>\n",
              "    <tr>\n",
              "      <th>13</th>\n",
              "      <td>[-73.977704, 40.604796]</td>\n",
              "    </tr>\n",
              "    <tr>\n",
              "      <th>62</th>\n",
              "      <td>[-73.980387, 40.605134]</td>\n",
              "    </tr>\n",
              "    <tr>\n",
              "      <th>66</th>\n",
              "      <td>[-73.981296, 40.577079]</td>\n",
              "    </tr>\n",
              "    <tr>\n",
              "      <th>60</th>\n",
              "      <td>[-73.98177700000002, 40.579042]</td>\n",
              "    </tr>\n",
              "    <tr>\n",
              "      <th>12</th>\n",
              "      <td>[-73.984352, 40.605566]</td>\n",
              "    </tr>\n",
              "    <tr>\n",
              "      <th>64</th>\n",
              "      <td>[-73.98565699999997, 40.58137]</td>\n",
              "    </tr>\n",
              "    <tr>\n",
              "      <th>65</th>\n",
              "      <td>[-73.986269, 40.583358]</td>\n",
              "    </tr>\n",
              "    <tr>\n",
              "      <th>11</th>\n",
              "      <td>[-73.986599, 40.605901]</td>\n",
              "    </tr>\n",
              "    <tr>\n",
              "      <th>0</th>\n",
              "      <td>[-73.987889, 40.586092]</td>\n",
              "    </tr>\n",
              "    <tr>\n",
              "      <th>10</th>\n",
              "      <td>[-73.98918499999998, 40.606366]</td>\n",
              "    </tr>\n",
              "    <tr>\n",
              "      <th>1</th>\n",
              "      <td>[-73.989591, 40.588211]</td>\n",
              "    </tr>\n",
              "    <tr>\n",
              "      <th>9</th>\n",
              "      <td>[-73.989941, 40.60552]</td>\n",
              "    </tr>\n",
              "    <tr>\n",
              "      <th>2</th>\n",
              "      <td>[-73.990563, 40.58941]</td>\n",
              "    </tr>\n",
              "    <tr>\n",
              "      <th>3</th>\n",
              "      <td>[-73.99164, 40.590742]</td>\n",
              "    </tr>\n",
              "    <tr>\n",
              "      <th>63</th>\n",
              "      <td>[-73.991688, 40.603843]</td>\n",
              "    </tr>\n",
              "    <tr>\n",
              "      <th>4</th>\n",
              "      <td>[-73.992878, 40.592279]</td>\n",
              "    </tr>\n",
              "    <tr>\n",
              "      <th>8</th>\n",
              "      <td>[-73.993317, 40.602335]</td>\n",
              "    </tr>\n",
              "    <tr>\n",
              "      <th>68</th>\n",
              "      <td>[-73.994363, 40.593774]</td>\n",
              "    </tr>\n",
              "    <tr>\n",
              "      <th>7</th>\n",
              "      <td>[-73.995232, 40.600434]</td>\n",
              "    </tr>\n",
              "    <tr>\n",
              "      <th>5</th>\n",
              "      <td>[-73.99691, 40.59596]</td>\n",
              "    </tr>\n",
              "    <tr>\n",
              "      <th>6</th>\n",
              "      <td>[-73.997389, 40.598406]</td>\n",
              "    </tr>\n",
              "    <tr>\n",
              "      <th>67</th>\n",
              "      <td>[-73.998301, 40.597032]</td>\n",
              "    </tr>\n",
              "  </tbody>\n",
              "</table>\n",
              "<p>71 rows × 1 columns</p>\n",
              "</div>"
            ],
            "text/plain": [
              "                             lonlat\n",
              "49           [-73.878008, 40.64438]\n",
              "69  [-73.87826899999997, 40.642968]\n",
              "51           [-73.88011, 40.646144]\n",
              "56          [-73.881733, 40.647608]\n",
              "45          [-73.884737, 40.650381]\n",
              "44          [-73.886147, 40.652279]\n",
              "47          [-73.888339, 40.651737]\n",
              "48          [-73.890005, 40.650979]\n",
              "43           [-73.892574, 40.64875]\n",
              "42          [-73.894212, 40.647692]\n",
              "41          [-73.895698, 40.646732]\n",
              "46          [-73.899644, 40.646791]\n",
              "52          [-73.901563, 40.643356]\n",
              "59          [-73.901761, 40.645456]\n",
              "38          [-73.902689, 40.642232]\n",
              "37           [-73.90424, 40.641223]\n",
              "36          [-73.906024, 40.640161]\n",
              "35            [-73.907063, 40.6394]\n",
              "34           [-73.90852, 40.638457]\n",
              "33          [-73.910039, 40.637481]\n",
              "32          [-73.911845, 40.636307]\n",
              "31  [-73.91283299999998, 40.635669]\n",
              "61          [-73.915509, 40.633944]\n",
              "30          [-73.917964, 40.632435]\n",
              "40          [-73.920928, 40.630435]\n",
              "39          [-73.924526, 40.628107]\n",
              "53          [-73.927911, 40.625963]\n",
              "57          [-73.930583, 40.624296]\n",
              "55          [-73.932785, 40.622865]\n",
              "54          [-73.935012, 40.621431]\n",
              "..                              ...\n",
              "58          [-73.957521, 40.609038]\n",
              "20          [-73.960227, 40.607908]\n",
              "19          [-73.961376, 40.607467]\n",
              "18  [-73.96526800000002, 40.606182]\n",
              "17          [-73.967361, 40.605439]\n",
              "16          [-73.969576, 40.604424]\n",
              "15          [-73.972421, 40.604153]\n",
              "14          [-73.976322, 40.604593]\n",
              "13          [-73.977704, 40.604796]\n",
              "62          [-73.980387, 40.605134]\n",
              "66          [-73.981296, 40.577079]\n",
              "60  [-73.98177700000002, 40.579042]\n",
              "12          [-73.984352, 40.605566]\n",
              "64   [-73.98565699999997, 40.58137]\n",
              "65          [-73.986269, 40.583358]\n",
              "11          [-73.986599, 40.605901]\n",
              "0           [-73.987889, 40.586092]\n",
              "10  [-73.98918499999998, 40.606366]\n",
              "1           [-73.989591, 40.588211]\n",
              "9            [-73.989941, 40.60552]\n",
              "2            [-73.990563, 40.58941]\n",
              "3            [-73.99164, 40.590742]\n",
              "63          [-73.991688, 40.603843]\n",
              "4           [-73.992878, 40.592279]\n",
              "8           [-73.993317, 40.602335]\n",
              "68          [-73.994363, 40.593774]\n",
              "7           [-73.995232, 40.600434]\n",
              "5             [-73.99691, 40.59596]\n",
              "6           [-73.997389, 40.598406]\n",
              "67          [-73.998301, 40.597032]\n",
              "\n",
              "[71 rows x 1 columns]"
            ]
          },
          "metadata": {
            "tags": []
          },
          "execution_count": 50
        }
      ]
    },
    {
      "cell_type": "code",
      "metadata": {
        "id": "WC3VcjRpzOl-",
        "colab_type": "code",
        "colab": {}
      },
      "source": [
        "bdf_ll.to_json('b82_route.json')"
      ],
      "execution_count": 0,
      "outputs": []
    },
    {
      "cell_type": "code",
      "metadata": {
        "id": "wbEpHaE3zSy_",
        "colab_type": "code",
        "colab": {}
      },
      "source": [
        "files.download('b82_route.json')"
      ],
      "execution_count": 0,
      "outputs": []
    },
    {
      "cell_type": "code",
      "metadata": {
        "id": "0CPefr8PzWCO",
        "colab_type": "code",
        "colab": {
          "resources": {
            "http://localhost:8080/nbextensions/google.colab/files.js": {
              "data": "Ly8gQ29weXJpZ2h0IDIwMTcgR29vZ2xlIExMQwovLwovLyBMaWNlbnNlZCB1bmRlciB0aGUgQXBhY2hlIExpY2Vuc2UsIFZlcnNpb24gMi4wICh0aGUgIkxpY2Vuc2UiKTsKLy8geW91IG1heSBub3QgdXNlIHRoaXMgZmlsZSBleGNlcHQgaW4gY29tcGxpYW5jZSB3aXRoIHRoZSBMaWNlbnNlLgovLyBZb3UgbWF5IG9idGFpbiBhIGNvcHkgb2YgdGhlIExpY2Vuc2UgYXQKLy8KLy8gICAgICBodHRwOi8vd3d3LmFwYWNoZS5vcmcvbGljZW5zZXMvTElDRU5TRS0yLjAKLy8KLy8gVW5sZXNzIHJlcXVpcmVkIGJ5IGFwcGxpY2FibGUgbGF3IG9yIGFncmVlZCB0byBpbiB3cml0aW5nLCBzb2Z0d2FyZQovLyBkaXN0cmlidXRlZCB1bmRlciB0aGUgTGljZW5zZSBpcyBkaXN0cmlidXRlZCBvbiBhbiAiQVMgSVMiIEJBU0lTLAovLyBXSVRIT1VUIFdBUlJBTlRJRVMgT1IgQ09ORElUSU9OUyBPRiBBTlkgS0lORCwgZWl0aGVyIGV4cHJlc3Mgb3IgaW1wbGllZC4KLy8gU2VlIHRoZSBMaWNlbnNlIGZvciB0aGUgc3BlY2lmaWMgbGFuZ3VhZ2UgZ292ZXJuaW5nIHBlcm1pc3Npb25zIGFuZAovLyBsaW1pdGF0aW9ucyB1bmRlciB0aGUgTGljZW5zZS4KCi8qKgogKiBAZmlsZW92ZXJ2aWV3IEhlbHBlcnMgZm9yIGdvb2dsZS5jb2xhYiBQeXRob24gbW9kdWxlLgogKi8KKGZ1bmN0aW9uKHNjb3BlKSB7CmZ1bmN0aW9uIHNwYW4odGV4dCwgc3R5bGVBdHRyaWJ1dGVzID0ge30pIHsKICBjb25zdCBlbGVtZW50ID0gZG9jdW1lbnQuY3JlYXRlRWxlbWVudCgnc3BhbicpOwogIGVsZW1lbnQudGV4dENvbnRlbnQgPSB0ZXh0OwogIGZvciAoY29uc3Qga2V5IG9mIE9iamVjdC5rZXlzKHN0eWxlQXR0cmlidXRlcykpIHsKICAgIGVsZW1lbnQuc3R5bGVba2V5XSA9IHN0eWxlQXR0cmlidXRlc1trZXldOwogIH0KICByZXR1cm4gZWxlbWVudDsKfQoKLy8gTWF4IG51bWJlciBvZiBieXRlcyB3aGljaCB3aWxsIGJlIHVwbG9hZGVkIGF0IGEgdGltZS4KY29uc3QgTUFYX1BBWUxPQURfU0laRSA9IDEwMCAqIDEwMjQ7Ci8vIE1heCBhbW91bnQgb2YgdGltZSB0byBibG9jayB3YWl0aW5nIGZvciB0aGUgdXNlci4KY29uc3QgRklMRV9DSEFOR0VfVElNRU9VVF9NUyA9IDMwICogMTAwMDsKCmZ1bmN0aW9uIF91cGxvYWRGaWxlcyhpbnB1dElkLCBvdXRwdXRJZCkgewogIGNvbnN0IHN0ZXBzID0gdXBsb2FkRmlsZXNTdGVwKGlucHV0SWQsIG91dHB1dElkKTsKICBjb25zdCBvdXRwdXRFbGVtZW50ID0gZG9jdW1lbnQuZ2V0RWxlbWVudEJ5SWQob3V0cHV0SWQpOwogIC8vIENhY2hlIHN0ZXBzIG9uIHRoZSBvdXRwdXRFbGVtZW50IHRvIG1ha2UgaXQgYXZhaWxhYmxlIGZvciB0aGUgbmV4dCBjYWxsCiAgLy8gdG8gdXBsb2FkRmlsZXNDb250aW51ZSBmcm9tIFB5dGhvbi4KICBvdXRwdXRFbGVtZW50LnN0ZXBzID0gc3RlcHM7CgogIHJldHVybiBfdXBsb2FkRmlsZXNDb250aW51ZShvdXRwdXRJZCk7Cn0KCi8vIFRoaXMgaXMgcm91Z2hseSBhbiBhc3luYyBnZW5lcmF0b3IgKG5vdCBzdXBwb3J0ZWQgaW4gdGhlIGJyb3dzZXIgeWV0KSwKLy8gd2hlcmUgdGhlcmUgYXJlIG11bHRpcGxlIGFzeW5jaHJvbm91cyBzdGVwcyBhbmQgdGhlIFB5dGhvbiBzaWRlIGlzIGdvaW5nCi8vIHRvIHBvbGwgZm9yIGNvbXBsZXRpb24gb2YgZWFjaCBzdGVwLgovLyBUaGlzIHVzZXMgYSBQcm9taXNlIHRvIGJsb2NrIHRoZSBweXRob24gc2lkZSBvbiBjb21wbGV0aW9uIG9mIGVhY2ggc3RlcCwKLy8gdGhlbiBwYXNzZXMgdGhlIHJlc3VsdCBvZiB0aGUgcHJldmlvdXMgc3RlcCBhcyB0aGUgaW5wdXQgdG8gdGhlIG5leHQgc3RlcC4KZnVuY3Rpb24gX3VwbG9hZEZpbGVzQ29udGludWUob3V0cHV0SWQpIHsKICBjb25zdCBvdXRwdXRFbGVtZW50ID0gZG9jdW1lbnQuZ2V0RWxlbWVudEJ5SWQob3V0cHV0SWQpOwogIGNvbnN0IHN0ZXBzID0gb3V0cHV0RWxlbWVudC5zdGVwczsKCiAgY29uc3QgbmV4dCA9IHN0ZXBzLm5leHQob3V0cHV0RWxlbWVudC5sYXN0UHJvbWlzZVZhbHVlKTsKICByZXR1cm4gUHJvbWlzZS5yZXNvbHZlKG5leHQudmFsdWUucHJvbWlzZSkudGhlbigodmFsdWUpID0+IHsKICAgIC8vIENhY2hlIHRoZSBsYXN0IHByb21pc2UgdmFsdWUgdG8gbWFrZSBpdCBhdmFpbGFibGUgdG8gdGhlIG5leHQKICAgIC8vIHN0ZXAgb2YgdGhlIGdlbmVyYXRvci4KICAgIG91dHB1dEVsZW1lbnQubGFzdFByb21pc2VWYWx1ZSA9IHZhbHVlOwogICAgcmV0dXJuIG5leHQudmFsdWUucmVzcG9uc2U7CiAgfSk7Cn0KCi8qKgogKiBHZW5lcmF0b3IgZnVuY3Rpb24gd2hpY2ggaXMgY2FsbGVkIGJldHdlZW4gZWFjaCBhc3luYyBzdGVwIG9mIHRoZSB1cGxvYWQKICogcHJvY2Vzcy4KICogQHBhcmFtIHtzdHJpbmd9IGlucHV0SWQgRWxlbWVudCBJRCBvZiB0aGUgaW5wdXQgZmlsZSBwaWNrZXIgZWxlbWVudC4KICogQHBhcmFtIHtzdHJpbmd9IG91dHB1dElkIEVsZW1lbnQgSUQgb2YgdGhlIG91dHB1dCBkaXNwbGF5LgogKiBAcmV0dXJuIHshSXRlcmFibGU8IU9iamVjdD59IEl0ZXJhYmxlIG9mIG5leHQgc3RlcHMuCiAqLwpmdW5jdGlvbiogdXBsb2FkRmlsZXNTdGVwKGlucHV0SWQsIG91dHB1dElkKSB7CiAgY29uc3QgaW5wdXRFbGVtZW50ID0gZG9jdW1lbnQuZ2V0RWxlbWVudEJ5SWQoaW5wdXRJZCk7CiAgaW5wdXRFbGVtZW50LmRpc2FibGVkID0gZmFsc2U7CgogIGNvbnN0IG91dHB1dEVsZW1lbnQgPSBkb2N1bWVudC5nZXRFbGVtZW50QnlJZChvdXRwdXRJZCk7CiAgb3V0cHV0RWxlbWVudC5pbm5lckhUTUwgPSAnJzsKCiAgY29uc3QgcGlja2VkUHJvbWlzZSA9IG5ldyBQcm9taXNlKChyZXNvbHZlKSA9PiB7CiAgICBpbnB1dEVsZW1lbnQuYWRkRXZlbnRMaXN0ZW5lcignY2hhbmdlJywgKGUpID0+IHsKICAgICAgcmVzb2x2ZShlLnRhcmdldC5maWxlcyk7CiAgICB9KTsKICB9KTsKCiAgY29uc3QgY2FuY2VsID0gZG9jdW1lbnQuY3JlYXRlRWxlbWVudCgnYnV0dG9uJyk7CiAgaW5wdXRFbGVtZW50LnBhcmVudEVsZW1lbnQuYXBwZW5kQ2hpbGQoY2FuY2VsKTsKICBjYW5jZWwudGV4dENvbnRlbnQgPSAnQ2FuY2VsIHVwbG9hZCc7CiAgY29uc3QgY2FuY2VsUHJvbWlzZSA9IG5ldyBQcm9taXNlKChyZXNvbHZlKSA9PiB7CiAgICBjYW5jZWwub25jbGljayA9ICgpID0+IHsKICAgICAgcmVzb2x2ZShudWxsKTsKICAgIH07CiAgfSk7CgogIC8vIENhbmNlbCB1cGxvYWQgaWYgdXNlciBoYXNuJ3QgcGlja2VkIGFueXRoaW5nIGluIHRpbWVvdXQuCiAgY29uc3QgdGltZW91dFByb21pc2UgPSBuZXcgUHJvbWlzZSgocmVzb2x2ZSkgPT4gewogICAgc2V0VGltZW91dCgoKSA9PiB7CiAgICAgIHJlc29sdmUobnVsbCk7CiAgICB9LCBGSUxFX0NIQU5HRV9USU1FT1VUX01TKTsKICB9KTsKCiAgLy8gV2FpdCBmb3IgdGhlIHVzZXIgdG8gcGljayB0aGUgZmlsZXMuCiAgY29uc3QgZmlsZXMgPSB5aWVsZCB7CiAgICBwcm9taXNlOiBQcm9taXNlLnJhY2UoW3BpY2tlZFByb21pc2UsIHRpbWVvdXRQcm9taXNlLCBjYW5jZWxQcm9taXNlXSksCiAgICByZXNwb25zZTogewogICAgICBhY3Rpb246ICdzdGFydGluZycsCiAgICB9CiAgfTsKCiAgaWYgKCFmaWxlcykgewogICAgcmV0dXJuIHsKICAgICAgcmVzcG9uc2U6IHsKICAgICAgICBhY3Rpb246ICdjb21wbGV0ZScsCiAgICAgIH0KICAgIH07CiAgfQoKICBjYW5jZWwucmVtb3ZlKCk7CgogIC8vIERpc2FibGUgdGhlIGlucHV0IGVsZW1lbnQgc2luY2UgZnVydGhlciBwaWNrcyBhcmUgbm90IGFsbG93ZWQuCiAgaW5wdXRFbGVtZW50LmRpc2FibGVkID0gdHJ1ZTsKCiAgZm9yIChjb25zdCBmaWxlIG9mIGZpbGVzKSB7CiAgICBjb25zdCBsaSA9IGRvY3VtZW50LmNyZWF0ZUVsZW1lbnQoJ2xpJyk7CiAgICBsaS5hcHBlbmQoc3BhbihmaWxlLm5hbWUsIHtmb250V2VpZ2h0OiAnYm9sZCd9KSk7CiAgICBsaS5hcHBlbmQoc3BhbigKICAgICAgICBgKCR7ZmlsZS50eXBlIHx8ICduL2EnfSkgLSAke2ZpbGUuc2l6ZX0gYnl0ZXMsIGAgKwogICAgICAgIGBsYXN0IG1vZGlmaWVkOiAkewogICAgICAgICAgICBmaWxlLmxhc3RNb2RpZmllZERhdGUgPyBmaWxlLmxhc3RNb2RpZmllZERhdGUudG9Mb2NhbGVEYXRlU3RyaW5nKCkgOgogICAgICAgICAgICAgICAgICAgICAgICAgICAgICAgICAgICAnbi9hJ30gLSBgKSk7CiAgICBjb25zdCBwZXJjZW50ID0gc3BhbignMCUgZG9uZScpOwogICAgbGkuYXBwZW5kQ2hpbGQocGVyY2VudCk7CgogICAgb3V0cHV0RWxlbWVudC5hcHBlbmRDaGlsZChsaSk7CgogICAgY29uc3QgZmlsZURhdGFQcm9taXNlID0gbmV3IFByb21pc2UoKHJlc29sdmUpID0+IHsKICAgICAgY29uc3QgcmVhZGVyID0gbmV3IEZpbGVSZWFkZXIoKTsKICAgICAgcmVhZGVyLm9ubG9hZCA9IChlKSA9PiB7CiAgICAgICAgcmVzb2x2ZShlLnRhcmdldC5yZXN1bHQpOwogICAgICB9OwogICAgICByZWFkZXIucmVhZEFzQXJyYXlCdWZmZXIoZmlsZSk7CiAgICB9KTsKICAgIC8vIFdhaXQgZm9yIHRoZSBkYXRhIHRvIGJlIHJlYWR5LgogICAgbGV0IGZpbGVEYXRhID0geWllbGQgewogICAgICBwcm9taXNlOiBmaWxlRGF0YVByb21pc2UsCiAgICAgIHJlc3BvbnNlOiB7CiAgICAgICAgYWN0aW9uOiAnY29udGludWUnLAogICAgICB9CiAgICB9OwoKICAgIC8vIFVzZSBhIGNodW5rZWQgc2VuZGluZyB0byBhdm9pZCBtZXNzYWdlIHNpemUgbGltaXRzLiBTZWUgYi82MjExNTY2MC4KICAgIGxldCBwb3NpdGlvbiA9IDA7CiAgICB3aGlsZSAocG9zaXRpb24gPCBmaWxlRGF0YS5ieXRlTGVuZ3RoKSB7CiAgICAgIGNvbnN0IGxlbmd0aCA9IE1hdGgubWluKGZpbGVEYXRhLmJ5dGVMZW5ndGggLSBwb3NpdGlvbiwgTUFYX1BBWUxPQURfU0laRSk7CiAgICAgIGNvbnN0IGNodW5rID0gbmV3IFVpbnQ4QXJyYXkoZmlsZURhdGEsIHBvc2l0aW9uLCBsZW5ndGgpOwogICAgICBwb3NpdGlvbiArPSBsZW5ndGg7CgogICAgICBjb25zdCBiYXNlNjQgPSBidG9hKFN0cmluZy5mcm9tQ2hhckNvZGUuYXBwbHkobnVsbCwgY2h1bmspKTsKICAgICAgeWllbGQgewogICAgICAgIHJlc3BvbnNlOiB7CiAgICAgICAgICBhY3Rpb246ICdhcHBlbmQnLAogICAgICAgICAgZmlsZTogZmlsZS5uYW1lLAogICAgICAgICAgZGF0YTogYmFzZTY0LAogICAgICAgIH0sCiAgICAgIH07CiAgICAgIHBlcmNlbnQudGV4dENvbnRlbnQgPQogICAgICAgICAgYCR7TWF0aC5yb3VuZCgocG9zaXRpb24gLyBmaWxlRGF0YS5ieXRlTGVuZ3RoKSAqIDEwMCl9JSBkb25lYDsKICAgIH0KICB9CgogIC8vIEFsbCBkb25lLgogIHlpZWxkIHsKICAgIHJlc3BvbnNlOiB7CiAgICAgIGFjdGlvbjogJ2NvbXBsZXRlJywKICAgIH0KICB9Owp9CgpzY29wZS5nb29nbGUgPSBzY29wZS5nb29nbGUgfHwge307CnNjb3BlLmdvb2dsZS5jb2xhYiA9IHNjb3BlLmdvb2dsZS5jb2xhYiB8fCB7fTsKc2NvcGUuZ29vZ2xlLmNvbGFiLl9maWxlcyA9IHsKICBfdXBsb2FkRmlsZXMsCiAgX3VwbG9hZEZpbGVzQ29udGludWUsCn07Cn0pKHNlbGYpOwo=",
              "ok": true,
              "headers": [
                [
                  "content-type",
                  "application/javascript"
                ]
              ],
              "status": 200,
              "status_text": ""
            }
          },
          "base_uri": "https://localhost:8080/",
          "height": 111
        },
        "outputId": "2b26d34d-707c-4ad0-c6e8-37d483bf951e"
      },
      "source": [
        "files.upload()"
      ],
      "execution_count": 23,
      "outputs": [
        {
          "output_type": "display_data",
          "data": {
            "text/html": [
              "\n",
              "     <input type=\"file\" id=\"files-a0bb29ab-c4e9-4351-8344-640991c3c7ed\" name=\"files[]\" multiple disabled />\n",
              "     <output id=\"result-a0bb29ab-c4e9-4351-8344-640991c3c7ed\">\n",
              "      Upload widget is only available when the cell has been executed in the\n",
              "      current browser session. Please rerun this cell to enable.\n",
              "      </output>\n",
              "      <script src=\"/nbextensions/google.colab/files.js\"></script> "
            ],
            "text/plain": [
              "<IPython.core.display.HTML object>"
            ]
          },
          "metadata": {
            "tags": []
          }
        },
        {
          "output_type": "stream",
          "text": [
            "Saving rt_mta_bus.csv to rt_mta_bus.csv\n"
          ],
          "name": "stdout"
        },
        {
          "output_type": "execute_result",
          "data": {
            "text/plain": [
              "{'rt_mta_bus.csv': b',latitude,longitude,route_id\\n0,40.7321662902832,-73.99016571044922,M1\\n1,40.728553771972656,-74.0048599243164,M21\\n2,40.712982177734375,-74.01395416259766,M9\\n3,40.71426010131836,-74.0082015991211,M9\\n4,40.714439392089844,-74.0155258178711,M20\\n5,40.750152587890625,-73.97307586669922,M42\\n6,40.70637512207031,-73.79255676269531,Q44+\\n7,40.83513259887695,-73.86778259277344,Q44+\\n8,40.842369079589844,-73.87716674804688,Q44+\\n9,40.75835037231445,-73.82953643798828,Q44+\\n10,40.78457260131836,-73.9817123413086,M79+\\n11,40.759830474853516,-73.98787689208984,M20\\n12,40.760066986083984,-73.96111297607422,M57\\n13,40.76993942260742,-73.99166107177734,M12\\n14,40.74013137817383,-74.00224304199219,M20\\n15,40.71364974975586,-73.97894287109375,M22\\n16,40.77345657348633,-73.981201171875,M20\\n17,40.747840881347656,-73.98920440673828,M55\\n18,40.76578140258789,-73.98063659667969,M57\\n19,40.81294250488281,-73.9559097290039,M101\\n20,40.84124755859375,-73.87908172607422,Q44+\\n21,40.72570037841797,-73.98668670654297,M15\\n22,40.831687927246094,-73.94291687011719,M101\\n23,40.85590362548828,-73.92890930175781,M101\\n24,40.76107406616211,-73.96400451660156,M15\\n25,40.730106353759766,-73.99126434326172,M3\\n26,40.81877136230469,-73.94488525390625,M10\\n27,40.86138153076172,-73.89788818359375,BX1\\n28,40.779335021972656,-73.98110961914062,M11\\n29,40.8487548828125,-73.93414306640625,M3\\n30,40.77881622314453,-73.96239471435547,M4\\n31,40.83527374267578,-73.91671752929688,BX2\\n32,40.902462005615234,-73.84825134277344,BX39\\n33,40.8444938659668,-73.86585235595703,BX22\\n34,40.830589294433594,-73.92082977294922,BX2\\n35,40.54645919799805,-74.19224548339844,SIM4C\\n36,40.545738220214844,-74.14222717285156,SIM1C\\n37,40.83939743041992,-73.93990325927734,M2\\n38,40.7949333190918,-73.97251892089844,M96\\n39,40.84733581542969,-73.93972778320312,M4\\n40,40.77724075317383,-73.96145629882812,M1\\n41,40.75668716430664,-73.99018859863281,M104\\n42,40.7906608581543,-73.94253540039062,M106\\n43,40.81410217285156,-73.9557113647461,M11\\n44,40.80034637451172,-73.95825958251953,M10\\n45,40.76594924926758,-73.97685241699219,SIM1C\\n46,40.713417053222656,-74.00912475585938,SIM1C\\n47,40.80779266357422,-73.94906616210938,M2\\n48,40.73337173461914,-73.99972534179688,SIM1C\\n49,40.79368591308594,-73.9515380859375,M1\\n50,40.730289459228516,-73.99059295654297,M1\\n51,40.761962890625,-73.97888946533203,M7\\n52,40.81667709350586,-73.9388656616211,M1\\n53,40.77085494995117,-73.96820068359375,M1\\n54,40.829925537109375,-73.85002136230469,Q44+\\n55,40.70792007446289,-73.81766510009766,Q44+\\n56,40.651241302490234,-73.97259521484375,B68\\n57,40.62612533569336,-73.97628021240234,B11\\n58,40.66080093383789,-73.96136474609375,B16\\n59,40.826316833496094,-73.9268569946289,BX13\\n60,40.87991714477539,-73.90677642822266,BX10\\n61,40.80195999145508,-73.82962799072266,Q44+\\n62,40.72675323486328,-73.82185363769531,Q44+\\n63,40.57695388793945,-73.9814453125,B64\\n64,40.63260269165039,-73.95281219482422,B6\\n65,40.704715728759766,-73.81316375732422,Q44+\\n66,40.87942123413086,-73.89710235595703,BX2\\n67,40.732601165771484,-73.82474517822266,Q44+\\n68,40.578033447265625,-73.94011688232422,B49\\n69,40.85771560668945,-73.93211364746094,BX7\\n70,40.842369079589844,-73.87716674804688,Q44+\\n71,40.820396423339844,-73.8362808227539,Q44+\\n72,40.65480041503906,-73.90693664550781,B8\\n73,40.636714935302734,-73.95753479003906,B8\\n74,40.69295883178711,-74.00053405761719,B63\\n75,40.641544342041016,-73.9694595336914,B68\\n76,40.664974212646484,-73.98316955566406,B67\\n77,40.87612533569336,-73.90766906738281,BX7\\n78,40.6572151184082,-73.96025085449219,B41\\n79,40.6174201965332,-73.93116760253906,B41\\n80,40.86232376098633,-73.90532684326172,BX3\\n81,40.8698616027832,-73.91585540771484,BX7\\n82,40.84951400756836,-73.93639373779297,BX7\\n83,40.704833984375,-73.79315185546875,Q44+\\n84,40.83053970336914,-73.85083770751953,Q44+\\n85,40.62089538574219,-73.9350357055664,B41\\n86,40.60924530029297,-73.9532699584961,B49\\n87,40.70026397705078,-73.80867004394531,Q43\\n88,40.67641067504883,-73.97190856933594,B41\\n89,40.61623764038086,-74.0310287475586,B8\\n90,40.62208938598633,-73.9871826171875,B8\\n91,40.67459487915039,-73.96977996826172,B69\\n92,40.67448806762695,-74.00735473632812,B61\\n93,40.634368896484375,-74.02659606933594,B37\\n94,40.80781555175781,-73.8335189819336,Q44+\\n95,40.617408752441406,-73.92671966552734,B46\\n96,40.711143493652344,-73.72813415527344,Q2\\n97,40.76204299926758,-74.0009765625,M50\\n98,40.70476531982422,-73.80921173095703,Q44+\\n99,40.702537536621094,-73.7926254272461,Q83\\n100,40.63841247558594,-73.95243072509766,B49\\n101,40.71802520751953,-73.81570434570312,Q46\\n102,40.80445861816406,-73.83123016357422,Q44+\\n103,40.65122604370117,-73.93035125732422,B46\\n104,40.857765197753906,-73.93209075927734,M100\\n105,40.839027404785156,-73.91433715820312,BX18\\n106,40.75883865356445,-73.82977294921875,Q44+\\n107,40.65137481689453,-73.93036651611328,B46\\n108,40.65251159667969,-73.94683074951172,B44\\n109,40.77027893066406,-73.82656860351562,Q44+\\n110,40.869598388671875,-73.90375518798828,BX3\\n111,40.608829498291016,-73.94142150878906,B2\\n112,40.65059280395508,-73.95875549316406,B41\\n113,40.63897705078125,-73.95414733886719,B41\\n114,40.6761589050293,-73.97172546386719,B41\\n115,40.697391510009766,-73.93596649169922,B46\\n116,40.6218376159668,-73.94719696044922,B9\\n117,40.65144348144531,-73.98109436035156,B69\\n118,40.63312911987305,-73.97210693359375,B8\\n119,40.6436767578125,-73.97006225585938,B68\\n120,40.623130798339844,-73.98615264892578,B8\\n121,40.82402801513672,-73.89981079101562,BX17\\n122,40.73012924194336,-73.7435302734375,Q1\\n123,40.7308235168457,-73.74578857421875,Q27\\n124,40.74967575073242,-73.75706481933594,Q27\\n125,40.6616096496582,-73.95071411132812,B44\\n126,40.76533508300781,-73.81673431396484,Q13\\n127,40.79433059692383,-73.94474792480469,M103\\n128,40.70089340209961,-73.80620574951172,Q20A\\n129,40.77338409423828,-73.96004486083984,M101\\n130,40.751644134521484,-73.98221588134766,Q32\\n131,40.7723274230957,-73.87619018554688,Q48\\n132,40.76504135131836,-73.95802307128906,M15\\n133,40.786041259765625,-73.8080062866211,Q76\\n134,40.81459426879883,-73.94039154052734,M102\\n135,40.757869720458984,-73.7846450805664,Q13\\n136,40.7427864074707,-73.82550048828125,Q20B\\n137,40.77313995361328,-73.95519256591797,M15\\n138,40.757686614990234,-73.97148895263672,M103\\n139,40.70515060424805,-73.79341125488281,Q20B\\n140,40.728363037109375,-73.98783111572266,M15\\n141,40.76164627075195,-73.83118438720703,Q20B\\n142,40.7352180480957,-73.97975158691406,M15\\n143,40.77044677734375,-73.73566436767578,Q12\\n144,40.75865173339844,-73.82144927978516,Q12\\n145,40.83306884765625,-73.94187927246094,M101\\n146,40.76167678833008,-73.8295669555664,Q28\\n147,40.75356674194336,-73.97871398925781,Q32\\n148,40.73554229736328,-73.77241516113281,Q76\\n149,40.763099670410156,-73.83080291748047,Q44+\\n150,40.60012435913086,-73.94197082519531,B36\\n151,40.576881408691406,-73.98102569580078,B68\\n152,40.61809539794922,-73.93191528320312,B9\\n153,40.638389587402344,-73.95407104492188,B8\\n154,40.60918045043945,-74.02383422851562,B70\\n155,40.80717468261719,-73.94404602050781,M100\\n156,40.600547790527344,-73.94190216064453,B44\\n157,40.580806732177734,-74.11298370361328,S76\\n158,40.69794845581055,-73.93696594238281,B46\\n159,40.61991882324219,-73.90730285644531,B3\\n160,40.62893295288086,-74.11822509765625,S48\\n161,40.72306442260742,-73.99297332763672,M103\\n162,40.785125732421875,-73.95146179199219,M101\\n163,40.68461990356445,-73.97786712646484,B41\\n164,40.753719329833984,-73.7960433959961,Q27\\n165,40.722049713134766,-73.98639678955078,M14A+\\n166,40.71928405761719,-73.81114196777344,Q46\\n167,40.60985565185547,-73.92239379882812,B41\\n168,40.84885787963867,-73.93682861328125,BX35\\n169,40.63650894165039,-73.94802856445312,B44\\n170,40.736297607421875,-73.77284240722656,Q88\\n171,40.78036117553711,-73.95765686035156,M86+\\n172,40.63644790649414,-73.95149993896484,B41\\n173,40.83350372314453,-73.91473388671875,BX35\\n174,40.83425521850586,-73.8917465209961,BX11\\n175,40.73301315307617,-73.97454071044922,M23+\\n176,40.618797302246094,-73.9292984008789,B41\\n177,40.770694732666016,-73.94879913330078,M79+\\n178,40.674068450927734,-73.94731903076172,B44\\n179,40.80181884765625,-73.95915985107422,M116\\n180,40.78699493408203,-73.973388671875,M86+\\n181,40.69538116455078,-73.99091339111328,B41\\n182,40.573944091796875,-74.17002868652344,S79+\\n183,40.85751724243164,-73.85653686523438,BX12+\\n184,40.66628646850586,-73.93135833740234,B46\\n185,40.866844177246094,-73.83099365234375,BX12+\\n186,40.7025032043457,-73.73538970947266,Q83\\n187,40.667083740234375,-73.96514892578125,B41\\n188,40.8520622253418,-73.82642364501953,BX12+\\n189,40.74658203125,-73.71269226074219,Q46\\n190,40.66038513183594,-73.93131256103516,B46\\n191,40.746673583984375,-73.98628234863281,M5\\n192,40.86185073852539,-73.89181518554688,BX12+\\n193,40.7343635559082,-73.86836242675781,Q88\\n194,40.867942810058594,-73.91963195800781,BX12+\\n195,40.834041595458984,-73.94499969482422,M5\\n196,40.717811584472656,-73.73600769042969,Q1\\n197,40.86246109008789,-73.8971176147461,BX12+\\n198,40.828025817871094,-73.93812561035156,M10\\n199,40.64409255981445,-73.95791625976562,B41\\n200,40.856658935546875,-73.83646392822266,BX12+\\n201,40.86787033081055,-73.92058563232422,BX12+\\n202,40.72233200073242,-73.75758361816406,Q1\\n203,40.77388000488281,-73.98210144042969,M104\\n204,40.86408615112305,-73.91802215576172,BX12+\\n205,40.69148635864258,-73.74373626708984,Q27\\n206,40.75027084350586,-73.99112701416016,Q32\\n207,40.755699157714844,-73.7042236328125,Q46\\n208,40.84321975708008,-73.90345764160156,BX41+\\n209,40.74489974975586,-73.7160873413086,Q46\\n210,40.87769317626953,-73.86672973632812,BX41+\\n211,40.86159133911133,-73.8911361694336,BX12+\\n212,40.70954895019531,-73.7962646484375,Q1\\n213,40.765098571777344,-73.81978607177734,Q13\\n214,40.83234786987305,-73.90958404541016,BX41+\\n215,40.856712341308594,-73.87049102783203,BX12+\\n216,40.73569107055664,-73.77263641357422,Q76\\n217,40.74555206298828,-73.71481323242188,Q46\\n218,40.866783142089844,-73.82797241210938,BX12+\\n219,40.71124267578125,-73.72728729248047,Q2\\n220,40.86274337768555,-73.9042739868164,BX12+\\n221,40.70193099975586,-73.74022674560547,Q83\\n222,40.8695068359375,-73.8288803100586,BX12+\\n223,40.878604888916016,-73.87140655517578,BX41+\\n224,40.58812713623047,-73.9527587890625,B49\\n225,40.71290588378906,-73.78272247314453,Q43\\n226,40.72748565673828,-73.7422103881836,Q27\\n227,40.782466888427734,-73.82172393798828,Q20B\\n228,40.862735748291016,-73.90365600585938,BX12+\\n229,40.71467590332031,-73.83130645751953,Q46\\n230,40.788063049316406,-73.78994750976562,Q16\\n231,40.8646354675293,-73.83049011230469,BX12+\\n232,40.759803771972656,-73.77145385742188,Q12\\n233,40.85676193237305,-73.86746978759766,BX12+\\n234,40.734867095947266,-73.75155639648438,Q46\\n235,40.86166763305664,-73.9109115600586,BX12+\\n236,40.758995056152344,-73.77447509765625,Q12\\n237,40.73870086669922,-73.80465698242188,Q88\\n238,40.86140823364258,-73.89082336425781,BX12+\\n239,40.71502685546875,-73.73556518554688,Q27\\n240,40.85919189453125,-73.89366149902344,BX41+\\n241,40.86247253417969,-73.8957290649414,BX34\\n242,40.69364547729492,-73.93119049072266,B46\\n243,40.865421295166016,-73.86847686767578,BX26\\n244,40.672672271728516,-73.9691390991211,B41\\n245,40.6817626953125,-73.8709945678711,Q24\\n246,40.84596252441406,-73.8906478881836,BX17\\n247,40.833763122558594,-73.8248291015625,BX8\\n248,40.8354377746582,-73.92034912109375,BX35\\n249,40.82822036743164,-73.88463592529297,BX27\\n250,40.71738815307617,-73.76710510253906,Q43\\n251,40.749603271484375,-73.70716857910156,Q46\\n252,40.7333869934082,-73.72673797607422,Q43\\n253,40.61351013183594,-73.9262924194336,B46\\n254,40.726009368896484,-73.79110717773438,Q46\\n255,40.88044738769531,-73.87869262695312,BX30\\n256,40.79529571533203,-73.93374633789062,M116\\n257,40.868099212646484,-73.83383178710938,BX38\\n258,40.81489562988281,-73.8017349243164,BX8\\n259,40.90256881713867,-73.86809539794922,BX31\\n260,40.84053039550781,-73.92051696777344,BX11\\n261,40.81464767456055,-73.8934326171875,BX46\\n262,40.82536315917969,-73.89122772216797,BX35\\n263,40.74809646606445,-73.98271179199219,M3\\n264,40.8787727355957,-73.87295532226562,BX28\\n265,40.788658142089844,-73.98104095458984,M5\\n266,40.68577575683594,-73.954345703125,B52\\n267,40.80091094970703,-73.96685028076172,M116\\n268,40.599342346191406,-74.07764434814453,S79+\\n269,40.87488555908203,-73.88050842285156,BX30\\n270,40.76285171508789,-73.97404479980469,M2\\n271,40.747806549072266,-73.98307037353516,M34A+\\n272,40.86234664916992,-73.826416015625,BX29\\n273,40.90251159667969,-73.86653900146484,BX34\\n274,40.796627044677734,-73.94942474365234,M4\\n275,40.849327087402344,-73.93376159667969,BX11\\n276,40.876461029052734,-73.8299789428711,BX38\\n277,40.87993240356445,-73.8418960571289,BX30\\n278,40.8165397644043,-73.8610610961914,BX27\\n279,40.84925079345703,-73.93873596191406,BX36\\n280,40.741756439208984,-74.00730895996094,M14D+\\n281,40.717620849609375,-73.98867797851562,M14A+\\n282,40.74740982055664,-74.00352478027344,M23+\\n283,40.73787307739258,-73.99808502197266,M14A+\\n284,40.79657745361328,-73.94860076904297,M3\\n285,40.88067626953125,-73.87861633300781,BX34\\n286,40.56501007080078,-74.16963195800781,S79+\\n287,40.78060531616211,-73.95823669433594,M86+\\n288,40.84652328491211,-73.83290100097656,BX8\\n289,40.806034088134766,-73.95418548583984,M10\\n290,40.84374237060547,-73.9413833618164,M4\\n291,40.831520080566406,-73.8881607055664,BX11\\n292,40.643775939941406,-74.07633209228516,S44\\n293,40.82785415649414,-73.894775390625,BX35\\n294,40.776268005371094,-73.9642562866211,M3\\n295,40.779266357421875,-73.95504760742188,M86+\\n296,40.749732971191406,-73.98151397705078,M2\\n297,40.77943420410156,-73.94454956054688,M86+\\n298,40.5787467956543,-74.10151672363281,S79+\\n299,40.83592987060547,-73.92182922363281,BX35\\n300,40.88677215576172,-73.8468246459961,BX31\\n301,40.86823272705078,-73.90089416503906,BX32\\n302,40.58304214477539,-74.16243743896484,S79+\\n303,40.75041198730469,-73.9892807006836,M34A+\\n304,40.78436279296875,-73.9473648071289,M96\\n305,40.74281311035156,-73.97732543945312,M34A+\\n306,40.5892333984375,-74.16717529296875,S44\\n307,40.79143142700195,-73.95318603515625,M3\\n308,40.69721603393555,-73.81343841552734,Q24\\n309,40.687896728515625,-73.98735046386719,B65\\n310,40.703277587890625,-73.99150848388672,B25\\n311,40.690773010253906,-73.98564910888672,B25\\n312,40.66999053955078,-73.9088363647461,B14\\n313,40.592655181884766,-73.9934310913086,B82\\n314,40.71432113647461,-74.00843048095703,X27\\n315,40.66859436035156,-73.93162536621094,B17\\n316,40.59703063964844,-73.99836730957031,B82\\n317,40.662628173828125,-73.93737030029297,B12\\n318,40.743507385253906,-73.9860610961914,X28\\n319,40.736305236816406,-73.98918151855469,X28\\n320,40.63868713378906,-73.88224029541016,B17\\n321,40.63147735595703,-73.88721466064453,B42\\n322,40.69513702392578,-73.84556579589844,Q56\\n323,40.64067459106445,-73.9052734375,B82\\n324,40.66777038574219,-73.92119598388672,B12\\n325,40.6552734375,-73.91612243652344,B35\\n326,40.6442756652832,-73.97596740722656,B35\\n327,40.6566162109375,-73.91402435302734,B35\\n328,40.64065170288086,-73.98626708984375,B35\\n329,40.63243103027344,-74.03776550292969,X27\\n330,40.607181549072266,-74.14299011230469,SIM33C\\n331,40.73285675048828,-73.98616790771484,M14D+\\n332,40.73044204711914,-73.74541473388672,Q88\\n333,40.743900299072266,-73.97381591796875,M34+\\n334,40.73313522338867,-73.9868392944336,M14D+\\n335,40.71626663208008,-73.97998809814453,M14D+\\n336,40.710845947265625,-73.79265594482422,Q1\\n337,40.86619567871094,-73.91853332519531,BX12+\\n338,40.75300216674805,-73.75896453857422,Q27\\n339,40.73261260986328,-73.98558044433594,M14D+\\n340,40.753963470458984,-73.75812530517578,Q27\\n341,40.73707962036133,-73.97897338867188,M23+\\n342,40.776485443115234,-73.9484634399414,M86+\\n343,40.69807052612305,-73.7620620727539,Q83\\n344,40.753028869628906,-73.7922592163086,Q27\\n345,40.62448501586914,-73.9303207397461,B82\\n346,40.78931427001953,-73.97753143310547,M86+\\n347,40.654319763183594,-73.92166137695312,B17\\n348,40.77803039550781,-73.96546173095703,M79+\\n349,40.61775207519531,-73.94309997558594,B82\\n350,40.74415969848633,-73.97443389892578,M34+\\n351,40.657493591308594,-73.87907409667969,B84\\n352,40.660640716552734,-73.82331085205078,B15\\n353,40.74458694458008,-73.99679565429688,M23+\\n354,40.66188049316406,-73.89311218261719,B83\\n355,40.71976852416992,-73.97855377197266,M14D+\\n356,40.691226959228516,-73.99007415771484,B45\\n357,40.7369270324707,-73.99583435058594,M14D+\\n358,40.73335266113281,-73.9910659790039,X27\\n359,40.664913177490234,-73.92220306396484,B15\\n360,40.6678581237793,-73.92267608642578,B14\\n361,40.70199966430664,-73.80999755859375,Q56\\n362,40.67885971069336,-73.92174530029297,B25\\n363,40.67235565185547,-73.91067504882812,B12\\n364,40.67757797241211,-73.95951080322266,B65\\n365,40.66353225708008,-73.88920593261719,B15\\n366,40.67301940917969,-73.87017059326172,B14\\n367,40.64265441894531,-73.90867614746094,B17\\n368,40.57695007324219,-73.98161315917969,B82\\n369,40.69386672973633,-73.99044036865234,B26\\n370,40.6857795715332,-73.95430755615234,B52\\n371,40.69209671020508,-73.98729705810547,B26\\n372,40.677799224853516,-73.90165710449219,B20\\n373,40.70137405395508,-73.91442108154297,B13\\n374,40.693538665771484,-73.98107147216797,B54\\n375,40.70179748535156,-73.92768859863281,B60\\n376,40.68285369873047,-73.95006561279297,B26\\n377,40.64146423339844,-73.92550659179688,B7\\n378,40.70954895019531,-73.95957946777344,Q54\\n379,40.719425201416016,-73.90668487548828,B57\\n380,40.699951171875,-73.95502471923828,B48\\n381,40.70022201538086,-74.01483154296875,X28\\n382,40.74687576293945,-73.98360443115234,X27\\n383,40.737552642822266,-73.9530258178711,B32\\n384,40.75506591796875,-73.83326721191406,Q58\\n385,40.812774658203125,-73.90691375732422,BX17\\n386,40.848358154296875,-73.93147277832031,BX11\\n387,40.83615493774414,-73.88982391357422,BX21\\n388,40.880672454833984,-73.85765075683594,BX8\\n389,40.848628997802734,-73.88841247558594,BX17\\n390,40.82603073120117,-73.91819763183594,BX32\\n391,40.88250732421875,-73.89212799072266,BX10\\n392,40.713191986083984,-73.95148468017578,Q59\\n393,40.880104064941406,-73.90711212158203,BX7\\n394,40.741920471191406,-73.85423278808594,Q58\\n395,40.757293701171875,-73.82958221435547,Q58\\n396,40.83539581298828,-73.94017028808594,M100\\n397,40.739593505859375,-73.87763214111328,Q58\\n398,40.83311462402344,-73.92926788330078,BX13\\n399,40.69051742553711,-73.94572448730469,B38\\n400,40.64101791381836,-73.94738006591797,B8\\n401,40.7794303894043,-73.80215454101562,Q16\\n402,40.71725845336914,-73.95832824707031,B62\\n403,40.70227813720703,-73.80810546875,Q20B\\n404,40.714054107666016,-73.81651306152344,Q20A\\n405,40.84256362915039,-73.93922424316406,BX7\\n406,40.761024475097656,-73.82709503173828,Q48\\n407,40.7583122253418,-73.82952117919922,Q20A\\n408,40.84977340698242,-73.91627502441406,BX3\\n409,40.693359375,-73.93395233154297,B38\\n410,40.84808349609375,-73.93782043457031,BX7\\n411,40.71870422363281,-73.98902130126953,B39\\n412,40.84296417236328,-73.93919372558594,BX7\\n413,40.68986129760742,-73.98338317871094,B38\\n414,40.72038650512695,-73.760986328125,Q43\\n415,40.66930389404297,-73.92253875732422,B47\\n416,40.76017761230469,-73.83042907714844,Q27\\n417,40.690086364746094,-73.99385070800781,B63\\n418,40.61161804199219,-74.03511810302734,B63\\n419,40.67658233642578,-73.97203063964844,B69\\n420,40.60856246948242,-73.92129516601562,B9\\n421,40.635108947753906,-74.00891876220703,B9\\n422,40.75777053833008,-73.79481506347656,Q13\\n423,40.70695877075195,-73.96749114990234,B67\\n424,40.70930099487305,-73.81912994384766,Q20B\\n425,40.74901580810547,-73.98990631103516,Q32\\n426,40.70447540283203,-73.90145111083984,Q58\\n427,40.734439849853516,-73.72176361083984,Q43\\n428,40.75339126586914,-73.88497924804688,Q32\\n429,40.71550750732422,-73.95805358886719,B62\\n430,40.753173828125,-73.86005401611328,Q48\\n431,40.85148239135742,-73.92129516601562,BX18\\n432,40.71417236328125,-73.95639038085938,Q59\\n433,40.74772644042969,-73.83372497558594,Q58\\n434,40.75923538208008,-73.8310775756836,Q48\\n435,40.760921478271484,-73.83080291748047,Q20A\\n436,40.747047424316406,-73.94257354736328,B62\\n437,40.84824752807617,-73.93119812011719,BX13\\n438,40.632835388183594,-73.97272491455078,B8\\n439,40.66311264038086,-73.9915542602539,B63\\n440,40.64397048950195,-74.01527404785156,B11\\n441,40.63145446777344,-73.9475326538086,B44\\n442,40.670989990234375,-73.99795532226562,B61\\n443,40.72665023803711,-73.89409637451172,Q58\\n444,40.75993728637695,-73.8237533569336,Q15A\\n445,40.75847625732422,-73.79689025878906,Q12\\n446,40.72557830810547,-73.82112884521484,Q20A\\n447,40.68896484375,-73.95909881591797,B38\\n448,40.76677322387695,-73.72682189941406,Q36\\n449,40.76060485839844,-73.82879638671875,Q16\\n450,40.700443267822266,-73.98039245605469,B62\\n451,40.70212936401367,-73.79230499267578,Q83\\n452,40.693199157714844,-73.97209930419922,B54\\n453,40.68755340576172,-73.9597396850586,B48\\n454,40.690940856933594,-73.98609924316406,B52\\n455,40.7263069152832,-73.93693542480469,B48\\n456,40.68209457397461,-73.94705963134766,B26\\n457,40.66455841064453,-73.86293029785156,B20\\n458,40.833187103271484,-73.91399383544922,BX35\\n459,40.84010696411133,-73.84275817871094,BX21\\n460,40.846412658691406,-73.84307098388672,BX21\\n461,40.56503677368164,-74.11137390136719,S57\\n462,40.57675552368164,-73.98356628417969,B74\\n463,40.829139709472656,-73.8976821899414,BX17\\n464,40.59288787841797,-74.13131713867188,S57\\n465,40.86638259887695,-73.8604736328125,BX8\\n466,40.53489303588867,-74.15509796142578,S79+\\n467,40.56409454345703,-74.11607360839844,S79+\\n468,40.6432991027832,-74.07302856445312,S62\\n469,40.63776397705078,-74.07686614990234,S61\\n470,40.71122360229492,-73.92007446289062,B57\\n471,40.84817123413086,-73.85608673095703,BX21\\n472,40.81018829345703,-73.89018249511719,BX46\\n473,40.81922912597656,-73.91377258300781,BX21\\n474,40.8096923828125,-73.92833709716797,BX21\\n475,40.70967483520508,-73.89891052246094,Q58\\n476,40.80575942993164,-73.918212890625,BX17\\n477,40.59832000732422,-74.14021301269531,S61\\n478,40.86767578125,-73.9030990600586,BX32\\n479,40.82595443725586,-73.9182357788086,BX32\\n480,40.578495025634766,-74.00353240966797,B36\\n481,40.742130279541016,-73.86798858642578,Q58\\n482,40.574005126953125,-74.16417694091797,S61\\n483,40.716346740722656,-73.9233169555664,Q59\\n484,40.56987380981445,-74.11045837402344,S79+\\n485,40.585575103759766,-74.1668701171875,S59\\n486,40.7437858581543,-73.85652160644531,Q58\\n487,40.61048889160156,-73.98491668701172,B6\\n488,40.62216567993164,-74.09659576416016,S62\\n489,40.63638687133789,-73.9118881225586,B6\\n490,40.56222152709961,-74.16978454589844,S79+\\n491,40.636207580566406,-74.03519439697266,B64\\n492,40.86248779296875,-73.90518188476562,BX3\\n493,40.69363021850586,-73.93156433105469,B38\\n494,40.804805755615234,-73.91858673095703,BX17\\n495,40.84181594848633,-73.83984375,BX21\\n496,40.84129333496094,-73.84307098388672,BX31\\n497,40.729740142822266,-73.88951110839844,Q59\\n498,40.69968032836914,-73.92375946044922,B38\\n499,40.71530532836914,-73.96651458740234,B32\\n500,40.75738525390625,-73.82938385009766,Q58\\n501,40.71004867553711,-73.9144515991211,B38\\n502,40.618404388427734,-74.02757263183594,S79+\\n503,40.794700622558594,-73.94869995117188,M1\\n504,40.71975326538086,-73.9875717163086,M9\\n505,40.8076171875,-73.94511413574219,M60+\\n506,40.738468170166016,-73.99181365966797,M1\\n507,40.803138732910156,-73.93447875976562,M60+\\n508,40.58549880981445,-73.95159149169922,B49\\n509,40.81304168701172,-73.95599365234375,M60+\\n510,40.807106018066406,-73.9417495727539,M1\\n511,40.75769805908203,-73.97523498535156,M50\\n512,40.803035736083984,-73.9342269897461,M60+\\n513,40.748416900634766,-73.96992492675781,M42\\n514,40.650699615478516,-73.95177459716797,B35\\n515,40.650856018066406,-73.94805145263672,B35\\n516,40.656009674072266,-74.01172637939453,B35\\n517,40.650665283203125,-73.9523696899414,B35\\n518,40.76899337768555,-73.86335754394531,M60+\\n519,40.65058898925781,-73.95435333251953,B35\\n520,40.6507453918457,-73.9508285522461,B35\\n521,40.753448486328125,-73.75806427001953,Q27\\n522,40.73877716064453,-73.99579620361328,M7\\n523,40.76758575439453,-73.90066528320312,M60+\\n524,40.7625617980957,-74.00098419189453,M42\\n525,40.737022399902344,-73.97428894042969,M34A+\\n526,40.82045364379883,-73.93631744384766,M1\\n527,40.82045364379883,-73.93631744384766,M1\\n528,40.80147933959961,-73.96820068359375,M60+\\n529,40.79875183105469,-73.96171569824219,M7\\n530,40.74938201904297,-73.98387145996094,M1\\n531,40.87095642089844,-73.82759857177734,BX26\\n532,40.794315338134766,-73.97018432617188,M7\\n533,40.70926284790039,-73.95931243896484,B46\\n534,40.652488708496094,-73.94682312011719,B44\\n535,40.73098373413086,-73.99334716796875,M1\\n536,40.65205001831055,-74.00521850585938,B35\\n537,40.820220947265625,-73.93627166748047,M1\\n538,40.75874710083008,-73.98124694824219,M7\\n539,40.75004196166992,-74.00826263427734,M23+\\n540,40.77528762817383,-73.98776245117188,M57\\n541,40.65947723388672,-73.9605484008789,B41\\n542,40.76750946044922,-73.90406036376953,M60+\\n543,40.713287353515625,-74.0044174194336,M22\\n544,40.817081451416016,-73.93858337402344,M1\\n545,40.75865173339844,-73.96363830566406,M57\\n546,40.77503204345703,-73.98795318603516,M57\\n547,40.85476303100586,-73.89037322998047,BX15\\n548,40.65174102783203,-73.93013000488281,B35\\n549,40.64730453491211,-73.99732208251953,B35\\n550,40.64970016479492,-73.96241760253906,B35\\n551,40.652008056640625,-73.92910766601562,B35\\n552,40.6425895690918,-73.97991943359375,B35\\n553,40.74659729003906,-73.98380279541016,M1\\n554,40.63801956176758,-73.95317840576172,B41\\n555,40.870853424072266,-73.82714080810547,BX30\\n556,40.7772331237793,-73.98197937011719,M7\\n557,40.8177604675293,-73.93826293945312,M7\\n558,40.82906723022461,-73.92833709716797,BX6\\n559,40.834007263183594,-73.8780746459961,BX36\\n560,40.848541259765625,-73.90254974365234,BX36\\n561,40.839324951171875,-73.88423156738281,BX36\\n562,40.81810760498047,-73.92546081542969,BX19\\n563,40.80210876464844,-73.95894622802734,M3\\n564,40.75422286987305,-73.97823333740234,M1\\n565,40.752891540527344,-73.98130798339844,M5\\n566,40.73931884765625,-73.79125213623047,Q88\\n567,40.77419662475586,-73.95707702636719,M79+\\n568,40.75338363647461,-73.99629974365234,M34+\\n569,40.78889846801758,-73.9779281616211,M86+\\n570,40.7802734375,-73.94686126708984,M86+\\n571,40.753807067871094,-73.77391052246094,Q27\\n572,40.70695495605469,-73.76363372802734,Q2\\n573,40.713253021240234,-73.97763061523438,M14A+\\n574,40.868186950683594,-73.88212585449219,BX41+\\n575,40.737709045410156,-73.7373275756836,Q46\\n576,40.73927307128906,-73.98422241210938,M23+\\n577,40.739715576171875,-74.00245666503906,M14A+\\n578,40.865692138671875,-73.82767486572266,BX12+\\n579,40.69538116455078,-73.99091339111328,B41\\n580,40.6783447265625,-73.9120864868164,B25\\n581,40.877742767333984,-73.8659439086914,BX41+\\n582,40.86270523071289,-73.90227508544922,BX12+\\n583,40.86170959472656,-73.89134979248047,BX12+\\n584,40.86280059814453,-73.90695190429688,BX12+\\n585,40.84254455566406,-73.9038314819336,BX41+\\n586,40.81021499633789,-73.96240997314453,M60+\\n587,40.70237731933594,-74.0130386352539,M20\\n588,40.770633697509766,-73.86763000488281,M60+\\n589,40.81920623779297,-73.93721771240234,M7\\n590,40.71102523803711,-73.79324340820312,Q31\\n591,40.770530700683594,-73.7865219116211,Q28\\n592,40.66708755493164,-73.90332794189453,B14\\n593,40.76532745361328,-73.81781768798828,Q28\\n594,40.67935562133789,-73.93069458007812,B25\\n595,40.68552780151367,-73.88182830810547,Q56\\n596,40.807342529296875,-73.94444274902344,M60+\\n597,40.760337829589844,-73.76940155029297,Q31\\n598,40.77421569824219,-73.8730239868164,M60+\\n599,40.7054328918457,-73.79364013671875,Q20A\\n600,40.80204391479492,-73.96769714355469,M60+\\n601,40.68051528930664,-73.95194244384766,B25\\n602,40.823753356933594,-73.91239929199219,BX6+\\n603,40.8358268737793,-73.94868469238281,BX6+\\n604,40.82892990112305,-73.92922973632812,BX6+\\n605,40.82094192504883,-73.89156341552734,BX6+\\n606,40.83311462402344,-73.9454345703125,BX6+\\n607,40.824424743652344,-73.91462707519531,BX6+\\n608,40.8100700378418,-73.87582397460938,BX6+\\n609,40.70991897583008,-74.00132751464844,M22\\n610,40.75206756591797,-73.98612213134766,M55\\n611,40.71148681640625,-74.015625,M20\\n612,40.759376525878906,-73.99488830566406,M42\\n613,40.82827377319336,-73.93514251708984,BX6\\n614,40.80841827392578,-73.880126953125,BX6\\n615,40.84020233154297,-73.88024139404297,BX36\\n616,40.834129333496094,-73.87842559814453,BX36\\n617,40.75437545776367,-73.98298645019531,M42\\n618,40.73974609375,-73.9988021850586,M20\\n619,40.787662506103516,-73.95384979248047,M2\\n620,40.79228973388672,-73.96623229980469,M96\\n621,40.809322357177734,-73.959228515625,M11\\n622,40.78677749633789,-73.953125,M96\\n623,40.792930603027344,-73.97117614746094,M11\\n624,40.738258361816406,-74.0040054321289,M12\\n625,40.648502349853516,-73.96544647216797,B35\\n626,40.832847595214844,-73.90493774414062,BX15\\n627,40.65574264526367,-73.91258239746094,B35\\n628,40.837215423583984,-73.88778686523438,BX19\\n629,40.841827392578125,-73.89861297607422,BX15\\n630,40.8493537902832,-73.90575408935547,BX36\\n631,40.75370788574219,-73.96770477294922,M50\\n632,40.759464263916016,-73.98440551757812,M20\\n633,40.746917724609375,-73.9849624633789,M4\\n634,40.86362838745117,-73.93241882324219,M4\\n635,40.792701721191406,-73.96717834472656,M96\\n636,40.82099151611328,-73.89694213867188,BX6\\n637,40.810096740722656,-73.87564849853516,BX6\\n638,40.73705291748047,-74.00577545166016,M11\\n639,40.81663513183594,-73.91986083984375,BX19\\n640,40.8491325378418,-73.93903350830078,BX36\\n641,40.82674789428711,-73.89193725585938,BX19\\n642,40.65254592895508,-73.92076110839844,B35\\n643,40.764381408691406,-73.97328186035156,M5\\n644,40.797542572021484,-73.93106079101562,M116\\n645,40.78128433227539,-73.95849609375,M4\\n646,40.75822448730469,-73.97532653808594,M2\\n647,40.819129943847656,-73.92940521240234,BX19\\n648,40.8228645324707,-73.9037857055664,BX6\\n649,40.79494094848633,-73.97169494628906,M104\\n650,40.82890701293945,-73.92927551269531,BX6+\\n651,40.810081481933594,-73.87577056884766,BX6+\\n652,40.81549072265625,-73.88683319091797,BX6+\\n653,40.86025619506836,-73.88055419921875,BX19\\n654,40.817413330078125,-73.95984649658203,BX15\\n655,40.729766845703125,-73.99309539794922,SIM4C\\n656,40.69710922241211,-73.7843246459961,Q85\\n657,40.69347381591797,-73.73482513427734,Q4\\n658,40.70125198364258,-73.80331420898438,Q5\\n659,40.75032043457031,-73.81879425048828,Q17\\n660,40.71739196777344,-73.73541259765625,Q27\\n661,40.66535949707031,-73.72477722167969,Q85\\n662,40.75532150268555,-73.76884460449219,Q27\\n663,40.72233200073242,-73.75758361816406,Q36\\n664,40.72819137573242,-73.78411102294922,Q46\\n665,40.700950622558594,-73.74166870117188,Q27\\n666,40.760353088378906,-73.82971954345703,Q27\\n667,40.706825256347656,-73.73919677734375,Q27\\n668,40.84089279174805,-73.87944030761719,BX9\\n669,40.842918395996094,-73.90362548828125,BX41\\n670,40.86543273925781,-73.88681030273438,BX41\\n671,40.83995819091797,-73.87679290771484,BX40\\n672,40.693328857421875,-73.734375,Q4\\n673,40.690711975097656,-73.74673461914062,Q77\\n674,40.75181198120117,-73.98210906982422,SIM1C\\n675,40.55702209472656,-74.16905212402344,SIM1C\\n676,40.720672607421875,-73.76021575927734,Q36\\n677,40.58226776123047,-74.0971450805664,SIM1C\\n678,40.71511459350586,-74.00782012939453,SIM4C\\n679,40.72187042236328,-73.99972534179688,SIM1C\\n680,40.703773498535156,-73.79913330078125,Q30\\n681,40.73881912231445,-73.80899810791016,Q17\\n682,40.77264404296875,-73.98120880126953,M66\\n683,40.72196960449219,-73.98575592041016,M9\\n684,40.767547607421875,-73.96336364746094,M66\\n685,40.762451171875,-73.98844909667969,M50\\n686,40.77021408081055,-73.96173858642578,M72\\n687,40.7642822265625,-73.95562744140625,M66\\n688,40.764347076416016,-73.99839782714844,M50\\n689,40.776607513427734,-73.98863220214844,M72\\n690,40.76804733276367,-73.96814727783203,M72\\n691,40.715572357177734,-74.01557159423828,M22\\n692,40.7667236328125,-73.9633560180664,M66\\n693,40.772403717041016,-73.978759765625,M66\\n694,40.83967971801758,-73.82939147949219,BX8\\n695,40.85145950317383,-73.88504791259766,BX17\\n696,40.71294403076172,-74.01411437988281,M9\\n697,40.779117584228516,-73.98284912109375,M72\\n698,40.71329116821289,-73.97777557373047,M21\\n699,40.77583694458008,-73.98685455322266,M66\\n700,40.599212646484375,-73.99661254882812,B6\\n701,40.60738754272461,-74.00285339355469,B1\\n702,40.59259796142578,-73.99322509765625,B6\\n703,40.59706115722656,-73.97234344482422,B3\\n704,40.59790802001953,-73.9646987915039,B3\\n705,40.758968353271484,-73.829833984375,Q27\\n706,40.74138259887695,-73.82191467285156,Q88\\n707,40.69453430175781,-73.78160095214844,Q85\\n708,40.7078857421875,-73.79533386230469,Q77\\n709,40.6558723449707,-73.90721130371094,B60\\n710,40.71490478515625,-73.7744140625,Q77\\n711,40.721839904785156,-73.77681732177734,Q17\\n712,40.71083450317383,-73.79269409179688,Q76\\n713,40.65904235839844,-73.91895294189453,B7\\n714,40.68670654296875,-73.96558380126953,B52\\n715,40.854610443115234,-73.89044952392578,BX15\\n716,40.74311828613281,-73.9158935546875,Q32\\n717,40.85451126098633,-73.91021728515625,BX42\\n718,40.76049041748047,-73.81460571289062,Q12\\n719,40.75986862182617,-73.82892608642578,Q12\\n720,40.74982452392578,-73.9365005493164,Q32\\n721,40.887962341308594,-73.86029052734375,BX39\\n722,40.81354904174805,-73.92247009277344,BX2\\n723,40.82430648803711,-73.95209503173828,M4\\n724,40.84220886230469,-73.8765869140625,BX9\\n725,40.77249526977539,-73.7949447631836,Q31\\n726,40.75434112548828,-73.82334899902344,Q27\\n727,40.702816009521484,-73.80475616455078,Q83\\n728,40.8399543762207,-73.87671661376953,BX42\\n729,40.691314697265625,-73.74614715576172,Q27\\n730,40.71066665649414,-73.79312133789062,Q36\\n731,40.7195930480957,-73.79055786132812,Q31\\n732,40.815216064453125,-73.8471450805664,BX22\\n733,40.69798278808594,-73.9748306274414,B57\\n734,40.85407638549805,-73.91204833984375,BX42\\n735,40.809566497802734,-73.80303955078125,BX40\\n736,40.81563186645508,-73.91666412353516,BX4A\\n737,40.70049285888672,-73.89964294433594,Q55\\n738,40.84644317626953,-73.89374542236328,BX40\\n739,40.85004425048828,-73.90074157714844,BX40\\n740,40.87163543701172,-73.83325958251953,BX38\\n741,40.873878479003906,-73.89031219482422,BX26\\n742,40.833106994628906,-73.90913391113281,BX41\\n743,40.677528381347656,-73.94976806640625,B44\\n744,40.85627365112305,-73.87957000732422,BX22\\n745,40.86083221435547,-73.88977813720703,BX12\\n746,40.6987419128418,-73.8930435180664,B13\\n747,40.826820373535156,-73.87303924560547,BX27\\n748,40.807254791259766,-73.85166931152344,BX27\\n749,40.88843536376953,-73.85986328125,BX8\\n750,40.81466293334961,-73.9202651977539,BX21\\n751,40.626956939697266,-74.00931549072266,B64\\n752,40.82505416870117,-73.89115905761719,BX11\\n753,40.81703567504883,-73.80709838867188,BX8\\n754,40.63296127319336,-73.92642974853516,B6\\n755,40.621803283691406,-74.02840423583984,B1\\n756,40.59686279296875,-73.9981689453125,B6\\n757,40.5928955078125,-73.97888946533203,B1\\n758,40.69517517089844,-73.93205261230469,B47\\n759,40.69204330444336,-73.9888916015625,B38\\n760,40.70925521850586,-73.9603042602539,B24\\n761,40.61848831176758,-74.00929260253906,B64\\n762,40.745426177978516,-73.97542572021484,M15+\\n763,40.7569580078125,-73.99369812011719,M34A+\\n764,40.73649215698242,-73.99480438232422,M14D+\\n765,40.69615936279297,-73.99020385742188,B52\\n766,40.70047378540039,-73.91002655029297,B54\\n767,40.689552307128906,-73.95402526855469,B38\\n768,40.69502639770508,-73.98902893066406,B38\\n769,40.759708404541016,-73.98054504394531,SIM1C\\n770,40.70637130737305,-74.0149917602539,SIM1C\\n771,40.605716705322266,-74.07225036621094,SIM33C\\n772,40.69761657714844,-73.9363784790039,B47\\n773,40.73634338378906,-73.87823486328125,Q58\\n774,40.791141510009766,-73.95339965820312,M4\\n775,40.74193572998047,-73.9935073852539,SIM33C\\n776,40.640262603759766,-74.166015625,SIM33C\\n777,40.70909881591797,-74.01206970214844,SIM3C\\n778,40.60456085205078,-74.06939697265625,SIM3C\\n779,40.68800354003906,-73.96753692626953,B38\\n780,40.699302673339844,-73.9542236328125,B57\\n781,40.73609924316406,-73.87921142578125,Q59\\n782,40.744014739990234,-73.8586196899414,Q58\\n783,40.862430572509766,-73.89754486083984,BX12\\n784,40.83501052856445,-73.85195922851562,BX22\\n785,40.82276916503906,-73.8275375366211,BX42\\n786,40.68070602416992,-73.90662384033203,B20\\n787,40.86190414428711,-73.8934326171875,BX12\\n788,40.63296890258789,-73.92839813232422,B46\\n789,40.6897087097168,-73.96572875976562,B38\\n790,40.61103439331055,-73.92044067382812,B47\\n791,40.70634460449219,-73.89752960205078,Q58\\n792,40.700748443603516,-73.94184112548828,B57\\n793,40.68132019042969,-73.93770599365234,B15\\n794,40.895484924316406,-73.87705993652344,BX16\\n795,40.631595611572266,-73.94636535644531,B41\\n796,40.884674072265625,-73.82664489746094,BX30\\n797,40.7999153137207,-73.96826171875,M104\\n798,40.85689163208008,-73.93575286865234,M4\\n799,40.75469207763672,-73.99907684326172,M11\\n800,40.6758918762207,-73.87012481689453,B13\\n801,40.79832077026367,-73.95265197753906,M2\\n802,40.88884735107422,-73.8185806274414,BX16\\n803,40.608360290527344,-73.95708465576172,B31\\n804,40.67683792114258,-73.89966583251953,B12\\n805,40.67403030395508,-73.96951293945312,B41\\n806,40.76141357421875,-73.9702377319336,M31\\n807,40.82047653198242,-73.95597839355469,M5\\n808,40.77475357055664,-73.98229217529297,M104\\n809,40.76712417602539,-73.9817123413086,M10\\n810,40.84050369262695,-73.94025421142578,M5\\n811,40.6032600402832,-74.06571197509766,SIM1C\\n812,40.76298904418945,-73.97404479980469,M31\\n813,40.77538299560547,-73.94751739501953,M31\\n814,40.77541732788086,-73.9474868774414,M31\\n815,40.78012466430664,-73.94524383544922,M31\\n816,40.76791000366211,-73.99170684814453,M31\\n817,40.768245697021484,-73.99250793457031,M31\\n818,40.831729888916016,-73.94288635253906,M3\\n819,40.75851821899414,-73.9598159790039,M31\\n820,40.713539123535156,-73.99873352050781,M22\\n821,40.851314544677734,-73.93226623535156,M3\\n822,40.76324462890625,-73.95636749267578,M31\\n823,40.73044967651367,-73.9920883178711,M8\\n824,40.76585006713867,-73.98080444335938,M57\\n825,40.71372985839844,-74.00888061523438,M55\\n826,40.777099609375,-73.98644256591797,M57\\n827,40.838417053222656,-73.93988037109375,M3\\n828,40.757850646972656,-73.99130249023438,M42\\n829,40.730262756347656,-73.9906005859375,M2\\n830,40.73971176147461,-74.0025405883789,M14A+\\n831,40.74576187133789,-73.99966430664062,M23+\\n832,40.65968704223633,-73.87857818603516,B20\\n833,40.68327713012695,-73.93689727783203,B26\\n834,40.76620864868164,-73.97745513916016,SIM33C\\n835,40.70680618286133,-73.94837951660156,B60\\n836,40.716495513916016,-74.00428009033203,SIM3C\\n837,40.6134033203125,-74.11683654785156,SIM3C\\n838,40.767784118652344,-73.9704360961914,M3\\n839,40.69829559326172,-73.92149353027344,B60\\n840,40.62010955810547,-73.90821075439453,B41\\n841,40.692352294921875,-73.989013671875,B41\\n842,40.76594924926758,-73.97685241699219,SIM3C\\n843,40.68824768066406,-73.98219299316406,B41\\n844,40.68763732910156,-73.95475769042969,B44\\n845,40.66808319091797,-73.95344543457031,B49\\n846,40.76853942871094,-73.98526000976562,M11\\n847,40.7372932434082,-73.9883804321289,M3\\n848,40.853939056396484,-73.93724822998047,M4\\n849,40.798614501953125,-73.9533462524414,M4\\n850,40.76784896850586,-73.9813232421875,M5\\n851,40.76258087158203,-73.9721450805664,M3\\n852,40.81673812866211,-73.95764923095703,M4\\n853,40.820133209228516,-73.95491790771484,M4\\n854,40.74615478515625,-73.99044036865234,SIM1C\\n855,40.82050704956055,-73.95604705810547,M5\\n856,40.70516586303711,-73.95934295654297,B44+\\n857,40.734981536865234,-73.97991943359375,M15+\\n858,40.70303726196289,-74.01115417480469,M15+\\n859,40.65327453613281,-73.94983673095703,B44+\\n860,40.651458740234375,-73.95255279541016,B44+\\n861,40.672298431396484,-73.95304107666016,B44+\\n862,40.707923889160156,-74.00359344482422,M15+\\n863,40.70387268066406,-73.9608383178711,B44+\\n864,40.600547790527344,-73.94190216064453,B44+\\n865,40.685054779052734,-73.95050048828125,B44+\\n866,40.61553192138672,-73.94474792480469,B44+\\n867,40.7051887512207,-74.00737762451172,M15+\\n868,40.61579513549805,-73.9448013305664,B44+\\n869,40.68311309814453,-74.00589752197266,B61\\n870,40.713993072509766,-73.94429779052734,B43\\n871,40.582435607910156,-73.95997619628906,B68\\n872,40.672977447509766,-73.94185638427734,B43\\n873,40.63910675048828,-74.02374267578125,B37\\n874,40.6066780090332,-74.00322723388672,B8\\n875,40.72996139526367,-73.9896011352539,M101\\n876,40.58439636230469,-73.93881225585938,B44+\\n877,40.67583084106445,-73.94994354248047,B44+\\n878,40.7376594543457,-74.00566101074219,M14A+\\n879,40.71403884887695,-73.980224609375,M14A+\\n880,40.736087799072266,-73.99385070800781,M14D+\\n881,40.71635437011719,-73.9919662475586,M15\\n882,40.742942810058594,-73.91818237304688,Q32\\n883,40.669795989990234,-73.99239349365234,B37\\n884,40.653438568115234,-73.9189682006836,B8\\n885,40.576881408691406,-73.98102569580078,B68\\n886,40.592689514160156,-73.97856140136719,B4\\n887,40.59500503540039,-73.9609375,B68\\n888,40.63688659667969,-74.03633880615234,B9\\n889,40.686519622802734,-73.98384094238281,B63\\n890,40.77418518066406,-73.95704650878906,M79+\\n891,40.74863052368164,-73.98503875732422,M34+\\n892,40.63530349731445,-73.9502944946289,B44+\\n893,40.7720832824707,-73.9499282836914,M31\\n894,40.73945236206055,-73.99530029296875,M7\\n895,40.72602844238281,-73.97794342041016,M8\\n896,40.71403121948242,-73.99031829833984,M9\\n897,40.77533721923828,-73.95980072021484,M79+\\n898,40.72229766845703,-73.97704315185547,M14D+\\n899,40.78171920776367,-73.97138977050781,M79+\\n900,40.746456146240234,-73.97987365722656,M34+\\n901,40.75645446777344,-74.0035629272461,M34+\\n902,40.75220489501953,-73.8208236694336,Q17\\n903,40.8031005859375,-73.93229675292969,M15+\\n904,40.803531646728516,-73.9354248046875,M60+\\n905,40.68537139892578,-73.77263641357422,Q5\\n906,40.74435043334961,-73.77392578125,Q30\\n907,40.69386291503906,-73.74516296386719,Q77\\n908,40.70526885986328,-73.76702117919922,Q3\\n909,40.73389434814453,-73.9886703491211,M14A+\\n910,40.760498046875,-73.9613037109375,M15+\\n911,40.720367431640625,-73.98990631103516,M15+\\n912,40.74709701538086,-74.00279998779297,M23+\\n913,40.65821838378906,-73.9566421508789,B49\\n914,40.78126907348633,-73.94926452636719,M15+\\n915,40.78327941894531,-73.97867584228516,M79+\\n916,40.716365814208984,-73.98030853271484,M14D+\\n917,40.739803314208984,-73.9854736328125,M23+\\n918,40.7466926574707,-73.98442840576172,M4\\n919,40.63978958129883,-74.1382827758789,S40\\n920,40.62496566772461,-74.02448272705078,B63\\n921,40.690155029296875,-73.99410247802734,B61\\n922,40.62822341918945,-74.1253890991211,S54\\n923,40.856754302978516,-73.92826843261719,M3\\n924,40.683597564697266,-74.00569915771484,B61\\n925,40.6382942199707,-74.0066146850586,B70\\n926,40.813411712646484,-73.95631408691406,M104\\n927,40.62964630126953,-74.11631774902344,S53\\n928,40.62228012084961,-74.0107192993164,B4\\n929,40.6479377746582,-74.01811218261719,B11\\n930,40.6898193359375,-73.99285125732422,B61\\n931,40.83010482788086,-73.93950653076172,M2\\n932,40.88499069213867,-73.8940200805664,BX10\\n933,40.89397048950195,-73.90847778320312,BX7\\n934,40.834754943847656,-73.9283447265625,BX13\\n935,40.79419708251953,-73.9490737915039,M4\\n936,40.6732177734375,-73.9829330444336,B63\\n937,40.771366119384766,-73.98226165771484,M104\\n938,40.814937591552734,-73.95511627197266,M104\\n939,40.62809371948242,-73.99728393554688,B9\\n940,40.795169830322266,-73.9713134765625,M96\\n941,40.803733825683594,-73.95378112792969,M116\\n942,40.63859558105469,-74.12911987304688,S40\\n943,40.640628814697266,-74.17082214355469,S48\\n944,40.61486053466797,-74.06670379638672,S51\\n945,40.63201904296875,-73.94759368896484,B11\\n946,40.583702087402344,-73.94371795654297,B4\\n947,40.701290130615234,-73.94322967529297,B43\\n948,40.63747787475586,-74.00746154785156,B70\\n949,40.742645263671875,-74.00413513183594,M11\\n950,40.674259185791016,-73.93059539794922,B46\\n951,40.67518615722656,-73.9813003540039,B63\\n952,40.650753021240234,-73.95880126953125,B41\\n953,40.6113166809082,-73.95366668701172,B49\\n954,40.617637634277344,-73.96317291259766,B9\\n955,40.60873031616211,-73.92112731933594,B9\\n956,40.591590881347656,-73.96067810058594,B68\\n957,40.8212890625,-73.95430755615234,M5\\n958,40.77821350097656,-73.96283721923828,M2\\n959,40.87480926513672,-73.89238739013672,BX26\\n960,40.852237701416016,-73.82636260986328,BX24\\n961,40.609947204589844,-74.03439331054688,SIM4C\\n962,40.61988067626953,-73.9117202758789,B41\\n963,40.74739456176758,-73.8862075805664,Q32\\n964,40.760963439941406,-73.82733917236328,Q28\\n965,40.75776290893555,-73.79236602783203,Q13\\n966,40.60295104980469,-73.96154022216797,B68\\n967,40.614540100097656,-73.96920776367188,B9\\n968,40.614776611328125,-74.03421020507812,B63\\n969,40.69221878051758,-73.98728942871094,B67\\n970,40.63820266723633,-73.9788589477539,B69\\n971,40.749507904052734,-73.99110412597656,Q32\\n972,40.72209167480469,-73.9771957397461,M14D+\\n973,40.76507568359375,-73.77177429199219,Q13\\n974,40.76533889770508,-73.81761169433594,Q13\\n975,40.60890579223633,-74.00061798095703,B8\\n976,40.73723602294922,-73.95576477050781,B43\\n977,40.621177673339844,-73.96449279785156,B68\\n978,40.71013641357422,-73.79438018798828,Q36\\n979,40.72993850708008,-73.74482727050781,Q27\\n980,40.7518424987793,-73.7878646850586,Q31\\n981,40.75408935546875,-73.9846420288086,M5\\n982,40.8400993347168,-73.94309997558594,M4\\n983,40.780513763427734,-73.80259704589844,Q76\\n984,40.788082122802734,-73.80783081054688,Q15\\n985,40.68272018432617,-73.98023223876953,B37\\n986,40.878047943115234,-73.83334350585938,BX30\\n987,40.88193130493164,-73.90892791748047,BX7\\n988,40.65518569946289,-73.90703582763672,B8\\n989,40.7669677734375,-73.82730102539062,Q20A\\n990,40.76226806640625,-73.83155059814453,Q20B\\n991,40.6943359375,-74.00043487548828,B63\\n992,40.68230438232422,-74.0070571899414,B61\\n993,40.646671295166016,-73.98123931884766,B16\\n994,40.64809036254883,-74.0071792602539,B63\\n995,40.6407585144043,-74.00315856933594,B11\\n996,40.886810302734375,-73.91243743896484,BX10\\n997,40.874977111816406,-73.87946319580078,BX10\\n998,40.78871536254883,-73.78225708007812,Q13\\n999,40.84926986694336,-73.93363189697266,BX13\\n1000,40.75992965698242,-73.82867431640625,Q15A\\n1001,40.84428024291992,-73.92292022705078,BX3\\n1002,40.6639518737793,-73.97743225097656,B61\\n1003,40.62427520751953,-74.01988220214844,B16\\n1004,40.635189056396484,-74.02481842041016,B9\\n1005,40.84379959106445,-73.93904876708984,M100\\n1006,40.873992919921875,-73.85572052001953,BX28\\n1007,40.75823974609375,-73.82317352294922,Q12\\n1008,40.75722122192383,-73.98979187011719,M34A+\\n1009,40.730491638183594,-73.9805679321289,M14A+\\n1010,40.808162689208984,-73.9464340209961,M101\\n1011,40.84285354614258,-73.93472290039062,M101\\n1012,40.80176544189453,-73.93106079101562,M15\\n1013,40.856998443603516,-73.85860443115234,BX12\\n1014,40.732887268066406,-73.98453521728516,M15+\\n1015,40.76110076904297,-73.96087646484375,M15+\\n1016,40.76766586303711,-73.98210906982422,M7\\n1017,40.7940673828125,-73.9703598022461,M7\\n1018,40.774696350097656,-73.96539306640625,M1\\n1019,40.80404281616211,-73.93456268310547,M35\\n1020,40.704593658447266,-74.00821685791016,M15+\\n1021,40.804107666015625,-73.93678283691406,M101\\n1022,40.765594482421875,-73.97621154785156,SIM4C\\n1023,40.796363830566406,-73.94117736816406,M103\\n1024,40.825557708740234,-73.89016723632812,BX4\\n1025,40.820472717285156,-73.8245849609375,BX42\\n1026,40.68064880371094,-74.00460815429688,SIM4C\\n1027,40.75882339477539,-73.97698974609375,SIM4C\\n1028,40.803062438964844,-73.93334197998047,M15+\\n1029,40.804080963134766,-73.9376220703125,M35\\n1030,40.81132888793945,-73.94297790527344,M7\\n1031,40.740394592285156,-73.99461364746094,M7\\n1032,40.76939392089844,-73.98221588134766,M7\\n1033,40.77348327636719,-73.98165893554688,M7\\n1034,40.826271057128906,-73.84972381591797,BX22\\n1035,40.83970642089844,-73.87178802490234,BX40\\n1036,40.7210807800293,-73.99756622314453,M1\\n1037,40.81930160522461,-73.93695068359375,M7\\n1038,40.787723541259766,-73.97129821777344,M7\\n1039,40.801910400390625,-73.94342803955078,M1\\n1040,40.78417205810547,-73.9448013305664,M96\\n1041,40.79878234863281,-73.95375061035156,M4\\n1042,40.71104431152344,-73.7396011352539,Q2\\n1043,40.8326416015625,-73.8279037475586,BX40\\n1044,40.789756774902344,-73.96607208251953,M10\\n1045,40.79399490356445,-73.9513168334961,M2\\n1046,40.8308219909668,-73.92031860351562,BX1\\n1047,40.86729049682617,-73.89363098144531,BX1\\n1048,40.63055419921875,-74.0167236328125,SIM1C\\n1049,40.70766830444336,-73.79519653320312,Q2\\n1050,40.81618118286133,-73.91809844970703,BX2\\n1051,40.8344612121582,-73.9175033569336,BX2\\n1052,40.836795806884766,-73.84669494628906,BX4\\n1053,40.73897171020508,-73.9965591430664,M7\\n1054,40.82168960571289,-73.95378112792969,M5\\n1055,40.58650207519531,-74.163330078125,SIM4C\\n1056,40.85285949707031,-73.8267593383789,BX5\\n1057,40.76600646972656,-73.96039581298828,M15+\\n1058,40.718929290771484,-73.99038696289062,M15+\\n1059,40.8409538269043,-73.88213348388672,BX42\\n1060,40.86940002441406,-73.90351104736328,BX9\\n1061,40.753814697265625,-73.96929931640625,M15+\\n1062,40.702911376953125,-74.01165771484375,M15+\\n1063,40.755775451660156,-73.96788024902344,M15+\\n1064,40.7602424621582,-73.96148681640625,M15+\\n1065,40.71112060546875,-74.00035858154297,M15+\\n1066,40.72193908691406,-73.98915100097656,M15+\\n1067,40.802825927734375,-73.93350982666016,M15+\\n1068,40.81674575805664,-73.85702514648438,BX39\\n1069,40.81157302856445,-73.92630767822266,BX2\\n1070,40.810707092285156,-73.92774200439453,BX1\\n1071,40.8030891418457,-73.9322738647461,M15+\\n1072,40.764713287353516,-73.97688293457031,SIM1C\\n1073,40.75776290893555,-73.96330261230469,M15+\\n1074,40.74171829223633,-73.97501373291016,M15+\\n1075,40.57760238647461,-74.16956329345703,S59\\n1076,40.575008392333984,-74.16557312011719,S44\\n1077,40.6430549621582,-74.07494354248047,S61\\n1078,40.54990005493164,-74.16743469238281,S59\\n1079,40.61663055419922,-74.1566390991211,S44\\n1080,40.585323333740234,-74.0712890625,S52\\n1081,40.639984130859375,-74.13043212890625,S57\\n1082,40.622650146484375,-74.09600067138672,S61\\n1083,40.609283447265625,-74.1512451171875,S62\\n1084,40.62113571166992,-74.02902221679688,S93\\n1085,40.88105773925781,-73.9032974243164,BX9\\n1086,40.745113372802734,-73.86416625976562,Q58\\n1087,40.6292724609375,-74.1475601196289,S44\\n1088,40.59407043457031,-74.1866226196289,S62\\n1089,40.53419876098633,-74.154052734375,S59\\n1090,40.625370025634766,-74.1439208984375,S59\\n1091,40.64283752441406,-74.09539794921875,S44\\n1092,40.60211181640625,-74.0704116821289,S52\\n1093,40.643558502197266,-74.07308197021484,S48\\n1094,40.64354705810547,-74.07311248779297,S51\\n1095,40.680294036865234,-73.94786834716797,B25\\n1096,40.68278503417969,-73.98040771484375,B65\\n1097,40.67972946166992,-73.93789672851562,B25\\n1098,40.658775329589844,-73.92662048339844,B17\\n1099,40.621543884277344,-73.93486022949219,B82\\n1100,40.68715286254883,-73.97505950927734,B38\\n1101,40.65169906616211,-73.92068481445312,B47\\n1102,40.73052215576172,-73.88646697998047,Q58\\n1103,40.73762893676758,-73.87720489501953,Q58\\n1104,40.643733978271484,-73.87772369384766,B82\\n1105,40.61245346069336,-74.13184356689453,S93\\n1106,40.64306640625,-74.0749282836914,S40\\n1107,40.62997817993164,-74.0802993774414,S52\\n1108,40.60989761352539,-74.09136199951172,S93\\n1109,40.63960266113281,-74.13070678710938,S53\\n1110,40.6234245300293,-74.11345672607422,S53\\n1111,40.612422943115234,-74.1323013305664,S93\\n1112,40.61101150512695,-74.09815216064453,S93\\n1113,40.62110137939453,-74.02903747558594,S93\\n1114,40.59856414794922,-74.08008575439453,S53\\n1115,40.59770965576172,-74.07526397705078,S53\\n1116,40.6319694519043,-74.16525268554688,S46\\n1117,40.630619049072266,-74.16638946533203,S40\\n1118,40.637752532958984,-74.07605743408203,S46\\n1119,40.643253326416016,-74.07396697998047,S52\\n1120,40.634742736816406,-74.11249542236328,S46\\n1121,40.6162109375,-73.94461059570312,B7\\n1122,40.72554397583008,-73.94509887695312,B48\\n1123,40.6141357421875,-74.02999114990234,B8\\n1124,40.62645721435547,-73.97178649902344,B11\\n1125,40.6904411315918,-73.9877700805664,B67\\n1126,40.6999626159668,-73.9876480102539,B69\\n1127,40.576351165771484,-73.9673843383789,B68\\n1128,40.66056442260742,-73.86637115478516,B13\\n1129,40.69473648071289,-73.95465850830078,B54\\n1130,40.83849334716797,-73.90184783935547,BX11\\n1131,40.691707611083984,-73.98804473876953,B52\\n1132,40.62605285644531,-73.95349884033203,B11\\n1133,40.61370849609375,-74.03700256347656,B16\\n1134,40.62678527832031,-73.99515533447266,B9\\n1135,40.63090896606445,-73.9524917602539,B11\\n1136,40.617210388183594,-73.96712493896484,B9\\n1137,40.71234130859375,-73.89114379882812,Q54\\n1138,40.69599533081055,-73.90008544921875,B20\\n1139,40.744903564453125,-73.93232727050781,Q32\\n1140,40.73061752319336,-73.92615509033203,B24\\n1141,40.60491180419922,-74.0118179321289,B8\\n1142,40.63719177246094,-74.0342788696289,B9\\n1143,40.71100616455078,-73.89973449707031,Q58\\n1144,40.69850540161133,-73.98054504394531,B62\\n1145,40.711788177490234,-73.79000091552734,Q76\\n1146,40.6260986328125,-73.93301391601562,B7\\n1147,40.74431228637695,-73.93013763427734,Q32\\n1148,40.609153747558594,-73.92160034179688,B9\\n1149,40.77055740356445,-73.73558044433594,Q12\\n1150,40.6666374206543,-73.89453125,B20\\n1151,40.64802932739258,-73.91861724853516,B8\\n1152,40.635986328125,-74.01036834716797,B9\\n1153,40.57746124267578,-73.96211242675781,B68\\n1154,40.696346282958984,-73.9406509399414,B54\\n1155,40.752342224121094,-73.72114562988281,Q36\\n1156,40.77149200439453,-73.78326416015625,Q28\\n1157,40.66080093383789,-73.96136474609375,B48\\n1158,40.830345153808594,-73.93637084960938,M10\\n1159,40.74939727783203,-73.98385620117188,M5\\n1160,40.662254333496094,-73.91988372802734,B15\\n1161,40.68637466430664,-73.97470092773438,B25\\n1162,40.66243362426758,-73.93734741210938,B12\\n1163,40.66935348510742,-73.84561920166016,B15\\n1164,40.65616226196289,-73.91307067871094,B15\\n1165,40.68735122680664,-73.97708129882812,B25\\n1166,40.673126220703125,-73.9088134765625,B12\\n1167,40.651832580566406,-73.86587524414062,B83\\n1168,40.686744689941406,-73.93579864501953,B15\\n1169,40.677242279052734,-73.9358901977539,B15\\n1170,40.758426666259766,-73.82953643798828,Q17\\n1171,40.670555114746094,-73.93063354492188,B45\\n1172,40.68388748168945,-73.86402130126953,Q24\\n1173,40.63724136352539,-73.90264892578125,B17\\n1174,40.69623565673828,-73.74363708496094,Q4\\n1175,40.712615966796875,-73.78386688232422,Q17\\n1176,40.6724739074707,-73.7567138671875,Q85\\n1177,40.74109649658203,-73.78484344482422,Q30\\n1178,40.679298400878906,-73.76171112060547,Q3\\n1179,40.70293045043945,-73.79753112792969,Q85\\n1180,40.69293212890625,-73.77137756347656,Q4\\n1181,40.70033645629883,-73.7889633178711,Q84\\n1182,40.665496826171875,-73.751708984375,Q85\\n1183,40.70925521850586,-73.79621124267578,Q17\\n1184,40.59268569946289,-73.96076202392578,B68\\n1185,40.611663818359375,-74.03516387939453,B16\\n1186,40.65694808959961,-73.99797821044922,B63\\n1187,40.626564025878906,-74.02383422851562,B63\\n1188,40.70133972167969,-73.80301666259766,Q85\\n1189,40.75372314453125,-73.75711822509766,Q30\\n1190,40.7645263671875,-73.7255630493164,Q30\\n1191,40.884033203125,-73.84877014160156,BX31\\n1192,40.81275177001953,-73.92949676513672,BX33\\n1193,40.839576721191406,-73.88253784179688,BX21\\n1194,40.8682975769043,-73.90116882324219,BX9\\n1195,40.85752868652344,-73.9044189453125,BX32\\n1196,40.85142135620117,-73.90956115722656,BX32\\n1197,40.86701202392578,-73.89632415771484,BX9\\n1198,40.84115219116211,-73.84317779541016,BX21\\n1199,40.85982131958008,-73.88782501220703,BX9\\n1200,40.849151611328125,-73.93824005126953,BX11\\n1201,40.87211608886719,-73.88805389404297,BX2\\n1202,40.84178161621094,-73.89863586425781,BX15\\n1203,40.69551467895508,-73.99095153808594,B41\\n1204,40.63727569580078,-73.95638275146484,B49\\n1205,40.69441604614258,-73.99061584472656,B41\\n1206,40.825870513916016,-73.91934204101562,BX6\\n1207,40.62233352661133,-73.92723846435547,B46\\n1208,40.8170051574707,-73.89549255371094,BX19\\n1209,40.815128326416016,-73.95780944824219,BX15\\n1210,40.63298034667969,-73.9478530883789,B41\\n1211,40.60993194580078,-73.95340728759766,B49\\n1212,40.65623474121094,-73.96001434326172,B41\\n1213,40.688323974609375,-73.98239135742188,B41\\n1214,40.5964241027832,-73.94110870361328,B44\\n1215,40.818180084228516,-73.894287109375,BX19\\n1216,40.609256744384766,-73.94354248046875,B44\\n1217,40.82679748535156,-73.95532989501953,BX19\\n1218,40.82444381713867,-73.89190673828125,BX19\\n1219,40.84508514404297,-73.88265228271484,BX36\\n1220,40.58342361450195,-73.95051574707031,B49\\n1221,40.87668991088867,-73.90255737304688,BX1\\n1222,40.81330490112305,-73.90941619873047,BX19\\n1223,40.63841247558594,-73.95294189453125,B49\\n1224,40.877227783203125,-73.885498046875,BX2\\n1225,40.68929672241211,-73.98487091064453,B41\\n1226,40.843387603759766,-73.88551330566406,BX19\\n1227,40.76811218261719,-73.8671646118164,Q48\\n1228,40.65974044799805,-73.7762680053711,Q3\\n1229,40.76509475708008,-73.81983947753906,Q13\\n1230,40.67891311645508,-73.74913024902344,Q5\\n1231,40.73884582519531,-73.80977630615234,Q17\\n1232,40.70927429199219,-73.7972640991211,Q3\\n1233,40.64214324951172,-74.00394439697266,B11\\n1234,40.84020233154297,-73.92147064208984,BX35\\n1235,40.684940338134766,-73.91011810302734,B60\\n1236,40.689090728759766,-73.94214630126953,B43\\n1237,40.6307487487793,-74.02479553222656,B4\\n1238,40.67269515991211,-73.95433044433594,B49\\n1239,40.764610290527344,-73.81076049804688,Q28\\n1240,40.78718948364258,-73.82342529296875,Q44+\\n1241,40.812713623046875,-73.93757629394531,BX33\\n1242,40.758541107177734,-73.97718811035156,Q32\\n1243,40.75274658203125,-73.8270492553711,Q44+\\n1244,40.77959442138672,-73.82330322265625,Q20A\\n1245,40.70496368408203,-73.79325866699219,Q44+\\n1246,40.781166076660156,-73.78170776367188,Q28\\n1247,40.82487106323242,-73.90837097167969,BX21\\n1248,40.70124816894531,-73.80789184570312,Q44+\\n1249,40.741310119628906,-73.7566909790039,Q88\\n1250,40.838497161865234,-73.92615509033203,BX11\\n1251,40.7966423034668,-73.9487533569336,M3\\n1252,40.79823303222656,-73.96903228759766,M104\\n1253,40.88330841064453,-73.84955596923828,BX31\\n1254,40.83863830566406,-73.9138412475586,BX11\\n1255,40.84464645385742,-73.90938568115234,BX32\\n1256,40.837345123291016,-73.88774871826172,BX21\\n1257,40.76139450073242,-73.82701110839844,Q28\\n1258,40.88307189941406,-73.84648895263672,BX31\\n1259,40.76601791381836,-73.82770538330078,Q16\\n1260,40.83122253417969,-73.9005126953125,BX35\\n1261,40.70502853393555,-73.8034896850586,Q83\\n1262,40.71842575073242,-73.73548126220703,Q36\\n1263,40.784183502197266,-73.8458023071289,Q20A\\n1264,40.724971771240234,-73.72225189208984,Q36\\n1265,40.861083984375,-73.85755920410156,BX8\\n1266,40.77813720703125,-73.95447540283203,M103\\n1267,40.857730865478516,-73.88298797607422,BX17\\n1268,40.76540756225586,-73.95775604248047,M15\\n1269,40.827354431152344,-73.86815643310547,BX27\\n1270,40.849849700927734,-73.93500518798828,BX35\\n1271,40.8299446105957,-73.8505630493164,BX22\\n1272,40.827884674072266,-73.92211151123047,BX2\\n1273,40.57510757446289,-74.1050033569336,S78\\n1274,40.55843734741211,-74.19816589355469,S74\\n1275,40.64323425292969,-74.07472229003906,S78\\n1276,40.52262878417969,-74.1898193359375,S55\\n1277,40.56071472167969,-74.17121887207031,S56\\n1278,40.64354705810547,-74.07311248779297,S74\\n1279,40.573123931884766,-74.13528442382812,S74\\n1280,40.548362731933594,-74.22481536865234,S74\\n1281,40.53593444824219,-74.23682403564453,S74\\n1282,40.59542465209961,-74.08605194091797,S78\\n1283,40.55891799926758,-74.19763946533203,S74\\n1284,40.585655212402344,-74.10557556152344,S74\\n1285,40.6099853515625,-74.08710479736328,S74\\n1286,40.53144836425781,-74.15670776367188,S78\\n1287,40.50973892211914,-74.21766662597656,S78\\n1288,40.71725845336914,-73.99124145507812,M15\\n1289,40.771392822265625,-73.96149444580078,M103\\n1290,40.78936004638672,-73.94335174560547,M15\\n1291,40.75550079345703,-73.97100067138672,M103\\n1292,40.72559356689453,-73.98985290527344,M15\\n1293,40.715763092041016,-73.99633026123047,M103\\n1294,40.854190826416016,-73.90198516845703,BX2\\n1295,40.781158447265625,-73.9493408203125,M15\\n1296,40.79437255859375,-73.94471740722656,M102\\n1297,40.807552337646484,-73.94495391845703,M101\\n1298,40.6225471496582,-74.02845764160156,S79+\\n1299,40.63434600830078,-74.11947631835938,S46\\n1300,40.63821792602539,-74.07898712158203,S62\\n1301,40.62412643432617,-74.14900207519531,S59\\n1302,40.60440444946289,-74.13163757324219,S57\\n1303,40.590003967285156,-74.1935806274414,S62\\n1304,40.747169494628906,-73.97705078125,M101\\n1305,40.75143814086914,-73.97394561767578,M102\\n1306,40.808013916015625,-73.94608306884766,M101\\n1307,40.7476692199707,-73.97378540039062,M15\\n1308,40.78813552856445,-73.94114685058594,M15\\n1309,40.77220153808594,-73.96089935302734,M102\\n1310,40.60972213745117,-74.08972930908203,S74\\n1311,40.578975677490234,-74.16852569580078,S55\\n1312,40.63880920410156,-74.10598754882812,S44\\n1313,40.58658218383789,-74.16272735595703,S61\\n1314,40.59852600097656,-74.07933807373047,S78\\n1315,40.54768753051758,-74.13961791992188,S78\\n1316,40.63815689086914,-74.07913208007812,S78\\n1317,40.50412368774414,-74.25179290771484,S78\\n1318,40.5489616394043,-74.22077941894531,S74\\n1319,40.835933685302734,-73.89037322998047,BX21\\n1320,40.70358657836914,-73.79513549804688,Q24\\n1321,40.82680130004883,-73.89241027832031,BX35\\n1322,40.64747619628906,-73.89484405517578,B82+\\n1323,40.593753814697266,-73.99439239501953,B82+\\n1324,40.598392486572266,-73.99746704101562,B82+\\n1325,40.62205123901367,-73.93756103515625,B82+\\n1326,40.68781661987305,-73.93901062011719,B15\\n1327,40.67588424682617,-73.93202209472656,B15\\n1328,40.70179748535156,-73.8086929321289,Q56\\n1329,40.5768928527832,-74.10330963134766,S78\\n1330,40.734256744384766,-73.79322052001953,Q30\\n1331,40.74779510498047,-73.81602478027344,Q17\\n1332,40.672271728515625,-73.75638580322266,Q85\\n1333,40.70451736450195,-73.78193664550781,Q42\\n1334,40.76155471801758,-73.8310775756836,Q17\\n1335,40.61698532104492,-73.92668151855469,B46+\\n1336,40.64115524291992,-73.94563293457031,B44\\n1337,40.65283966064453,-73.9305191040039,B46+\\n1338,40.69231033325195,-73.93093872070312,B46+\\n1339,40.64101791381836,-73.94745635986328,B8\\n1340,40.617637634277344,-73.97999572753906,B9\\n1341,40.72090530395508,-73.94660949707031,B43\\n1342,40.63804626464844,-73.96843719482422,B68\\n1343,40.6349983215332,-74.0243911743164,B9\\n1344,40.69164276123047,-73.9308090209961,B46+\\n1345,40.66368865966797,-73.95428466796875,B43\\n1346,40.62085723876953,-73.93499755859375,B41\\n1347,40.7563591003418,-73.98772430419922,M42\\n1348,40.778831481933594,-73.98217010498047,M72\\n1349,40.764522552490234,-73.95618438720703,M66\\n1350,40.67418670654297,-73.93060302734375,B46+\\n1351,40.64426803588867,-73.92958068847656,B46+\\n1352,40.70456314086914,-73.94869232177734,B46\\n1353,40.683746337890625,-73.92923736572266,B46\\n1354,40.659549713134766,-73.95050048828125,B44\\n1355,40.66310119628906,-73.95087432861328,B44\\n1356,40.696842193603516,-73.900390625,B20\\n1357,40.687705993652344,-73.91327667236328,B26\\n1358,40.74528503417969,-73.82595825195312,Q20B\\n1359,40.73735809326172,-73.97960662841797,M9\\n1360,40.7662467956543,-73.9544448852539,M72\\n1361,40.773319244384766,-73.97807312011719,M72\\n1362,40.777652740478516,-73.9793930053711,M72\\n1363,40.58395004272461,-73.95065307617188,B49\\n1364,40.70944595336914,-73.9595947265625,B46\\n1365,40.690818786621094,-73.98880767822266,B41\\n1366,40.786041259765625,-73.94869995117188,M101\\n1367,40.70903396606445,-73.89844512939453,Q58\\n1368,40.78697204589844,-73.80801391601562,Q15\\n1369,40.64696502685547,-73.88088989257812,B82+\\n1370,40.60427474975586,-73.9730224609375,B82+\\n1371,40.64296340942383,-73.87825012207031,B82+\\n1372,40.62273406982422,-73.93604278564453,B82+\\n1373,40.640296936035156,-73.90585327148438,B82+\\n1374,40.61033248901367,-73.95445251464844,B82+\\n1375,40.61719512939453,-73.94359588623047,B82+\\n1376,40.59377670288086,-73.99458312988281,B82+\\n1377,40.68989562988281,-73.93045806884766,B46+\\n1378,40.620296478271484,-73.92703247070312,B46+\\n1379,40.89289474487305,-73.85579681396484,BX31\\n1380,40.85824203491211,-73.84331512451172,BX31\\n1381,40.84852600097656,-73.84500885009766,BX31\\n1382,40.67721176147461,-73.93031311035156,B46+\\n1383,40.626220703125,-73.92765808105469,B46+\\n1384,40.84658432006836,-73.92749786376953,BX35\\n1385,40.85490798950195,-73.85496520996094,BX8\\n1386,40.890968322753906,-73.8497543334961,BX31\\n1387,40.6099739074707,-73.92286682128906,B46+\\n1388,40.60847091674805,-73.92118835449219,B46+\\n1389,40.829654693603516,-73.91619873046875,BX32\\n1390,40.642417907714844,-73.92939758300781,B46+\\n1391,40.63195037841797,-73.98858642578125,B11\\n1392,40.82638168334961,-73.8908920288086,BX35\\n1393,40.67707061767578,-73.93032836914062,B46+\\n1394,40.69248580932617,-73.93096923828125,B46+\\n1395,40.75786209106445,-73.97135925292969,M101\\n1396,40.86249923706055,-73.89690399169922,BX2\\n1397,40.69730758666992,-73.93228912353516,B54\\n1398,40.83251953125,-73.86251831054688,BX39\\n1399,40.850616455078125,-73.93839263916016,M4\\n1400,40.823204040527344,-73.94910430908203,M101\\n1401,40.66185760498047,-73.96076202392578,B48\\n1402,40.836753845214844,-73.91574096679688,BX2\\n1403,40.737545013427734,-73.98407745361328,M101\\n1404,40.77073669433594,-73.9598617553711,M102\\n1405,40.76314163208008,-73.96537780761719,M103\\n1406,40.649173736572266,-73.94940185546875,B44+\\n1407,40.84257888793945,-73.93492889404297,M101\\n1408,40.862701416015625,-73.90277099609375,BX12\\n1409,40.893943786621094,-73.89646911621094,BX9\\n1410,40.821388244628906,-73.8796157836914,BX5\\n1411,40.777862548828125,-73.95467376708984,M103\\n1412,40.75003433227539,-73.9749526977539,M101\\n1413,40.774200439453125,-73.95944213867188,M102\\n1414,40.895626068115234,-73.85617065429688,BX39\\n1415,40.879852294921875,-73.86524200439453,BX39\\n1416,40.88226318359375,-73.89165496826172,BX1\\n1417,40.868656158447266,-73.9023208618164,BX9\\n1418,40.88714599609375,-73.86074829101562,BX39\\n1419,40.880619049072266,-73.88578796386719,BX1\\n1420,40.71189880371094,-73.7882308959961,Q3\\n1421,40.71844482421875,-73.79157257080078,Q30\\n1422,40.711769104003906,-73.79299926757812,Q30\\n1423,40.68294143676758,-73.76809692382812,Q5\\n1424,40.67976760864258,-73.75145721435547,Q5\\n1425,40.7617301940918,-73.82958984375,Q17\\n1426,40.70037841796875,-73.7891616821289,Q84\\n1427,40.67536544799805,-73.73839569091797,Q5\\n1428,40.73721694946289,-73.98431396484375,M102\\n1429,40.739627838134766,-73.9175033569336,B24\\n1430,40.71467590332031,-73.99282836914062,M15\\n1431,40.74137496948242,-73.97526550292969,M15\\n1432,40.62042236328125,-73.9173583984375,B47\\n1433,40.68928146362305,-73.95633697509766,B38\\n1434,40.8217887878418,-73.9119644165039,BX15\\n1435,40.80173110961914,-73.93934631347656,M101\\n1436,40.735694885253906,-73.88072204589844,Q59\\n1437,40.73455047607422,-73.98625183105469,M102\\n1438,40.68987274169922,-73.97883605957031,B38\\n1439,40.70817565917969,-74.0033187866211,M15\\n1440,40.75666046142578,-73.97223663330078,M101\\n1441,40.711490631103516,-73.96318817138672,B62\\n1442,40.70076370239258,-73.96292114257812,B62\\n1443,40.856021881103516,-73.89083862304688,BX15\\n1444,40.73932647705078,-73.98278045654297,M103\\n1445,40.692352294921875,-73.9296875,B38\\n1446,40.7551155090332,-73.83206939697266,Q58\\n1447,40.711814880371094,-74.00663757324219,M103\\n1448,40.742496490478516,-73.85453033447266,Q58\\n1449,40.72581100463867,-73.8955078125,Q58\\n1450,40.792423248291016,-73.94404602050781,M101\\n1451,40.66121292114258,-73.89260864257812,B20\\n1452,40.81759262084961,-73.9234848022461,BX2\\n1453,40.88888168334961,-73.83129119873047,BX16\\n1454,40.64836502075195,-73.92032623291016,B47\\n1455,40.69023513793945,-73.98431396484375,B38\\n1456,40.821250915527344,-73.93608093261719,M102\\n1457,40.690757751464844,-73.98561096191406,B38\\n1458,40.879150390625,-73.87913513183594,BX34\\n1459,40.837188720703125,-73.90196228027344,BX15\\n1460,40.71501159667969,-73.99681091308594,M103\\n1461,40.790008544921875,-73.94790649414062,M103\\n1462,40.793819427490234,-73.94302368164062,M102\\n1463,40.84225082397461,-73.91244506835938,BX2\\n1464,40.750587463378906,-73.98299407958984,M4\\n1465,40.71531677246094,-73.96331787109375,Q59\\n1466,40.66701889038086,-73.87105560302734,B20\\n1467,40.854393005371094,-73.90223693847656,BX2\\n1468,40.652252197265625,-73.87629699707031,B13\\n1469,40.702880859375,-73.8579330444336,Q55\\n1470,40.698543548583984,-73.94115447998047,B47\\n1471,40.69057083129883,-73.95817565917969,B38\\n1472,40.74771499633789,-73.833740234375,Q58\\n1473,40.61343765258789,-73.9818115234375,B6\\n1474,40.6251106262207,-73.96194458007812,B6\\n1475,40.5735969543457,-73.99107360839844,B36\\n1476,40.62245178222656,-74.02783203125,B1\\n1477,40.597938537597656,-73.98714447021484,B3\\n1478,40.573036193847656,-74.00098419189453,B36\\n1479,40.61787796020508,-73.91015625,B3\\n1480,40.63450241088867,-73.94942474365234,B6\\n1481,40.613765716552734,-73.98148345947266,B6\\n1482,40.69102096557617,-73.7453842163086,Q27\\n1483,40.707984924316406,-73.8017807006836,Q43\\n1484,40.71467590332031,-73.83130645751953,Q46\\n1485,40.73499298095703,-73.8695297241211,Q88\\n1486,40.58681106567383,-73.96611785888672,B1\\n1487,40.60988998413086,-73.92235565185547,B3\\n1488,40.66450119018555,-73.73466491699219,Q85\\n1489,40.59408950805664,-73.99117279052734,B64\\n1490,40.632266998291016,-73.89710998535156,B17\\n1491,40.76246643066406,-73.97222137451172,M4\\n1492,40.75374984741211,-73.97858428955078,M3\\n1493,40.67754364013672,-73.93585968017578,B15\\n1494,40.72021484375,-73.75882720947266,Q77\\n1495,40.75400161743164,-73.97840118408203,M4\\n1496,40.69539260864258,-73.84025573730469,Q56\\n1497,40.6811408996582,-73.87369537353516,Q24\\n1498,40.823055267333984,-73.9527816772461,M4\\n1499,40.687801361083984,-73.7574462890625,Q84\\n1500,40.66654968261719,-73.92398071289062,B12\\n1501,40.69975662231445,-73.94139862060547,B15\\n1502,40.66880798339844,-73.72904205322266,Q5\\n1503,40.691856384277344,-73.86387634277344,Q56\\n1504,40.68198776245117,-73.96891784667969,B45\\n1505,40.76594543457031,-73.97684478759766,M5\\n1506,40.845603942871094,-73.8448257446289,BX24\\n1507,40.77177429199219,-73.98290252685547,M11\\n1508,40.67285919189453,-73.87132263183594,B14\\n1509,40.69469451904297,-73.84809112548828,Q56\\n1510,40.70064926147461,-73.78929138183594,Q85\\n1511,40.67378234863281,-73.7637939453125,Q3\\n1512,40.7657470703125,-73.97193145751953,M4\\n1513,40.672386169433594,-73.9572982788086,B45\\n1514,40.78462600708008,-73.94798278808594,M96\\n1515,40.665977478027344,-73.73600006103516,Q5\\n1516,40.755069732666016,-73.88623809814453,Q32\\n1517,40.707313537597656,-73.94827270507812,B48\\n1518,40.661376953125,-73.72142028808594,Q85\\n1519,40.60595703125,-73.95606994628906,B2\\n1520,40.68484878540039,-73.72730255126953,Q84\\n1521,40.76134490966797,-73.83102416992188,Q17\\n1522,40.71004867553711,-73.86773681640625,Q54\\n1523,40.69791793823242,-73.78568267822266,Q4\\n1524,40.588104248046875,-73.91988372802734,B31\\n1525,40.82014846801758,-73.95519256591797,M11\\n1526,40.69382095336914,-73.99043273925781,B38\\n1527,40.76242446899414,-73.97225189208984,Q32\\n1528,40.79937744140625,-73.94342041015625,M116\\n1529,40.694236755371094,-73.78134155273438,Q5\\n1530,40.83807373046875,-73.93851470947266,M2\\n1531,40.661376953125,-73.72142028808594,Q5\\n1532,40.71295928955078,-73.78252410888672,Q17\\n1533,40.78168487548828,-73.95819854736328,M3\\n1534,40.75421142578125,-73.8106918334961,Q27\\n1535,40.61479568481445,-73.98041534423828,B6\\n1536,40.59097671508789,-73.96543884277344,B1\\n1537,40.73543167114258,-73.74872589111328,Q46\\n1538,40.76030349731445,-73.82991027832031,Q27\\n1539,40.57811737060547,-73.94102478027344,B1\\n1540,40.63279724121094,-73.9291000366211,B6\\n1541,40.57725524902344,-73.96308898925781,B1\\n1542,40.709999084472656,-73.79473114013672,Q43\\n1543,40.614688873291016,-73.98052978515625,B6\\n1544,40.634239196777344,-73.94915008544922,B6\\n1545,40.619083404541016,-74.022216796875,B1\\n1546,40.730587005615234,-73.74370574951172,Q43\\n1547,40.75971603393555,-73.83021545410156,Q27\\n1548,40.59937286376953,-73.98963165283203,B1\\n1549,40.71586227416992,-73.7713851928711,Q43\\n1550,40.606021881103516,-74.00061798095703,B1\\n1551,40.715721130371094,-73.83269500732422,Q46\\n1552,40.58720779418945,-73.96110534667969,B36\\n1553,40.700523376464844,-73.807861328125,Q43\\n1554,40.75249099731445,-73.7904281616211,Q27\\n1555,40.599063873291016,-73.9540786743164,B3\\n1556,40.70064926147461,-73.78929138183594,Q5\\n1557,40.674781799316406,-73.92572784423828,B15\\n1558,40.72567367553711,-73.79169464111328,Q30\\n1559,40.65489959716797,-73.9617919921875,B12\\n1560,40.680023193359375,-73.94322967529297,B25\\n1561,40.70233917236328,-73.80039978027344,Q85\\n1562,40.652435302734375,-73.89120483398438,B6\\n1563,40.70242691040039,-73.80008697509766,Q5\\n1564,40.65133285522461,-73.89276123046875,B6\\n1565,40.65119552612305,-73.88976287841797,B82\\n1566,40.67936325073242,-73.77291107177734,Q85\\n1567,40.668766021728516,-73.86868286132812,B15\\n1568,40.602657318115234,-73.9930648803711,B82\\n1569,40.680137634277344,-73.95545959472656,B49\\n1570,40.63764953613281,-73.89398193359375,B42\\n1571,40.73896789550781,-73.79463958740234,Q17\\n1572,40.680625915527344,-73.90647888183594,Q24\\n1573,40.640926361083984,-73.90674591064453,B17\\n1574,40.70653533935547,-73.8969497680664,Q58\\n1575,40.692176818847656,-73.76607513427734,Q4\\n1576,40.70133972167969,-73.80301666259766,Q4\\n1577,40.69887161254883,-73.9570083618164,B44\\n1578,40.662540435791016,-73.93463134765625,B12\\n1579,40.74028778076172,-73.78649139404297,Q17\\n1580,40.84534454345703,-73.89685821533203,BX15\\n1581,40.80914306640625,-73.80187225341797,BX40\\n1582,40.780887603759766,-73.95455932617188,M102\\n1583,40.794395446777344,-73.97119903564453,M106\\n1584,40.826499938964844,-73.95498657226562,M11\\n1585,40.7545280456543,-73.9801254272461,M3\\n1586,40.903106689453125,-73.8496322631836,BX39\\n1587,40.877315521240234,-73.86628723144531,BX41\\n1588,40.81928253173828,-73.91631317138672,BX41\\n1589,40.8153190612793,-73.91590881347656,BX4A\\n1590,40.73462677001953,-73.99461364746094,M3\\n1591,40.812950134277344,-73.82717895507812,BX42\\n1592,40.833290100097656,-73.86165618896484,BX4A\\n1593,40.82023239135742,-73.94656372070312,M3\\n1594,40.824073791503906,-73.91390991210938,BX41\\n1595,40.82472229003906,-73.89192962646484,BX5\\n1596,40.840980529785156,-73.93953704833984,M2\\n1597,40.826717376708984,-73.88800811767578,BX4\\n1598,40.8096923828125,-73.92833709716797,BX2\\n1599,40.910125732421875,-73.89659881591797,BX9\\n1600,40.88678741455078,-73.89954376220703,BX9\\n1601,40.82196807861328,-73.87528991699219,BX5\\n1602,40.75263977050781,-73.98149108886719,M3\\n1603,40.66619873046875,-73.93136596679688,B17\\n1604,40.654117584228516,-73.96176147460938,B12\\n1605,40.66145324707031,-73.91895294189453,B15\\n1606,40.67327880859375,-73.95703125,B45\\n1607,40.66584396362305,-73.89432525634766,B83\\n1608,40.85253143310547,-73.9037094116211,BX2\\n1609,40.85171127319336,-73.86802673339844,BX22\\n1610,40.672935485839844,-73.87078857421875,B14\\n1611,40.796142578125,-73.9323501586914,M116\\n1612,40.72984313964844,-73.95779418945312,B24\\n1613,40.74839401245117,-73.98458862304688,M2\\n1614,40.73993682861328,-73.9907455444336,M55\\n1615,40.636680603027344,-73.91910552978516,B47\\n1616,40.70037078857422,-73.80870819091797,Q30\\n1617,40.69535446166992,-73.9871597290039,B62\\n1618,40.816287994384766,-73.91850280761719,BX19\\n1619,40.69585037231445,-73.95639038085938,B44+\\n1620,40.78662109375,-73.95275115966797,M96\\n1621,40.807830810546875,-73.94564056396484,BX15\\n1622,40.812965393066406,-73.90784454345703,BX19\\n1623,40.741065979003906,-74.00565338134766,M11\\n1624,40.78717041015625,-73.95405578613281,M96\\n1625,40.830081939697266,-73.94168090820312,M3\\n1626,40.77232360839844,-73.97880554199219,M10\\n1627,40.80268478393555,-73.96318817138672,M4\\n1628,40.837364196777344,-73.94005584716797,M3\\n1629,40.7621955871582,-73.99359130859375,M11\\n1630,40.72652816772461,-73.99584197998047,M55\\n1631,40.8345947265625,-73.94903564453125,BX6\\n1632,40.81056213378906,-73.94727325439453,M2\\n1633,40.61951446533203,-73.94549560546875,B44+\\n1634,40.813873291015625,-73.95671081542969,BX15\\n1635,40.82490539550781,-73.95166015625,M4\\n1636,40.82205581665039,-73.90042877197266,BX6\\n1637,40.798500061035156,-73.96341705322266,M11\\n1638,40.79434585571289,-73.97108459472656,M106\\n1639,40.84858322143555,-73.90276336669922,BX36\\n1640,40.843814849853516,-73.89761352539062,BX15\\n1641,40.79000473022461,-73.97331237792969,M11\\n1642,40.84907531738281,-73.89076232910156,BX36\\n1643,40.750511169433594,-73.99469757080078,M20\\n1644,40.73924255371094,-73.98696899414062,M2\\n1645,40.79469680786133,-73.971923828125,M96\\n1646,40.82276153564453,-73.85845184326172,BX36\\n1647,40.76332473754883,-73.97369384765625,M5\\n1648,40.84735107421875,-73.93810272216797,M5\\n1649,40.63233947753906,-73.93608856201172,B6\\n1650,40.578025817871094,-73.9402084350586,B1\\n1651,40.63645553588867,-73.91181945800781,B6\\n1652,40.752235412597656,-73.98179626464844,SIM33C\\n1653,40.74236297607422,-73.99319458007812,SIM3C\\n1654,40.59892654418945,-73.9857177734375,B3\\n1655,40.588165283203125,-73.95242309570312,B36\\n1656,40.57710647583008,-73.97267150878906,B36\\n1657,40.63250732421875,-73.93344116210938,B6\\n1658,40.702030181884766,-73.81015014648438,Q56\\n1659,40.680328369140625,-73.89280700683594,Q56\\n1660,40.692134857177734,-73.99119567871094,B45\\n1661,40.60002899169922,-73.94544219970703,B3\\n1662,40.625213623046875,-73.96107482910156,B6\\n1663,40.60578918457031,-74.0002212524414,B1\\n1664,40.65273666381836,-73.88617706298828,B82\\n1665,40.68818664550781,-73.97917938232422,B25\\n1666,40.66738510131836,-73.87236785888672,B15\\n1667,40.6904296875,-73.98478698730469,B25\\n1668,40.670406341552734,-73.8572998046875,B15\\n1669,40.66986846923828,-73.84718322753906,B15\\n1670,40.59116744995117,-73.99208068847656,B82\\n1671,40.678131103515625,-73.95819854736328,B65\\n1672,40.67757797241211,-73.90226745605469,B83\\n1673,40.6220817565918,-73.93630981445312,B82\\n1674,40.63848876953125,-73.8949203491211,B42\\n1675,40.69453048706055,-73.8489761352539,Q56\\n1676,40.58610916137695,-73.9881591796875,B82\\n1677,40.632511138916016,-73.89738464355469,B17\\n1678,40.81352233886719,-73.95310974121094,M104\\n1679,40.653114318847656,-73.8668441772461,B84\\n1680,40.67551040649414,-73.92770385742188,B65\\n1681,40.68874740600586,-73.9207992553711,Q24\\n1682,40.66530227661133,-73.88269805908203,B6\\n1683,40.610511779785156,-74.01402282714844,B64\\n1684,40.57804489135742,-73.95928192138672,B1\\n1685,40.60047912597656,-73.94136810302734,B3\\n1686,40.633914947509766,-73.9487533569336,B6\\n1687,40.61543655395508,-73.97976684570312,B6\\n1688,40.690608978271484,-74.01112365722656,SIM33C\\n1689,40.6069221496582,-73.98860931396484,B6\\n1690,40.62725830078125,-74.12516784667969,S54\\n1691,40.61860656738281,-74.06946563720703,S51\\n1692,40.84895324707031,-73.9328842163086,BX3\\n1693,40.855003356933594,-73.91094207763672,BX3\\n1694,40.84959030151367,-73.93438720703125,BX13\\n1695,40.85224533081055,-73.93468475341797,M100\\n1696,40.8214225769043,-73.9292984008789,BX13\\n1697,40.62528991699219,-74.15031433105469,S48\\n1698,40.80378723144531,-73.93602752685547,M100\\n1699,40.57060623168945,-74.14823913574219,S54\\n1700,40.81284713745117,-73.95582580566406,M100\\n1701,40.61783218383789,-74.02670288085938,S53\\n1702,40.80589294433594,-73.94100189208984,M100\\n1703,40.63634490966797,-74.0760498046875,S76\\n1704,40.88275146484375,-73.90830993652344,BX7\\n1705,40.59815979003906,-74.0763931274414,S53\\n1706,40.84319305419922,-73.93917846679688,M100\\n1707,40.605255126953125,-74.04885864257812,S53\\n1708,40.86965560913086,-73.90374755859375,BX3\\n1709,40.806148529052734,-73.94160461425781,M100\\n1710,40.83740997314453,-73.94004821777344,M100\\n1711,40.85952377319336,-73.9312515258789,M100\\n1712,40.54252624511719,-74.14604949951172,S54\\n1713,40.808616638183594,-73.94750213623047,M100\\n1714,40.628726959228516,-74.11894226074219,S48\\n1715,40.6268310546875,-74.16322326660156,S48\\n1716,40.647796630859375,-73.78070068359375,B15\\n1717,40.6602897644043,-73.93975830078125,B12\\n1718,40.676719665527344,-73.90028381347656,B25\\n1719,40.701805114746094,-73.80880737304688,Q56\\n1720,40.64413833618164,-73.90119171142578,B42\\n1721,40.68307876586914,-73.97399139404297,B45\\n1722,40.65654754638672,-73.91351318359375,B15\\n1723,40.617218017578125,-73.94357299804688,B82\\n1724,40.6710205078125,-73.85140228271484,B15\\n1725,40.651065826416016,-73.87554168701172,B83\\n1726,40.60795974731445,-73.96018981933594,B82\\n1727,40.70195007324219,-73.80198669433594,Q24\\n1728,40.70269012451172,-73.79874420166016,Q24\\n1729,40.644962310791016,-73.78937530517578,B15\\n1730,40.65700149536133,-73.9039306640625,B15\\n1731,40.689605712890625,-73.98845672607422,B65\\n1732,40.65498352050781,-73.88231658935547,B83\\n1733,40.61793899536133,-74.08088684082031,S76\\n1734,40.5798454284668,-74.16333770751953,S61\\n1735,40.853816986083984,-73.83873748779297,BX24\\n1736,40.86309051513672,-73.89644622802734,BX2\\n1737,40.88275146484375,-73.88916015625,BX2\\n1738,40.84709930419922,-73.86678314208984,BX22\\n1739,40.86391067504883,-73.89429473876953,BX22\\n1740,40.86157989501953,-73.82294464111328,BX28\\n1741,40.88075637817383,-73.87858581542969,BX38\\n1742,40.8729362487793,-73.85247802734375,BX38\\n1743,40.898338317871094,-73.85031127929688,BX16\\n1744,40.826419830322266,-73.95530700683594,BX19\\n1745,40.847774505615234,-73.88324737548828,BX19\\n1746,40.82782745361328,-73.86042022705078,BX36\\n1747,40.80756378173828,-73.8523178100586,BX39\\n1748,40.81218719482422,-73.90430450439453,BX19\\n1749,40.85297775268555,-73.8919448852539,BX15\\n1750,40.598514556884766,-74.07913970947266,S79+\\n1751,40.878875732421875,-73.9048843383789,BX9\\n1752,40.611637115478516,-74.1395034790039,S62\\n1753,40.82365036010742,-73.94383239746094,BX19\\n1754,40.8317756652832,-73.9434814453125,BX6\\n1755,40.8231086730957,-73.85852813720703,BX36\\n1756,40.8493766784668,-73.9168472290039,BX36\\n1757,40.860755920410156,-73.88054656982422,BX19\\n1758,40.612483978271484,-74.13157653808594,S61\\n1759,40.8476676940918,-73.88790130615234,BX36\\n1760,40.69111251831055,-73.98751831054688,B57\\n1761,40.80571365356445,-73.94058227539062,M101\\n1762,40.68988800048828,-73.98344421386719,B26\\n1763,40.68670654296875,-73.97549438476562,B26\\n1764,40.683773040771484,-73.91203308105469,B60\\n1765,40.78129196166992,-73.95427703857422,M103\\n1766,40.84135055541992,-73.93582153320312,M101\\n1767,40.70320129394531,-73.91748046875,B13\\n1768,40.843231201171875,-73.91211700439453,BX1\\n1769,40.67498016357422,-73.9295425415039,B65\\n1770,40.85934066772461,-73.88690948486328,BX9\\n1771,40.63784408569336,-74.07718658447266,S66\\n1772,40.84905242919922,-73.93692016601562,M100\\n1773,40.84312057495117,-73.92376708984375,BX13\\n1774,40.61642837524414,-74.02651977539062,S93\\n1775,40.862571716308594,-73.92994689941406,BX7\\n1776,40.857337951660156,-73.90962219238281,BX3\\n1777,40.636226654052734,-74.08258056640625,S46\\n1778,40.849098205566406,-73.9332275390625,BX3\\n1779,40.86832809448242,-73.90130615234375,BX3\\n1780,40.57899475097656,-74.11499786376953,S76\\n1781,40.58494186401367,-74.07147979736328,S51\\n1782,40.88069534301758,-73.87860870361328,BX10\\n1783,40.57673645019531,-74.10423278808594,S51\\n1784,40.88644790649414,-73.83121490478516,BX16\\n1785,40.59280014038086,-74.06913757324219,S52\\n1786,40.88063430786133,-73.87757110595703,BX30\\n1787,40.62644577026367,-74.1298828125,S48\\n1788,40.877479553222656,-73.87967681884766,BX16\\n1789,40.8436164855957,-73.7851333618164,BX29\\n1790,40.61565017700195,-74.0840072631836,S76\\n1791,40.87105178833008,-73.82903289794922,BX28\\n1792,40.63364791870117,-74.12869262695312,S46\\n1793,40.613792419433594,-74.10099029541016,S66\\n1794,40.8640022277832,-73.82491302490234,BX30\\n1795,40.612998962402344,-74.12370300292969,S66\\n1796,40.627281188964844,-74.16657257080078,S46\\n1797,40.861122131347656,-73.82404327392578,BX26\\n1798,40.84806823730469,-73.9189224243164,BX3\\n1799,40.866004943847656,-73.89452362060547,BX28\\n1800,40.878841400146484,-73.87351989746094,BX28\\n1801,40.56061935424805,-74.10323333740234,S76\\n1802,40.632205963134766,-74.15811157226562,S46\\n1803,40.86878204345703,-73.84302520751953,BX28\\n1804,40.6282958984375,-74.1664810180664,S40\\n1805,40.638282775878906,-74.07852172851562,S48\\n1806,40.86674880981445,-73.82502746582031,BX38\\n1807,40.643558502197266,-74.07308197021484,S48\\n1808,40.68675994873047,-73.94561004638672,B52\\n1809,40.593788146972656,-73.94059753417969,B36\\n1810,40.62421798706055,-73.97023010253906,B6\\n1811,40.58735275268555,-73.95978546142578,B36\\n1812,40.710975646972656,-73.85409545898438,Q54\\n1813,40.65083694458008,-73.87545013427734,B83\\n1814,40.738285064697266,-73.80859375,Q17\\n1815,40.67295837402344,-73.92219543457031,B47\\n1816,40.66859436035156,-73.93162536621094,B17\\n1817,40.73870849609375,-73.87748718261719,Q58\\n1818,40.644222259521484,-73.90127563476562,B6\\n1819,40.70230484008789,-73.800537109375,Q4\\n1820,40.66304016113281,-73.93199920654297,B17\\n1821,40.67976760864258,-73.72987365722656,Q84\\n1822,40.69878005981445,-73.8338394165039,Q56\\n1823,40.663814544677734,-73.88810729980469,B83\\n1824,40.65491485595703,-73.88549041748047,B6\\n1825,40.57784652709961,-73.96043395996094,B1\\n1826,40.7052116394043,-73.79554748535156,Q54\\n1827,40.707801818847656,-73.83675384521484,Q54\\n1828,40.74475860595703,-73.9728012084961,M15\\n1829,40.6718635559082,-73.91180419921875,B12\\n1830,40.68341827392578,-73.9356918334961,B26\\n1831,40.70173645019531,-74.01132202148438,M15\\n1832,40.79909133911133,-73.94127655029297,M103\\n1833,40.73441696166992,-73.9863510131836,M102\\n1834,40.660282135009766,-73.90833282470703,B60\\n1835,40.694122314453125,-73.9599838256836,B54\\n1836,40.71339416503906,-73.91403198242188,Q54\\n1837,40.6988639831543,-73.9098892211914,B26\\n1838,40.692325592041016,-73.9872817993164,B57\\n1839,40.69807815551758,-73.92520904541016,B54\\n1840,40.69154739379883,-73.99117279052734,B57\\n1841,40.69912338256836,-73.92295837402344,B60\\n1842,40.67410659790039,-73.99807739257812,B57\\n1843,40.60773849487305,-73.96194458007812,B7\\n1844,40.699554443359375,-73.83241271972656,Q55\\n1845,40.70175552368164,-73.80765533447266,Q54\\n1846,40.84314727783203,-73.84723663330078,BX42\\n1847,40.81435012817383,-73.9208984375,BX2\\n1848,40.83194351196289,-73.86224365234375,BX39\\n1849,40.85734558105469,-73.89977264404297,BX1\\n1850,40.831085205078125,-73.92054748535156,BX1\\n1851,40.84590148925781,-73.86636352539062,BX39\\n1852,40.84940719604492,-73.88279724121094,BX9\\n1853,40.85981750488281,-73.89111328125,BX15\\n1854,40.844173431396484,-73.86573028564453,BX39\\n1855,40.57938766479492,-73.98016357421875,B68\\n1856,40.90670394897461,-73.8965072631836,BX9\\n1857,40.613555908203125,-74.02322387695312,B8\\n1858,40.58562469482422,-73.93132019042969,B4\\n1859,40.648948669433594,-73.97158813476562,B68\\n1860,40.64902877807617,-74.00621795654297,B63\\n1861,40.67361831665039,-73.98921966552734,B61\\n1862,40.830169677734375,-73.90624237060547,BX15\\n1863,40.86246109008789,-73.89693450927734,BX1\\n1864,40.861881256103516,-73.8674545288086,BX39\\n1865,40.875064849853516,-73.87325286865234,BX41\\n1866,40.694190979003906,-73.93031311035156,B47\\n1867,40.852333068847656,-73.9200668334961,BX42\\n1868,40.85675811767578,-73.87974548339844,BX12\\n1869,40.689456939697266,-73.96894073486328,B38\\n1870,40.690711975097656,-73.9854736328125,B38\\n1871,40.707679748535156,-73.91341400146484,B38\\n1872,40.67375946044922,-73.95933532714844,B45\\n1873,40.823856353759766,-73.86135864257812,BX5\\n1874,40.72327423095703,-73.95050811767578,B48\\n1875,40.70175552368164,-73.88312530517578,Q55\\n1876,40.69154357910156,-73.88137817382812,B13\\n1877,40.69871520996094,-73.90962982177734,B26\\n1878,40.68706130981445,-73.96263885498047,B52\\n1879,40.69416046142578,-73.95964050292969,B54\\n1880,40.8619499206543,-73.89102935791016,BX41\\n1881,40.83268356323242,-73.86123657226562,BX4\\n1882,40.6693000793457,-73.89568328857422,B14\\n1883,40.85801696777344,-73.8463134765625,BX12\\n1884,40.861656188964844,-73.81607818603516,BX12\\n1885,40.829586029052734,-73.87437438964844,BX4A\\n1886,40.863037109375,-73.81510925292969,BX12\\n1887,40.727149963378906,-73.93524932861328,B48\\n1888,40.67627716064453,-73.91650390625,B7\\n1889,40.70112228393555,-73.89044189453125,Q55\\n1890,40.866966247558594,-73.8962173461914,BX28\\n1891,40.83319091796875,-73.82830047607422,BX40\\n1892,40.85364532470703,-73.91780090332031,BX40\\n1893,40.7122917175293,-73.88819122314453,Q67\\n1894,40.75016784667969,-73.9396743774414,Q100\\n1895,40.59575271606445,-73.77484130859375,Q22\\n1896,40.70492935180664,-73.80907440185547,Q40\\n1897,40.612083435058594,-73.9249038696289,Q35\\n1898,40.704925537109375,-73.80908966064453,Q40\\n1899,40.850345611572266,-73.8513412475586,BXM10\\n1900,40.87464904785156,-73.84505462646484,BXM10\\n1901,40.74230194091797,-73.98694610595703,BXM9\\n1902,40.7479248046875,-73.98287963867188,BXM7\\n1903,40.77525329589844,-73.96501922607422,BXM7\\n1904,40.75358581542969,-73.98080444335938,BXM8\\n1905,40.72560119628906,-73.85084533691406,QM6\\n1906,40.73887634277344,-73.88855743408203,QM6\\n1907,40.84695053100586,-73.83219146728516,BXM8\\n1908,40.77042007446289,-73.96214294433594,BXM6\\n1909,40.759254455566406,-73.97666931152344,BXM10\\n1910,40.7432746887207,-73.9862289428711,BXM10\\n1911,40.807586669921875,-73.90579223632812,BXM9\\n1912,40.801666259765625,-73.93439483642578,BXM10\\n1913,40.802059173583984,-73.91657257080078,BXM7\\n1914,40.7483024597168,-73.98258972167969,BXM9\\n1915,40.601993560791016,-73.75342559814453,Q22\\n1916,40.698524475097656,-73.80833435058594,Q41\\n1917,40.750404357910156,-73.94026184082031,Q39\\n1918,40.858917236328125,-73.82691955566406,Q50\\n1919,40.879947662353516,-73.82295227050781,BX23\\n1920,40.854827880859375,-73.82575988769531,BX23\\n1921,40.647361755371094,-73.77986145019531,Q10\\n1922,40.7597541809082,-73.87666320800781,Q49\\n1923,40.676212310791016,-73.8192138671875,Q10\\n1924,40.707210540771484,-73.83157348632812,Q10\\n1925,40.706939697265625,-73.83171844482422,Q10\\n1926,40.64711380004883,-73.77946472167969,Q10\\n1927,40.713314056396484,-73.83004760742188,Q10\\n1928,40.690895080566406,-73.82644653320312,Q10\\n1929,40.66092300415039,-73.82379913330078,Q10\\n1930,40.871524810791016,-73.83055877685547,BX23\\n1931,40.870338439941406,-73.82584381103516,Q50\\n1932,40.80844497680664,-73.83390808105469,Q50\\n1933,40.706966400146484,-73.79496765136719,Q41\\n1934,40.56764221191406,-73.88240051269531,Q22\\n1935,40.66484069824219,-73.84904479980469,Q21\\n1936,40.695030212402344,-73.80819702148438,Q08\\n1937,40.763519287109375,-73.87861633300781,Q49\\n1938,40.74348831176758,-73.8957748413086,Q47\\n1939,40.761165618896484,-73.96367645263672,Q101\\n1940,40.67551803588867,-73.87129974365234,Q07\\n1941,40.70509719848633,-73.79589080810547,Q110\\n1942,40.59584426879883,-73.77255249023438,Q22\\n1943,40.693389892578125,-73.79447937011719,Q60\\n1944,40.59527587890625,-73.75474548339844,Q114\\n1945,40.725059509277344,-73.89498901367188,Q67\\n1946,40.77063751220703,-73.92723846435547,Q100\\n1947,40.77202606201172,-73.89535522460938,Q101\\n1948,40.74380111694336,-73.98795318603516,BXM11\\n1949,40.76517105102539,-73.8874282836914,Q69\\n1950,40.75334930419922,-73.9583511352539,Q102\\n1951,40.75119400024414,-73.89060974121094,Q49\\n1952,40.743003845214844,-73.94905853271484,Q67\\n1953,40.765018463134766,-73.88709259033203,Q47\\n1954,40.76045608520508,-73.8909912109375,Q47\\n1955,40.68807601928711,-73.79517364501953,Q06\\n1956,40.76100158691406,-73.96925354003906,BM4\\n1957,40.603939056396484,-73.75371551513672,Q22\\n1958,40.734375,-73.8740234375,Q60\\n1959,40.74790573120117,-73.88301849365234,Q33\\n1960,40.650787353515625,-73.8381576538086,Q41\\n1961,40.77153778076172,-73.926513671875,Q69\\n1962,40.721717834472656,-73.84384155273438,Q23\\n1963,40.76292419433594,-73.83195495605469,Q34\\n1964,40.73203659057617,-73.81499481201172,Q34\\n1965,40.77440643310547,-73.9323501586914,Q102\\n1966,40.70329666137695,-73.86730194091797,Q29\\n1967,40.58811569213867,-73.80631256103516,Q22\\n1968,40.61375427246094,-73.92696380615234,Q35\\n1969,40.75802230834961,-73.9197998046875,Q101\\n1970,40.75654220581055,-73.94001007080078,Q69\\n1971,40.71796417236328,-73.8724365234375,Q29\\n1972,40.75370788574219,-73.91458129882812,Q104\\n1973,40.747596740722656,-73.8829574584961,Q29\\n1974,40.770809173583984,-73.87591552734375,Q72\\n1975,40.74668884277344,-73.89141082763672,Q47\\n1976,40.751739501953125,-73.94198608398438,Q100\\n1977,40.74689865112305,-73.8912124633789,Q33\\n1978,40.693389892578125,-73.79447937011719,Q60\\n1979,40.75324249267578,-73.92369079589844,Q101\\n1980,40.72044372558594,-73.90850067138672,Q39\\n1981,40.74382781982422,-73.90011596679688,Q18\\n1982,40.68708801269531,-73.82457733154297,Q10\\n1983,40.7135009765625,-73.83023071289062,Q10\\n1984,40.67523956298828,-73.81145477294922,Q10\\n1985,40.660614013671875,-73.81050109863281,Q10\\n1986,40.67609405517578,-73.81853485107422,Q10\\n1987,40.70752716064453,-73.80333709716797,Q111\\n1988,40.707542419433594,-73.83129119873047,Q10\\n1989,40.68695831298828,-73.78459167480469,Q111\\n1990,40.70344924926758,-73.80267333984375,Q114\\n1991,40.76180648803711,-73.86869049072266,Q19\\n1992,40.7581672668457,-73.8232421875,Q65\\n1993,40.73590087890625,-73.8503189086914,Q38\\n1994,40.75751495361328,-73.86656188964844,Q23\\n1995,40.714561462402344,-73.8075180053711,Q34\\n1996,40.750511169433594,-73.81897735595703,Q25\\n1997,40.73563766479492,-73.81462860107422,Q25\\n1998,40.771427154541016,-73.84379577636719,Q65\\n1999,40.76841354370117,-73.83216857910156,Q25\\n2000,40.716712951660156,-73.8033447265625,Q65\\n2001,40.80220413208008,-73.93400573730469,BXM6\\n2002,40.769073486328125,-73.96952056884766,BXM9\\n2003,40.75800323486328,-73.82398223876953,Q65\\n2004,40.719215393066406,-73.8917465209961,Q38\\n2005,40.73748016357422,-73.93489074707031,QM15\\n2006,40.76662826538086,-73.83868408203125,Q65\\n2007,40.72639083862305,-73.84622192382812,Q23\\n2008,40.72682189941406,-73.87039947509766,QM15\\n2009,40.664146423339844,-73.87734985351562,BM5\\n2010,40.770259857177734,-73.91555786132812,Q19\\n2011,40.71440887451172,-73.80239868164062,Q65\\n2012,40.72908020019531,-73.8152084350586,Q34\\n2013,40.709529876708984,-74.00161743164062,BM3\\n2014,40.80274963378906,-73.93318939208984,BXM8\\n2015,40.82166290283203,-73.81343078613281,BXM9\\n2016,40.74789810180664,-73.94023132324219,Q69\\n2017,40.736602783203125,-73.8959732055664,Q18\\n2018,40.704368591308594,-73.81523895263672,Q60\\n2019,40.71321105957031,-73.82855224609375,Q60\\n2020,40.6781120300293,-73.83052825927734,Q37\\n2021,40.767757415771484,-73.92317962646484,Q18\\n2022,40.73722839355469,-73.8660659790039,Q72\\n2023,40.773948669433594,-73.89276885986328,Q100\\n2024,40.75285720825195,-73.90586853027344,Q18\\n2025,40.75542068481445,-73.82460021972656,Q34\\n2026,40.744850158691406,-73.85572052001953,Q23\\n2027,40.76195526123047,-73.83133697509766,Q25\\n2028,40.754730224609375,-73.9417495727539,Q66\\n2029,40.7402458190918,-73.94335174560547,QM2\\n2030,40.730464935302734,-73.78174591064453,QM5\\n2031,40.75651931762695,-73.87598419189453,Q66\\n2032,40.76231384277344,-73.8315658569336,Q25\\n2033,40.72075653076172,-73.84634399414062,Q23\\n2034,40.75529098510742,-73.86524200439453,Q23\\n2035,40.7773551940918,-73.84617614746094,Q65\\n2036,40.69919967651367,-73.80702209472656,Q25\\n2037,40.757179260253906,-73.82709503173828,Q34\\n2038,40.72532272338867,-73.87859344482422,Q38\\n2039,40.771915435791016,-73.92483520507812,Q19\\n2040,40.754119873046875,-73.89982604980469,Q66\\n2041,40.70737075805664,-74.01322937011719,BM1\\n2042,40.73352813720703,-73.81487274169922,Q25\\n2043,40.737308502197266,-73.97946166992188,BM2\\n2044,40.75535583496094,-73.88707733154297,QM20\\n2045,40.77992248535156,-73.95948028564453,BXM3\\n2046,40.786865234375,-73.8226318359375,QM2\\n2047,40.77332305908203,-73.95799255371094,BXM10\\n2048,40.80767822265625,-73.90540313720703,BXM7\\n2049,40.75358200073242,-73.98503875732422,BXM2\\n2050,40.802127838134766,-73.93279266357422,BXM11\\n2051,40.87061309814453,-73.82579803466797,BXM7\\n2052,40.80370330810547,-73.91424560546875,BXM7\\n2053,40.745384216308594,-73.97838592529297,BXM1\\n2054,40.82209777832031,-73.93095397949219,BXM2\\n2055,40.70178985595703,-73.80738067626953,Q08\\n2056,40.704437255859375,-73.79763793945312,Q08\\n2057,40.67477035522461,-73.80621337890625,Q09\\n2058,40.668907165527344,-73.81168365478516,Q37\\n2059,40.7269172668457,-73.85291290283203,Q60\\n2060,40.68732833862305,-73.83235931396484,Q37\\n2061,40.67001724243164,-73.79618835449219,Q40\\n2062,40.686126708984375,-73.79375457763672,Q06\\n2063,40.75395584106445,-73.97846984863281,BM3\\n2064,40.87824249267578,-73.90789794921875,BXM1\\n2065,40.68476867675781,-73.84432983398438,Q08\\n2066,40.73427963256836,-73.87374877929688,Q60\\n2067,40.7425537109375,-73.91165161132812,Q60\\n2068,40.68035888671875,-73.84220123291016,Q07\\n2069,40.71391296386719,-73.83024597167969,Q60\\n2070,40.72157287597656,-73.84366607666016,Q60\\n2071,40.70404052734375,-73.79862976074219,Q06\\n2072,40.74610137939453,-73.90316009521484,Q53+\\n2073,40.68761444091797,-73.79486083984375,Q06\\n2074,40.720062255859375,-73.8412857055664,Q60\\n2075,40.67569351196289,-73.87013244628906,Q08\\n2076,40.6299934387207,-73.9054183959961,BM2\\n2077,40.74574661254883,-73.90332794189453,Q53+\\n2078,40.5819206237793,-73.83760070800781,Q53+\\n2079,40.73863983154297,-73.93954467773438,QM20\\n2080,40.74533462524414,-73.93792724609375,QM5\\n2081,40.82109069824219,-73.92572784423828,BXM4\\n2082,40.814247131347656,-73.93082427978516,BXM2\\n2083,40.75044631958008,-73.97679138183594,BXM1\\n2084,40.71498489379883,-73.82830810546875,QM5\\n2085,40.746246337890625,-73.86823272705078,Q72\\n2086,40.733184814453125,-73.87086486816406,Q29\\n2087,40.74839401245117,-73.93885040283203,Q67\\n2088,40.770938873291016,-73.86552429199219,Q72\\n2089,40.75557327270508,-73.8853759765625,Q33\\n2090,40.776031494140625,-73.91053009033203,Q69\\n2091,40.74893569946289,-73.9374008178711,Q102\\n2092,40.7299919128418,-73.8611831665039,Q72\\n2093,40.696876525878906,-73.89460754394531,Q39\\n2094,40.715293884277344,-73.8719482421875,Q47\\n2095,40.76899719238281,-73.9611587524414,BXM1\\n2096,40.789756774902344,-73.95442199707031,BXM11\\n2097,40.74574661254883,-73.90332794189453,Q70+\\n2098,40.678688049316406,-73.84434509277344,Q52+\\n2099,40.88949966430664,-73.9095230102539,BXM2\\n2100,40.75836944580078,-73.97099304199219,BXM1\\n2101,40.75499725341797,-73.94149017333984,Q69\\n2102,40.76850891113281,-73.86275482177734,Q70+\\n2103,40.618896484375,-73.82469177246094,Q52+\\n2104,40.74504470825195,-73.9786376953125,BXM1\\n2105,40.78284454345703,-73.95314025878906,BXM1\\n2106,40.7684211730957,-73.86262512207031,Q70+\\n2107,40.74674606323242,-73.8906478881836,Q33\\n2108,40.766571044921875,-73.89189147949219,Q70+\\n2109,40.76662063598633,-73.89234161376953,Q70+\\n2110,40.78882598876953,-73.95510864257812,BXM3\\n2111,40.812538146972656,-73.89884185791016,BXM11\\n2112,40.746707916259766,-73.8930892944336,Q70+\\n2113,40.92878341674805,-73.89639282226562,BXM3\\n2114,40.746299743652344,-73.903076171875,Q70+\\n2115,40.712100982666016,-73.85963439941406,Q52+\\n2116,40.76516342163086,-73.88738250732422,Q69\\n2117,40.757965087890625,-73.85802459716797,Q66\\n2118,40.703224182128906,-73.80072021484375,Q65\\n2119,40.75975799560547,-73.83020782470703,Q66\\n2120,40.58793258666992,-73.93661499023438,BM3\\n2121,40.75658416748047,-73.81119537353516,Q65\\n2122,40.74971389770508,-73.93913269042969,Q66\\n2123,40.755062103271484,-73.81974792480469,Q65\\n2124,40.763858795166016,-73.86322021484375,Q23\\n2125,40.64510726928711,-73.9740219116211,BM4\\n2126,40.74618148803711,-73.95295715332031,Q103\\n2127,40.63214874267578,-73.94010925292969,B103\\n2128,40.633323669433594,-73.92091369628906,B103\\n2129,40.74494171142578,-73.98501586914062,BM2\\n2130,40.732032775878906,-73.97421264648438,BM1\\n2131,40.742122650146484,-73.95763397216797,QM4\\n2132,40.75344467163086,-73.97883605957031,BM4\\n2133,40.7541618347168,-73.8230972290039,Q25\\n2134,40.6920166015625,-73.98896026611328,B103\\n2135,40.68667221069336,-73.97980499267578,B103\\n2136,40.63230895996094,-73.94708251953125,B103\\n2137,40.61699295043945,-73.91558074951172,B100\\n2138,40.644325256347656,-73.9797134399414,B103\\n2139,40.63198471069336,-73.94271087646484,B103\\n2140,40.63302993774414,-73.91048431396484,B103\\n2141,40.74502944946289,-73.98495483398438,BXM3\\n2142,40.64231872558594,-73.9573974609375,B103\\n2143,40.69400405883789,-73.99042510986328,B103\\n2144,40.683387756347656,-73.97914123535156,B103\\n2145,40.6068000793457,-73.91598510742188,B100\\n2146,40.60968017578125,-73.95625305175781,B100\\n2147,40.63520431518555,-73.95014190673828,B103\\n2148,40.72876739501953,-73.88121032714844,QM5\\n2149,40.739952087402344,-73.92469024658203,Q39\\n2150,40.75453186035156,-73.82353973388672,Q34\\n2151,40.699440002441406,-73.80715942382812,Q25\\n2152,40.703582763671875,-73.8003158569336,Q25\\n2153,40.78263473510742,-73.84135437011719,Q25\\n2154,40.7122917175293,-73.88947296142578,Q38\\n2155,40.75785827636719,-73.93875885009766,Q66\\n2156,40.76254653930664,-73.97286987304688,QM2\\n2157,40.75139617919922,-73.94120025634766,Q102\\n2158,40.756446838378906,-73.94010162353516,Q69\\n2159,40.77059555053711,-73.93441009521484,Q103\\n2160,40.77653121948242,-73.90172576904297,Q100\\n2161,40.76441192626953,-73.88602447509766,Q33\\n2162,40.721397399902344,-73.84809112548828,Q23\\n2163,40.73689651489258,-73.85618591308594,Q38\\n2164,40.782127380371094,-73.82450103759766,QM2\\n2165,40.748592376708984,-73.98237609863281,BXM8\\n2166,40.80302429199219,-73.93632507324219,BXM9\\n2167,40.8089599609375,-73.94041442871094,BXM4\\n2168,40.63456344604492,-73.91876983642578,B103\\n2169,40.64997100830078,-73.89146423339844,B103\\n2170,40.64358901977539,-73.89025115966797,B103\\n2171,40.691158294677734,-73.9894027709961,B103\\n2172,40.609764099121094,-73.94462585449219,B100\\n2173,40.6561279296875,-73.98080444335938,B103\\n2174,40.6156120300293,-73.9140625,B100\\n2175,40.77717208862305,-73.96361541748047,BXM2\\n2176,40.766815185546875,-73.96907806396484,BXM11\\n2177,40.88909912109375,-73.8598861694336,BXM11\\n2178,40.777530670166016,-73.96124267578125,BXM2\\n2179,40.76638412475586,-73.89027404785156,Q19\\n2180,40.71293258666992,-73.80664825439453,Q25\\n2181,40.74622344970703,-73.85643768310547,Q23\\n2182,40.75505828857422,-73.88993072509766,Q66\\n2183,40.706729888916016,-73.85506439208984,Q23\\n2184,40.75785446166992,-73.862548828125,Q66\\n2185,40.671791076660156,-73.84320068359375,Q53+\\n2186,40.618186950683594,-73.74152374267578,Q113\\n2187,40.694313049316406,-73.7895736694336,Q111\\n2188,40.664154052734375,-73.76861572265625,Q111\\n2189,40.70752716064453,-73.80333709716797,Q111\\n2190,40.605140686035156,-73.75472259521484,Q114\\n2191,40.68348693847656,-73.78253173828125,Q111\\n2192,40.70752716064453,-73.80333709716797,Q113\\n2193,40.70223617553711,-73.7979736328125,Q114\\n2194,40.60261917114258,-73.74972534179688,Q113\\n2195,40.59527587890625,-73.75474548339844,Q113\\n2196,40.667633056640625,-73.77123260498047,Q111\\n2197,40.692535400390625,-73.78827667236328,Q111\\n2198,40.64940643310547,-73.75543212890625,Q114\\n2199,40.6824836730957,-73.78195190429688,Q113\\n2200,40.75996398925781,-73.84739685058594,Q19\\n2201,40.69844055175781,-73.80645751953125,Q34\\n2202,40.756107330322266,-73.8799057006836,Q66\\n2203,40.756874084472656,-73.8736572265625,Q66\\n2204,40.69922637939453,-73.80703735351562,Q65\\n2205,40.69575119018555,-73.80512237548828,Q09\\n2206,40.65464782714844,-73.86767578125,Q08\\n2207,40.733856201171875,-73.8147201538086,Q34\\n2208,40.74237823486328,-73.91004943847656,Q60\\n2209,40.73439407348633,-73.85033416748047,Q23\\n2210,40.71745300292969,-73.87647247314453,Q38\\n2211,40.75383758544922,-73.80487060546875,Q65\\n2212,40.70779037475586,-73.8592300415039,Q23\\n2213,40.743446350097656,-73.91954040527344,Q60\\n2214,40.698509216308594,-73.80654907226562,Q08\\n2215,40.716461181640625,-73.80313873291016,Q65\\n2216,40.68644714355469,-73.83843231201172,Q08\\n2217,40.70730209350586,-73.79544830322266,Q09\\n2218,40.675559997558594,-73.87100982666016,Q08\\n2219,40.75519943237305,-73.92218017578125,Q66\\n2220,40.73231506347656,-73.8049545288086,Q65\\n2221,40.77664566040039,-73.81648254394531,Q34\\n2222,40.699546813964844,-73.80721282958984,Q06\\n2223,40.782142639160156,-73.82449340820312,Q50\\n2224,40.734188079833984,-73.87216186523438,Q11\\n2225,40.66415023803711,-73.84972381591797,Q21\\n2226,40.706153869628906,-73.83806610107422,Q37\\n2227,40.67267608642578,-73.7865219116211,Q06\\n2228,40.58854675292969,-73.80340576171875,Q22\\n2229,40.58747482299805,-73.89804077148438,Q35\\n2230,40.713653564453125,-73.83038330078125,Q37\\n2231,40.742618560791016,-73.91529083251953,Q60\\n2232,40.58247756958008,-73.83621215820312,Q22\\n2233,40.67754364013672,-73.84385681152344,Q07\\n2234,40.709407806396484,-73.90447998046875,Q39\\n2235,40.686866760253906,-73.82261657714844,Q112\\n2236,40.71326446533203,-73.76610565185547,Q110\\n2237,40.582603454589844,-73.82778930664062,Q22\\n2238,40.610076904296875,-73.92291259765625,Q35\\n2239,40.69277572631836,-73.8161849975586,Q08\\n2240,40.68095016479492,-73.82685089111328,Q41\\n2241,40.659881591796875,-73.77389526367188,Q06\\n2242,40.581363677978516,-73.83856201171875,Q35\\n2243,40.701786041259766,-73.80777740478516,Q09\\n2244,40.69278335571289,-73.78845977783203,Q111\\n2245,40.667415618896484,-73.77106475830078,Q114\\n2246,40.67280960083008,-73.77513122558594,Q113\\n2247,40.67256164550781,-73.77494049072266,Q111\\n2248,40.65943145751953,-73.76068115234375,Q111\\n2249,40.659732818603516,-73.77375030517578,Q06\\n2250,40.70112609863281,-73.807861328125,Q09\\n2251,40.706172943115234,-73.79322052001953,Q110\\n2252,40.73807144165039,-73.88302612304688,Q60\\n2253,40.71566390991211,-73.74690246582031,Q110\\n2254,40.72349548339844,-73.86829376220703,Q21\\n2255,40.733673095703125,-73.87349700927734,Q21\\n2256,40.68190002441406,-73.8372573852539,Q112\\n2257,40.67494583129883,-73.80716705322266,Q07\\n2258,40.71636199951172,-73.86138916015625,Q11\\n2259,40.72789001464844,-73.85559844970703,Q60\\n2260,40.65620803833008,-73.86406707763672,Q08\\n2261,40.69425582885742,-73.79512023925781,Q60\\n2262,40.70736312866211,-73.79310607910156,Q06\\n2263,40.601898193359375,-73.75160217285156,Q22\\n2264,40.6768798828125,-73.80754089355469,Q09\\n2265,40.76445770263672,-73.93025207519531,Q104\\n2266,40.76887512207031,-73.92556762695312,Q18\\n2267,40.731346130371094,-73.88426208496094,Q47\\n2268,40.74657440185547,-73.89073181152344,Q49\\n2269,40.776145935058594,-73.91068267822266,Q69\\n2270,40.674041748046875,-73.7979736328125,Q07\\n2271,40.7055549621582,-73.79472351074219,Q41\\n2272,40.724853515625,-73.85053253173828,Q60\\n2273,40.74433898925781,-73.92735290527344,Q60\\n2274,40.662723541259766,-73.83306121826172,Q11\\n2275,40.67959976196289,-73.83678436279297,Q41\\n2276,40.76756286621094,-73.88180541992188,Q33\\n2277,40.56721878051758,-73.87054443359375,Q35\\n2278,40.711246490478516,-73.7283935546875,Q110\\n2279,40.731239318847656,-73.8194808959961,Q64\\n2280,40.68792724609375,-73.81993103027344,Q112\\n2281,40.69966125488281,-73.79386901855469,Q112\\n2282,40.72356414794922,-73.84477233886719,Q64\\n2283,40.60380554199219,-73.75405883789062,Q22\\n2284,40.5944709777832,-73.78813934326172,Q22\\n2285,40.66238784790039,-73.84182739257812,Q41\\n2286,40.655094146728516,-73.72655487060547,Q111\\n2287,40.722835540771484,-73.84439086914062,Q64\\n2288,40.70327377319336,-73.80257415771484,Q110\\n2289,40.730224609375,-73.82286071777344,Q64\\n2290,40.70086669921875,-73.80780029296875,Q06\\n2291,40.70283889770508,-73.85546875,Q11\\n2292,40.73041915893555,-73.80807495117188,Q64\\n2293,40.670936584472656,-73.84300231933594,Q53+\\n2294,40.62062454223633,-73.82551574707031,Q53+\\n2295,40.57986068725586,-73.8371353149414,Q53+\\n2296,40.70256042480469,-73.85537719726562,Q53+\\n2297,40.67632293701172,-73.843505859375,Q53+\\n2298,40.745994567871094,-73.89984130859375,Q53+\\n2299,40.69302749633789,-73.85172271728516,Q53+\\n2300,40.747039794921875,-73.90276336669922,Q53+\\n2301,40.58799362182617,-73.80756378173828,Q52+\\n2302,40.71306610107422,-73.85980987548828,Q52+\\n2303,40.73214340209961,-73.87128448486328,Q53+\\n2304,40.7337646484375,-73.87040710449219,Q53+\\n'}"
            ]
          },
          "metadata": {
            "tags": []
          },
          "execution_count": 23
        }
      ]
    },
    {
      "cell_type": "markdown",
      "metadata": {
        "id": "qclk8kGBgtrm",
        "colab_type": "text"
      },
      "source": [
        "## Convert real time location data to json format"
      ]
    },
    {
      "cell_type": "code",
      "metadata": {
        "id": "DZaAMdzM-Irg",
        "colab_type": "code",
        "colab": {}
      },
      "source": [
        "df2 = pd.read_csv('rt_mta_bus.csv')"
      ],
      "execution_count": 0,
      "outputs": []
    },
    {
      "cell_type": "code",
      "metadata": {
        "id": "AFNS_U2k-uWA",
        "colab_type": "code",
        "colab": {
          "base_uri": "https://localhost:8080/",
          "height": 204
        },
        "outputId": "8351e0c2-aeff-4d57-d2ba-6b9c1f7fb7a2"
      },
      "source": [
        "df2.head()"
      ],
      "execution_count": 25,
      "outputs": [
        {
          "output_type": "execute_result",
          "data": {
            "text/html": [
              "<div>\n",
              "<style scoped>\n",
              "    .dataframe tbody tr th:only-of-type {\n",
              "        vertical-align: middle;\n",
              "    }\n",
              "\n",
              "    .dataframe tbody tr th {\n",
              "        vertical-align: top;\n",
              "    }\n",
              "\n",
              "    .dataframe thead th {\n",
              "        text-align: right;\n",
              "    }\n",
              "</style>\n",
              "<table border=\"1\" class=\"dataframe\">\n",
              "  <thead>\n",
              "    <tr style=\"text-align: right;\">\n",
              "      <th></th>\n",
              "      <th>Unnamed: 0</th>\n",
              "      <th>latitude</th>\n",
              "      <th>longitude</th>\n",
              "      <th>route_id</th>\n",
              "    </tr>\n",
              "  </thead>\n",
              "  <tbody>\n",
              "    <tr>\n",
              "      <th>0</th>\n",
              "      <td>0</td>\n",
              "      <td>40.732166</td>\n",
              "      <td>-73.990166</td>\n",
              "      <td>M1</td>\n",
              "    </tr>\n",
              "    <tr>\n",
              "      <th>1</th>\n",
              "      <td>1</td>\n",
              "      <td>40.728554</td>\n",
              "      <td>-74.004860</td>\n",
              "      <td>M21</td>\n",
              "    </tr>\n",
              "    <tr>\n",
              "      <th>2</th>\n",
              "      <td>2</td>\n",
              "      <td>40.712982</td>\n",
              "      <td>-74.013954</td>\n",
              "      <td>M9</td>\n",
              "    </tr>\n",
              "    <tr>\n",
              "      <th>3</th>\n",
              "      <td>3</td>\n",
              "      <td>40.714260</td>\n",
              "      <td>-74.008202</td>\n",
              "      <td>M9</td>\n",
              "    </tr>\n",
              "    <tr>\n",
              "      <th>4</th>\n",
              "      <td>4</td>\n",
              "      <td>40.714439</td>\n",
              "      <td>-74.015526</td>\n",
              "      <td>M20</td>\n",
              "    </tr>\n",
              "  </tbody>\n",
              "</table>\n",
              "</div>"
            ],
            "text/plain": [
              "   Unnamed: 0   latitude  longitude route_id\n",
              "0           0  40.732166 -73.990166       M1\n",
              "1           1  40.728554 -74.004860      M21\n",
              "2           2  40.712982 -74.013954       M9\n",
              "3           3  40.714260 -74.008202       M9\n",
              "4           4  40.714439 -74.015526      M20"
            ]
          },
          "metadata": {
            "tags": []
          },
          "execution_count": 25
        }
      ]
    },
    {
      "cell_type": "code",
      "metadata": {
        "id": "Y0SAp7Rr-ret",
        "colab_type": "code",
        "colab": {}
      },
      "source": [
        "df2_b82 = df2[df2['route_id'] == 'B82']"
      ],
      "execution_count": 0,
      "outputs": []
    },
    {
      "cell_type": "code",
      "metadata": {
        "id": "Idt9ETDT-yXe",
        "colab_type": "code",
        "colab": {
          "base_uri": "https://localhost:8080/",
          "height": 119
        },
        "outputId": "e6df58da-07a7-480e-f85c-48a8cea21138"
      },
      "source": [
        "df2_b82['lonlat'] = df2_b82[['longitude','latitude']].values.tolist()"
      ],
      "execution_count": 32,
      "outputs": [
        {
          "output_type": "stream",
          "text": [
            "/usr/local/lib/python3.6/dist-packages/ipykernel_launcher.py:1: SettingWithCopyWarning: \n",
            "A value is trying to be set on a copy of a slice from a DataFrame.\n",
            "Try using .loc[row_indexer,col_indexer] = value instead\n",
            "\n",
            "See the caveats in the documentation: http://pandas.pydata.org/pandas-docs/stable/indexing.html#indexing-view-versus-copy\n",
            "  \"\"\"Entry point for launching an IPython kernel.\n"
          ],
          "name": "stderr"
        }
      ]
    },
    {
      "cell_type": "code",
      "metadata": {
        "id": "rcDJkV_O-zb2",
        "colab_type": "code",
        "colab": {}
      },
      "source": [
        "df2_b82.reset_index(inplace=True)"
      ],
      "execution_count": 0,
      "outputs": []
    },
    {
      "cell_type": "code",
      "metadata": {
        "id": "71MLMbjj_OxC",
        "colab_type": "code",
        "colab": {}
      },
      "source": [
        "df2_b82[['lonlat']].to_json('b82_realtime.json')"
      ],
      "execution_count": 0,
      "outputs": []
    },
    {
      "cell_type": "code",
      "metadata": {
        "id": "jxheNw9F_cD9",
        "colab_type": "code",
        "colab": {}
      },
      "source": [
        "files.download('b82_realtime.json')"
      ],
      "execution_count": 0,
      "outputs": []
    },
    {
      "cell_type": "code",
      "metadata": {
        "id": "r0XJbgwK_n3O",
        "colab_type": "code",
        "colab": {}
      },
      "source": [
        ""
      ],
      "execution_count": 0,
      "outputs": []
    }
  ]
}
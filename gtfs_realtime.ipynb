{
  "nbformat": 4,
  "nbformat_minor": 0,
  "metadata": {
    "colab": {
      "name": "gtfs_realtime.ipynb",
      "version": "0.3.2",
      "provenance": []
    },
    "kernelspec": {
      "name": "python3",
      "display_name": "Python 3"
    }
  },
  "cells": [
    {
      "cell_type": "code",
      "metadata": {
        "id": "NVfWj_xeqcPm",
        "colab_type": "code",
        "outputId": "6f387a25-35e2-4402-cf03-801ff43d88b8",
        "colab": {
          "base_uri": "https://localhost:8080/",
          "height": 105
        }
      },
      "source": [
        "!pip install --upgrade gtfs-realtime-bindings\n"
      ],
      "execution_count": 0,
      "outputs": [
        {
          "output_type": "stream",
          "text": [
            "Requirement already up-to-date: gtfs-realtime-bindings in /usr/local/lib/python3.6/dist-packages (0.0.6)\n",
            "Requirement already satisfied, skipping upgrade: setuptools in /usr/local/lib/python3.6/dist-packages (from gtfs-realtime-bindings) (41.0.1)\n",
            "Requirement already satisfied, skipping upgrade: protobuf in /usr/local/lib/python3.6/dist-packages (from gtfs-realtime-bindings) (3.7.1)\n",
            "Requirement already satisfied, skipping upgrade: six>=1.9 in /usr/local/lib/python3.6/dist-packages (from protobuf->gtfs-realtime-bindings) (1.12.0)\n"
          ],
          "name": "stdout"
        }
      ]
    },
    {
      "cell_type": "code",
      "metadata": {
        "id": "-hPvJEKIq1Qh",
        "colab_type": "code",
        "outputId": "f43db95b-4c92-4e62-bf83-f9fa8f1529ab",
        "colab": {
          "base_uri": "https://localhost:8080/",
          "height": 360
        }
      },
      "source": [
        "!pip install --upgrade gtfs-realtime-bindings\n",
        "!pip install protobuf3_to_dict\n",
        "!pip install -U python-dotenv"
      ],
      "execution_count": 0,
      "outputs": [
        {
          "output_type": "stream",
          "text": [
            "Requirement already up-to-date: gtfs-realtime-bindings in /usr/local/lib/python3.6/dist-packages (0.0.6)\n",
            "Requirement already satisfied, skipping upgrade: setuptools in /usr/local/lib/python3.6/dist-packages (from gtfs-realtime-bindings) (41.0.1)\n",
            "Requirement already satisfied, skipping upgrade: protobuf in /usr/local/lib/python3.6/dist-packages (from gtfs-realtime-bindings) (3.7.1)\n",
            "Requirement already satisfied, skipping upgrade: six>=1.9 in /usr/local/lib/python3.6/dist-packages (from protobuf->gtfs-realtime-bindings) (1.12.0)\n",
            "Collecting protobuf3_to_dict\n",
            "  Downloading https://files.pythonhosted.org/packages/6b/55/522bb43539fed463275ee803d79851faaebe86d17e7e3dbc89870d0322b9/protobuf3-to-dict-0.1.5.tar.gz\n",
            "Requirement already satisfied: protobuf>=2.3.0 in /usr/local/lib/python3.6/dist-packages (from protobuf3_to_dict) (3.7.1)\n",
            "Requirement already satisfied: six in /usr/local/lib/python3.6/dist-packages (from protobuf3_to_dict) (1.12.0)\n",
            "Requirement already satisfied: setuptools in /usr/local/lib/python3.6/dist-packages (from protobuf>=2.3.0->protobuf3_to_dict) (41.0.1)\n",
            "Building wheels for collected packages: protobuf3-to-dict\n",
            "  Building wheel for protobuf3-to-dict (setup.py) ... \u001b[?25l\u001b[?25hdone\n",
            "  Stored in directory: /root/.cache/pip/wheels/37/42/d8/1609d310cabebc2cf60eca038fa2b0c8503412963734a6fc31\n",
            "Successfully built protobuf3-to-dict\n",
            "Installing collected packages: protobuf3-to-dict\n",
            "Successfully installed protobuf3-to-dict-0.1.5\n",
            "Collecting python-dotenv\n",
            "  Downloading https://files.pythonhosted.org/packages/57/c8/5b14d5cffe7bb06bedf9d66c4562bf90330d3d35e7f0266928c370d9dd6d/python_dotenv-0.10.3-py2.py3-none-any.whl\n",
            "Installing collected packages: python-dotenv\n",
            "Successfully installed python-dotenv-0.10.3\n"
          ],
          "name": "stdout"
        }
      ]
    },
    {
      "cell_type": "code",
      "metadata": {
        "id": "Vdd-hXtmqd1V",
        "colab_type": "code",
        "colab": {}
      },
      "source": [
        "  \n",
        "from google.transit import gtfs_realtime_pb2\n",
        "import requests\n",
        "import time # imports module for Epoch/GMT time conversion\n",
        "import os\n",
        "import pandas as pd"
      ],
      "execution_count": 0,
      "outputs": []
    },
    {
      "cell_type": "code",
      "metadata": {
        "id": "FPXmlsvRqoL4",
        "colab_type": "code",
        "colab": {}
      },
      "source": [
        "feed = gtfs_realtime_pb2.FeedMessage()"
      ],
      "execution_count": 0,
      "outputs": []
    },
    {
      "cell_type": "code",
      "metadata": {
        "id": "zFcqWwWKqwg_",
        "colab_type": "code",
        "outputId": "c330a21f-d0ac-4d3a-da63-dca00893e716",
        "colab": {
          "base_uri": "https://localhost:8080/",
          "height": 360
        }
      },
      "source": [
        "!pip install --upgrade requests"
      ],
      "execution_count": 0,
      "outputs": [
        {
          "output_type": "stream",
          "text": [
            "Collecting requests\n",
            "\u001b[?25l  Downloading https://files.pythonhosted.org/packages/51/bd/23c926cd341ea6b7dd0b2a00aba99ae0f828be89d72b2190f27c11d4b7fb/requests-2.22.0-py2.py3-none-any.whl (57kB)\n",
            "\u001b[K     |████████████████████████████████| 61kB 2.3MB/s \n",
            "\u001b[?25hRequirement already satisfied, skipping upgrade: idna<2.9,>=2.5 in /usr/local/lib/python3.6/dist-packages (from requests) (2.8)\n",
            "Requirement already satisfied, skipping upgrade: chardet<3.1.0,>=3.0.2 in /usr/local/lib/python3.6/dist-packages (from requests) (3.0.4)\n",
            "Requirement already satisfied, skipping upgrade: urllib3!=1.25.0,!=1.25.1,<1.26,>=1.21.1 in /usr/local/lib/python3.6/dist-packages (from requests) (1.24.3)\n",
            "Requirement already satisfied, skipping upgrade: certifi>=2017.4.17 in /usr/local/lib/python3.6/dist-packages (from requests) (2019.6.16)\n",
            "\u001b[31mERROR: google-colab 1.0.0 has requirement requests~=2.21.0, but you'll have requests 2.22.0 which is incompatible.\u001b[0m\n",
            "\u001b[31mERROR: datascience 0.10.6 has requirement folium==0.2.1, but you'll have folium 0.8.3 which is incompatible.\u001b[0m\n",
            "Installing collected packages: requests\n",
            "  Found existing installation: requests 2.21.0\n",
            "    Uninstalling requests-2.21.0:\n",
            "      Successfully uninstalled requests-2.21.0\n",
            "Successfully installed requests-2.22.0\n"
          ],
          "name": "stdout"
        },
        {
          "output_type": "display_data",
          "data": {
            "application/vnd.colab-display-data+json": {
              "pip_warning": {
                "packages": [
                  "requests"
                ]
              }
            }
          },
          "metadata": {
            "tags": []
          }
        }
      ]
    },
    {
      "cell_type": "code",
      "metadata": {
        "id": "ElZkegWBrXRw",
        "colab_type": "code",
        "colab": {}
      },
      "source": [
        "response = requests.get('http://gtfsrt.prod.obanyc.com/vehiclePositions?key=c68ab1f0-8b7a-4289-9429-33a67b960a23', allow_redirects=True)"
      ],
      "execution_count": 0,
      "outputs": []
    },
    {
      "cell_type": "code",
      "metadata": {
        "id": "XFl6Zw1Grh-N",
        "colab_type": "code",
        "outputId": "229c0e27-c598-4105-9215-9a593db958bb",
        "colab": {
          "base_uri": "https://localhost:8080/",
          "height": 34
        }
      },
      "source": [
        "feed.ParseFromString(response.content)"
      ],
      "execution_count": 0,
      "outputs": [
        {
          "output_type": "execute_result",
          "data": {
            "text/plain": [
              "266512"
            ]
          },
          "metadata": {
            "tags": []
          },
          "execution_count": 14
        }
      ]
    },
    {
      "cell_type": "code",
      "metadata": {
        "id": "Tu7GUHUlrkS2",
        "colab_type": "code",
        "outputId": "335c1274-c6b6-4031-eb6d-5308cc59628f",
        "colab": {
          "base_uri": "https://localhost:8080/",
          "height": 85
        }
      },
      "source": [
        "feed.entity[0].vehicle.trip"
      ],
      "execution_count": 0,
      "outputs": [
        {
          "output_type": "execute_result",
          "data": {
            "text/plain": [
              "trip_id: \"OF_C9-Weekday-069300_M1_106\"\n",
              "start_date: \"20190731\"\n",
              "route_id: \"M1\"\n",
              "direction_id: 0"
            ]
          },
          "metadata": {
            "tags": []
          },
          "execution_count": 52
        }
      ]
    },
    {
      "cell_type": "code",
      "metadata": {
        "id": "XnFwVbJ5rm4n",
        "colab_type": "code",
        "outputId": "3b0c9c20-3ef1-4408-8639-4fb1d43a44f7",
        "colab": {
          "base_uri": "https://localhost:8080/",
          "height": 68
        }
      },
      "source": [
        "feed.entity[0].vehicle.position"
      ],
      "execution_count": 0,
      "outputs": [
        {
          "output_type": "execute_result",
          "data": {
            "text/plain": [
              "latitude: 40.7321662902832\n",
              "longitude: -73.99016571044922\n",
              "bearing: 76.78946685791016"
            ]
          },
          "metadata": {
            "tags": []
          },
          "execution_count": 49
        }
      ]
    },
    {
      "cell_type": "code",
      "metadata": {
        "id": "Bl2D93ZatMx8",
        "colab_type": "code",
        "colab": {}
      },
      "source": [
        "bus_list = []\n",
        "for bus in feed.entity:\n",
        "  bus_dict = {}\n",
        "  bus_dict['route_id'] = bus.vehicle.trip.route_id\n",
        "  \n",
        "  bus_dict['latitude'] = bus.vehicle.position.latitude\n",
        "  bus_dict['longitude'] = bus.vehicle.position.longitude\n",
        "\n",
        "  bus_list.append(bus_dict)"
      ],
      "execution_count": 0,
      "outputs": []
    },
    {
      "cell_type": "code",
      "metadata": {
        "id": "WU7jpsujuFug",
        "colab_type": "code",
        "colab": {}
      },
      "source": [
        "bus_realtime_locs = pd.DataFrame(bus_list)"
      ],
      "execution_count": 0,
      "outputs": []
    },
    {
      "cell_type": "code",
      "metadata": {
        "id": "ZhTIqaDLuaHJ",
        "colab_type": "code",
        "colab": {}
      },
      "source": [
        "bus_realtime_locs.to_csv('rt_mta_bus.csv')"
      ],
      "execution_count": 0,
      "outputs": []
    },
    {
      "cell_type": "code",
      "metadata": {
        "id": "lgcvjhCvvkLB",
        "colab_type": "code",
        "colab": {}
      },
      "source": [
        "from google.colab import files\n",
        "files.download('rt_mta_bus.csv')"
      ],
      "execution_count": 0,
      "outputs": []
    },
    {
      "cell_type": "code",
      "metadata": {
        "id": "rRuSQBO5vrXd",
        "colab_type": "code",
        "colab": {}
      },
      "source": [
        ""
      ],
      "execution_count": 0,
      "outputs": []
    }
  ]
}